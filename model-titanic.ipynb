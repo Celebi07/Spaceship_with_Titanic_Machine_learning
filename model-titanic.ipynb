{
 "cells": [
  {
   "cell_type": "code",
   "execution_count": 1,
   "id": "887e927c",
   "metadata": {
    "_cell_guid": "b1076dfc-b9ad-4769-8c92-a6c4dae69d19",
    "_uuid": "8f2839f25d086af736a60e9eeb907d3b93b6e0e5",
    "execution": {
     "iopub.execute_input": "2023-04-10T07:06:40.092400Z",
     "iopub.status.busy": "2023-04-10T07:06:40.091876Z",
     "iopub.status.idle": "2023-04-10T07:06:40.108457Z",
     "shell.execute_reply": "2023-04-10T07:06:40.107057Z"
    },
    "papermill": {
     "duration": 0.039496,
     "end_time": "2023-04-10T07:06:40.111824",
     "exception": false,
     "start_time": "2023-04-10T07:06:40.072328",
     "status": "completed"
    },
    "tags": []
   },
   "outputs": [
    {
     "name": "stdout",
     "output_type": "stream",
     "text": [
      "/kaggle/input/titanic/train.csv\n",
      "/kaggle/input/titanic/test.csv\n",
      "/kaggle/input/titanic/gender_submission.csv\n"
     ]
    }
   ],
   "source": [
    "# This Python 3 environment comes with many helpful analytics libraries installed\n",
    "# It is defined by the kaggle/python Docker image: https://github.com/kaggle/docker-python\n",
    "# For example, here's several helpful packages to load\n",
    "\n",
    "import numpy as np # linear algebra\n",
    "import pandas as pd # data processing, CSV file I/O (e.g. pd.read_csv)\n",
    "\n",
    "# Input data files are available in the read-only \"../input/\" directory\n",
    "# For example, running this (by clicking run or pressing Shift+Enter) will list all files under the input directory\n",
    "\n",
    "import os\n",
    "for dirname, _, filenames in os.walk('/kaggle/input'):\n",
    "    for filename in filenames:\n",
    "        print(os.path.join(dirname, filename))\n",
    "\n",
    "# You can write up to 20GB to the current directory (/kaggle/working/) that gets preserved as output when you create a version using \"Save & Run All\" \n",
    "# You can also write temporary files to /kaggle/temp/, but they won't be saved outside of the current session"
   ]
  },
  {
   "cell_type": "code",
   "execution_count": 2,
   "id": "a5ff7108",
   "metadata": {
    "execution": {
     "iopub.execute_input": "2023-04-10T07:06:40.143359Z",
     "iopub.status.busy": "2023-04-10T07:06:40.142895Z",
     "iopub.status.idle": "2023-04-10T07:06:42.076230Z",
     "shell.execute_reply": "2023-04-10T07:06:42.074660Z"
    },
    "papermill": {
     "duration": 1.953059,
     "end_time": "2023-04-10T07:06:42.079632",
     "exception": false,
     "start_time": "2023-04-10T07:06:40.126573",
     "status": "completed"
    },
    "tags": []
   },
   "outputs": [],
   "source": [
    "import pandas as pd\n",
    "import numpy as np\n",
    "import seaborn as sns\n",
    "import matplotlib.pyplot as plt\n",
    "%matplotlib inline\n",
    "from sklearn.model_selection import train_test_split\n",
    "from sklearn.metrics import accuracy_score\n",
    "from sklearn.ensemble import RandomForestClassifier"
   ]
  },
  {
   "cell_type": "code",
   "execution_count": 3,
   "id": "95ecf76c",
   "metadata": {
    "execution": {
     "iopub.execute_input": "2023-04-10T07:06:42.114387Z",
     "iopub.status.busy": "2023-04-10T07:06:42.113892Z",
     "iopub.status.idle": "2023-04-10T07:06:42.146180Z",
     "shell.execute_reply": "2023-04-10T07:06:42.145092Z"
    },
    "papermill": {
     "duration": 0.054286,
     "end_time": "2023-04-10T07:06:42.149272",
     "exception": false,
     "start_time": "2023-04-10T07:06:42.094986",
     "status": "completed"
    },
    "tags": []
   },
   "outputs": [],
   "source": [
    "train = pd.read_csv(\"/kaggle/input/titanic/train.csv\")\n",
    "test = pd.read_csv(\"/kaggle/input/titanic/test.csv\")"
   ]
  },
  {
   "cell_type": "code",
   "execution_count": 4,
   "id": "2f07c9a0",
   "metadata": {
    "execution": {
     "iopub.execute_input": "2023-04-10T07:06:42.183023Z",
     "iopub.status.busy": "2023-04-10T07:06:42.181955Z",
     "iopub.status.idle": "2023-04-10T07:06:42.221484Z",
     "shell.execute_reply": "2023-04-10T07:06:42.219856Z"
    },
    "papermill": {
     "duration": 0.059689,
     "end_time": "2023-04-10T07:06:42.224185",
     "exception": false,
     "start_time": "2023-04-10T07:06:42.164496",
     "status": "completed"
    },
    "tags": []
   },
   "outputs": [
    {
     "name": "stdout",
     "output_type": "stream",
     "text": [
      "✔ Dataset Imported Successfully!\n",
      "\n",
      "It contains 891 rows and 12 columns.\n"
     ]
    },
    {
     "data": {
      "text/html": [
       "<div>\n",
       "<style scoped>\n",
       "    .dataframe tbody tr th:only-of-type {\n",
       "        vertical-align: middle;\n",
       "    }\n",
       "\n",
       "    .dataframe tbody tr th {\n",
       "        vertical-align: top;\n",
       "    }\n",
       "\n",
       "    .dataframe thead th {\n",
       "        text-align: right;\n",
       "    }\n",
       "</style>\n",
       "<table border=\"1\" class=\"dataframe\">\n",
       "  <thead>\n",
       "    <tr style=\"text-align: right;\">\n",
       "      <th></th>\n",
       "      <th>PassengerId</th>\n",
       "      <th>Survived</th>\n",
       "      <th>Pclass</th>\n",
       "      <th>Name</th>\n",
       "      <th>Sex</th>\n",
       "      <th>Age</th>\n",
       "      <th>SibSp</th>\n",
       "      <th>Parch</th>\n",
       "      <th>Ticket</th>\n",
       "      <th>Fare</th>\n",
       "      <th>Cabin</th>\n",
       "      <th>Embarked</th>\n",
       "    </tr>\n",
       "  </thead>\n",
       "  <tbody>\n",
       "    <tr>\n",
       "      <th>0</th>\n",
       "      <td>1</td>\n",
       "      <td>0</td>\n",
       "      <td>3</td>\n",
       "      <td>Braund, Mr. Owen Harris</td>\n",
       "      <td>male</td>\n",
       "      <td>22.0</td>\n",
       "      <td>1</td>\n",
       "      <td>0</td>\n",
       "      <td>A/5 21171</td>\n",
       "      <td>7.2500</td>\n",
       "      <td>NaN</td>\n",
       "      <td>S</td>\n",
       "    </tr>\n",
       "    <tr>\n",
       "      <th>1</th>\n",
       "      <td>2</td>\n",
       "      <td>1</td>\n",
       "      <td>1</td>\n",
       "      <td>Cumings, Mrs. John Bradley (Florence Briggs Th...</td>\n",
       "      <td>female</td>\n",
       "      <td>38.0</td>\n",
       "      <td>1</td>\n",
       "      <td>0</td>\n",
       "      <td>PC 17599</td>\n",
       "      <td>71.2833</td>\n",
       "      <td>C85</td>\n",
       "      <td>C</td>\n",
       "    </tr>\n",
       "    <tr>\n",
       "      <th>2</th>\n",
       "      <td>3</td>\n",
       "      <td>1</td>\n",
       "      <td>3</td>\n",
       "      <td>Heikkinen, Miss. Laina</td>\n",
       "      <td>female</td>\n",
       "      <td>26.0</td>\n",
       "      <td>0</td>\n",
       "      <td>0</td>\n",
       "      <td>STON/O2. 3101282</td>\n",
       "      <td>7.9250</td>\n",
       "      <td>NaN</td>\n",
       "      <td>S</td>\n",
       "    </tr>\n",
       "    <tr>\n",
       "      <th>3</th>\n",
       "      <td>4</td>\n",
       "      <td>1</td>\n",
       "      <td>1</td>\n",
       "      <td>Futrelle, Mrs. Jacques Heath (Lily May Peel)</td>\n",
       "      <td>female</td>\n",
       "      <td>35.0</td>\n",
       "      <td>1</td>\n",
       "      <td>0</td>\n",
       "      <td>113803</td>\n",
       "      <td>53.1000</td>\n",
       "      <td>C123</td>\n",
       "      <td>S</td>\n",
       "    </tr>\n",
       "    <tr>\n",
       "      <th>4</th>\n",
       "      <td>5</td>\n",
       "      <td>0</td>\n",
       "      <td>3</td>\n",
       "      <td>Allen, Mr. William Henry</td>\n",
       "      <td>male</td>\n",
       "      <td>35.0</td>\n",
       "      <td>0</td>\n",
       "      <td>0</td>\n",
       "      <td>373450</td>\n",
       "      <td>8.0500</td>\n",
       "      <td>NaN</td>\n",
       "      <td>S</td>\n",
       "    </tr>\n",
       "  </tbody>\n",
       "</table>\n",
       "</div>"
      ],
      "text/plain": [
       "   PassengerId  Survived  Pclass  \\\n",
       "0            1         0       3   \n",
       "1            2         1       1   \n",
       "2            3         1       3   \n",
       "3            4         1       1   \n",
       "4            5         0       3   \n",
       "\n",
       "                                                Name     Sex   Age  SibSp  \\\n",
       "0                            Braund, Mr. Owen Harris    male  22.0      1   \n",
       "1  Cumings, Mrs. John Bradley (Florence Briggs Th...  female  38.0      1   \n",
       "2                             Heikkinen, Miss. Laina  female  26.0      0   \n",
       "3       Futrelle, Mrs. Jacques Heath (Lily May Peel)  female  35.0      1   \n",
       "4                           Allen, Mr. William Henry    male  35.0      0   \n",
       "\n",
       "   Parch            Ticket     Fare Cabin Embarked  \n",
       "0      0         A/5 21171   7.2500   NaN        S  \n",
       "1      0          PC 17599  71.2833   C85        C  \n",
       "2      0  STON/O2. 3101282   7.9250   NaN        S  \n",
       "3      0            113803  53.1000  C123        S  \n",
       "4      0            373450   8.0500   NaN        S  "
      ]
     },
     "execution_count": 4,
     "metadata": {},
     "output_type": "execute_result"
    }
   ],
   "source": [
    "print('✔ Dataset Imported Successfully!\\n')\n",
    "print('It contains {} rows and {} columns.'.format(train.shape[0], train.shape[1]))\n",
    "train.head()"
   ]
  },
  {
   "cell_type": "code",
   "execution_count": 5,
   "id": "73199b7d",
   "metadata": {
    "execution": {
     "iopub.execute_input": "2023-04-10T07:06:42.257551Z",
     "iopub.status.busy": "2023-04-10T07:06:42.256072Z",
     "iopub.status.idle": "2023-04-10T07:06:42.274591Z",
     "shell.execute_reply": "2023-04-10T07:06:42.273483Z"
    },
    "papermill": {
     "duration": 0.037635,
     "end_time": "2023-04-10T07:06:42.276973",
     "exception": false,
     "start_time": "2023-04-10T07:06:42.239338",
     "status": "completed"
    },
    "tags": []
   },
   "outputs": [
    {
     "name": "stdout",
     "output_type": "stream",
     "text": [
      "✔ Dataset Imported Successfully!\n",
      "\n",
      "It contains 418 rows and 11 columns.\n"
     ]
    },
    {
     "data": {
      "text/html": [
       "<div>\n",
       "<style scoped>\n",
       "    .dataframe tbody tr th:only-of-type {\n",
       "        vertical-align: middle;\n",
       "    }\n",
       "\n",
       "    .dataframe tbody tr th {\n",
       "        vertical-align: top;\n",
       "    }\n",
       "\n",
       "    .dataframe thead th {\n",
       "        text-align: right;\n",
       "    }\n",
       "</style>\n",
       "<table border=\"1\" class=\"dataframe\">\n",
       "  <thead>\n",
       "    <tr style=\"text-align: right;\">\n",
       "      <th></th>\n",
       "      <th>PassengerId</th>\n",
       "      <th>Pclass</th>\n",
       "      <th>Name</th>\n",
       "      <th>Sex</th>\n",
       "      <th>Age</th>\n",
       "      <th>SibSp</th>\n",
       "      <th>Parch</th>\n",
       "      <th>Ticket</th>\n",
       "      <th>Fare</th>\n",
       "      <th>Cabin</th>\n",
       "      <th>Embarked</th>\n",
       "    </tr>\n",
       "  </thead>\n",
       "  <tbody>\n",
       "    <tr>\n",
       "      <th>0</th>\n",
       "      <td>892</td>\n",
       "      <td>3</td>\n",
       "      <td>Kelly, Mr. James</td>\n",
       "      <td>male</td>\n",
       "      <td>34.5</td>\n",
       "      <td>0</td>\n",
       "      <td>0</td>\n",
       "      <td>330911</td>\n",
       "      <td>7.8292</td>\n",
       "      <td>NaN</td>\n",
       "      <td>Q</td>\n",
       "    </tr>\n",
       "    <tr>\n",
       "      <th>1</th>\n",
       "      <td>893</td>\n",
       "      <td>3</td>\n",
       "      <td>Wilkes, Mrs. James (Ellen Needs)</td>\n",
       "      <td>female</td>\n",
       "      <td>47.0</td>\n",
       "      <td>1</td>\n",
       "      <td>0</td>\n",
       "      <td>363272</td>\n",
       "      <td>7.0000</td>\n",
       "      <td>NaN</td>\n",
       "      <td>S</td>\n",
       "    </tr>\n",
       "    <tr>\n",
       "      <th>2</th>\n",
       "      <td>894</td>\n",
       "      <td>2</td>\n",
       "      <td>Myles, Mr. Thomas Francis</td>\n",
       "      <td>male</td>\n",
       "      <td>62.0</td>\n",
       "      <td>0</td>\n",
       "      <td>0</td>\n",
       "      <td>240276</td>\n",
       "      <td>9.6875</td>\n",
       "      <td>NaN</td>\n",
       "      <td>Q</td>\n",
       "    </tr>\n",
       "    <tr>\n",
       "      <th>3</th>\n",
       "      <td>895</td>\n",
       "      <td>3</td>\n",
       "      <td>Wirz, Mr. Albert</td>\n",
       "      <td>male</td>\n",
       "      <td>27.0</td>\n",
       "      <td>0</td>\n",
       "      <td>0</td>\n",
       "      <td>315154</td>\n",
       "      <td>8.6625</td>\n",
       "      <td>NaN</td>\n",
       "      <td>S</td>\n",
       "    </tr>\n",
       "    <tr>\n",
       "      <th>4</th>\n",
       "      <td>896</td>\n",
       "      <td>3</td>\n",
       "      <td>Hirvonen, Mrs. Alexander (Helga E Lindqvist)</td>\n",
       "      <td>female</td>\n",
       "      <td>22.0</td>\n",
       "      <td>1</td>\n",
       "      <td>1</td>\n",
       "      <td>3101298</td>\n",
       "      <td>12.2875</td>\n",
       "      <td>NaN</td>\n",
       "      <td>S</td>\n",
       "    </tr>\n",
       "  </tbody>\n",
       "</table>\n",
       "</div>"
      ],
      "text/plain": [
       "   PassengerId  Pclass                                          Name     Sex  \\\n",
       "0          892       3                              Kelly, Mr. James    male   \n",
       "1          893       3              Wilkes, Mrs. James (Ellen Needs)  female   \n",
       "2          894       2                     Myles, Mr. Thomas Francis    male   \n",
       "3          895       3                              Wirz, Mr. Albert    male   \n",
       "4          896       3  Hirvonen, Mrs. Alexander (Helga E Lindqvist)  female   \n",
       "\n",
       "    Age  SibSp  Parch   Ticket     Fare Cabin Embarked  \n",
       "0  34.5      0      0   330911   7.8292   NaN        Q  \n",
       "1  47.0      1      0   363272   7.0000   NaN        S  \n",
       "2  62.0      0      0   240276   9.6875   NaN        Q  \n",
       "3  27.0      0      0   315154   8.6625   NaN        S  \n",
       "4  22.0      1      1  3101298  12.2875   NaN        S  "
      ]
     },
     "execution_count": 5,
     "metadata": {},
     "output_type": "execute_result"
    }
   ],
   "source": [
    "print('✔ Dataset Imported Successfully!\\n')\n",
    "print('It contains {} rows and {} columns.'.format(test.shape[0], test.shape[1]))\n",
    "test.head()"
   ]
  },
  {
   "cell_type": "code",
   "execution_count": 6,
   "id": "76941c98",
   "metadata": {
    "execution": {
     "iopub.execute_input": "2023-04-10T07:06:42.311945Z",
     "iopub.status.busy": "2023-04-10T07:06:42.311144Z",
     "iopub.status.idle": "2023-04-10T07:06:42.339747Z",
     "shell.execute_reply": "2023-04-10T07:06:42.338114Z"
    },
    "papermill": {
     "duration": 0.050314,
     "end_time": "2023-04-10T07:06:42.342673",
     "exception": false,
     "start_time": "2023-04-10T07:06:42.292359",
     "status": "completed"
    },
    "tags": []
   },
   "outputs": [
    {
     "name": "stdout",
     "output_type": "stream",
     "text": [
      "<class 'pandas.core.frame.DataFrame'>\n",
      "RangeIndex: 891 entries, 0 to 890\n",
      "Data columns (total 12 columns):\n",
      " #   Column       Non-Null Count  Dtype  \n",
      "---  ------       --------------  -----  \n",
      " 0   PassengerId  891 non-null    int64  \n",
      " 1   Survived     891 non-null    int64  \n",
      " 2   Pclass       891 non-null    int64  \n",
      " 3   Name         891 non-null    object \n",
      " 4   Sex          891 non-null    object \n",
      " 5   Age          714 non-null    float64\n",
      " 6   SibSp        891 non-null    int64  \n",
      " 7   Parch        891 non-null    int64  \n",
      " 8   Ticket       891 non-null    object \n",
      " 9   Fare         891 non-null    float64\n",
      " 10  Cabin        204 non-null    object \n",
      " 11  Embarked     889 non-null    object \n",
      "dtypes: float64(2), int64(5), object(5)\n",
      "memory usage: 83.7+ KB\n"
     ]
    }
   ],
   "source": [
    "train.info()"
   ]
  },
  {
   "cell_type": "markdown",
   "id": "225a2386",
   "metadata": {
    "papermill": {
     "duration": 0.016077,
     "end_time": "2023-04-10T07:06:42.375005",
     "exception": false,
     "start_time": "2023-04-10T07:06:42.358928",
     "status": "completed"
    },
    "tags": []
   },
   "source": [
    "# ***EDA***"
   ]
  },
  {
   "cell_type": "code",
   "execution_count": 7,
   "id": "03b16dcd",
   "metadata": {
    "execution": {
     "iopub.execute_input": "2023-04-10T07:06:42.409292Z",
     "iopub.status.busy": "2023-04-10T07:06:42.408648Z",
     "iopub.status.idle": "2023-04-10T07:06:42.424317Z",
     "shell.execute_reply": "2023-04-10T07:06:42.422918Z"
    },
    "papermill": {
     "duration": 0.036069,
     "end_time": "2023-04-10T07:06:42.427169",
     "exception": false,
     "start_time": "2023-04-10T07:06:42.391100",
     "status": "completed"
    },
    "tags": []
   },
   "outputs": [
    {
     "data": {
      "text/html": [
       "<div>\n",
       "<style scoped>\n",
       "    .dataframe tbody tr th:only-of-type {\n",
       "        vertical-align: middle;\n",
       "    }\n",
       "\n",
       "    .dataframe tbody tr th {\n",
       "        vertical-align: top;\n",
       "    }\n",
       "\n",
       "    .dataframe thead th {\n",
       "        text-align: right;\n",
       "    }\n",
       "</style>\n",
       "<table border=\"1\" class=\"dataframe\">\n",
       "  <thead>\n",
       "    <tr style=\"text-align: right;\">\n",
       "      <th></th>\n",
       "      <th>Survived</th>\n",
       "    </tr>\n",
       "    <tr>\n",
       "      <th>Pclass</th>\n",
       "      <th></th>\n",
       "    </tr>\n",
       "  </thead>\n",
       "  <tbody>\n",
       "    <tr>\n",
       "      <th>1</th>\n",
       "      <td>0.629630</td>\n",
       "    </tr>\n",
       "    <tr>\n",
       "      <th>2</th>\n",
       "      <td>0.472826</td>\n",
       "    </tr>\n",
       "    <tr>\n",
       "      <th>3</th>\n",
       "      <td>0.242363</td>\n",
       "    </tr>\n",
       "  </tbody>\n",
       "</table>\n",
       "</div>"
      ],
      "text/plain": [
       "        Survived\n",
       "Pclass          \n",
       "1       0.629630\n",
       "2       0.472826\n",
       "3       0.242363"
      ]
     },
     "execution_count": 7,
     "metadata": {},
     "output_type": "execute_result"
    }
   ],
   "source": [
    "train[['Pclass','Survived']].groupby('Pclass').mean()"
   ]
  },
  {
   "cell_type": "code",
   "execution_count": 8,
   "id": "6d45d539",
   "metadata": {
    "execution": {
     "iopub.execute_input": "2023-04-10T07:06:42.461645Z",
     "iopub.status.busy": "2023-04-10T07:06:42.460612Z",
     "iopub.status.idle": "2023-04-10T07:06:42.474905Z",
     "shell.execute_reply": "2023-04-10T07:06:42.474052Z"
    },
    "papermill": {
     "duration": 0.034045,
     "end_time": "2023-04-10T07:06:42.477182",
     "exception": false,
     "start_time": "2023-04-10T07:06:42.443137",
     "status": "completed"
    },
    "tags": []
   },
   "outputs": [
    {
     "data": {
      "text/html": [
       "<div>\n",
       "<style scoped>\n",
       "    .dataframe tbody tr th:only-of-type {\n",
       "        vertical-align: middle;\n",
       "    }\n",
       "\n",
       "    .dataframe tbody tr th {\n",
       "        vertical-align: top;\n",
       "    }\n",
       "\n",
       "    .dataframe thead th {\n",
       "        text-align: right;\n",
       "    }\n",
       "</style>\n",
       "<table border=\"1\" class=\"dataframe\">\n",
       "  <thead>\n",
       "    <tr style=\"text-align: right;\">\n",
       "      <th></th>\n",
       "      <th>Survived</th>\n",
       "    </tr>\n",
       "    <tr>\n",
       "      <th>Sex</th>\n",
       "      <th></th>\n",
       "    </tr>\n",
       "  </thead>\n",
       "  <tbody>\n",
       "    <tr>\n",
       "      <th>female</th>\n",
       "      <td>0.742038</td>\n",
       "    </tr>\n",
       "    <tr>\n",
       "      <th>male</th>\n",
       "      <td>0.188908</td>\n",
       "    </tr>\n",
       "  </tbody>\n",
       "</table>\n",
       "</div>"
      ],
      "text/plain": [
       "        Survived\n",
       "Sex             \n",
       "female  0.742038\n",
       "male    0.188908"
      ]
     },
     "execution_count": 8,
     "metadata": {},
     "output_type": "execute_result"
    }
   ],
   "source": [
    "train[['Sex','Survived']].groupby('Sex').mean()"
   ]
  },
  {
   "cell_type": "code",
   "execution_count": 9,
   "id": "74beff48",
   "metadata": {
    "execution": {
     "iopub.execute_input": "2023-04-10T07:06:42.511406Z",
     "iopub.status.busy": "2023-04-10T07:06:42.510478Z",
     "iopub.status.idle": "2023-04-10T07:06:42.524334Z",
     "shell.execute_reply": "2023-04-10T07:06:42.523044Z"
    },
    "papermill": {
     "duration": 0.034237,
     "end_time": "2023-04-10T07:06:42.527061",
     "exception": false,
     "start_time": "2023-04-10T07:06:42.492824",
     "status": "completed"
    },
    "tags": []
   },
   "outputs": [
    {
     "data": {
      "text/html": [
       "<div>\n",
       "<style scoped>\n",
       "    .dataframe tbody tr th:only-of-type {\n",
       "        vertical-align: middle;\n",
       "    }\n",
       "\n",
       "    .dataframe tbody tr th {\n",
       "        vertical-align: top;\n",
       "    }\n",
       "\n",
       "    .dataframe thead th {\n",
       "        text-align: right;\n",
       "    }\n",
       "</style>\n",
       "<table border=\"1\" class=\"dataframe\">\n",
       "  <thead>\n",
       "    <tr style=\"text-align: right;\">\n",
       "      <th></th>\n",
       "      <th>Survived</th>\n",
       "    </tr>\n",
       "    <tr>\n",
       "      <th>Embarked</th>\n",
       "      <th></th>\n",
       "    </tr>\n",
       "  </thead>\n",
       "  <tbody>\n",
       "    <tr>\n",
       "      <th>C</th>\n",
       "      <td>0.553571</td>\n",
       "    </tr>\n",
       "    <tr>\n",
       "      <th>Q</th>\n",
       "      <td>0.389610</td>\n",
       "    </tr>\n",
       "    <tr>\n",
       "      <th>S</th>\n",
       "      <td>0.336957</td>\n",
       "    </tr>\n",
       "  </tbody>\n",
       "</table>\n",
       "</div>"
      ],
      "text/plain": [
       "          Survived\n",
       "Embarked          \n",
       "C         0.553571\n",
       "Q         0.389610\n",
       "S         0.336957"
      ]
     },
     "execution_count": 9,
     "metadata": {},
     "output_type": "execute_result"
    }
   ],
   "source": [
    "train[['Embarked','Survived']].groupby('Embarked').mean()"
   ]
  },
  {
   "cell_type": "code",
   "execution_count": 10,
   "id": "12ae115b",
   "metadata": {
    "execution": {
     "iopub.execute_input": "2023-04-10T07:06:42.561585Z",
     "iopub.status.busy": "2023-04-10T07:06:42.561120Z",
     "iopub.status.idle": "2023-04-10T07:06:42.859927Z",
     "shell.execute_reply": "2023-04-10T07:06:42.859000Z"
    },
    "papermill": {
     "duration": 0.31934,
     "end_time": "2023-04-10T07:06:42.862571",
     "exception": false,
     "start_time": "2023-04-10T07:06:42.543231",
     "status": "completed"
    },
    "tags": []
   },
   "outputs": [
    {
     "name": "stderr",
     "output_type": "stream",
     "text": [
      "/opt/conda/lib/python3.7/site-packages/ipykernel_launcher.py:1: UserWarning: \n",
      "\n",
      "`distplot` is a deprecated function and will be removed in seaborn v0.14.0.\n",
      "\n",
      "Please adapt your code to use either `displot` (a figure-level function with\n",
      "similar flexibility) or `kdeplot` (an axes-level function for kernel density plots).\n",
      "\n",
      "For a guide to updating your code to use the new functions, please see\n",
      "https://gist.github.com/mwaskom/de44147ed2974457ad6372750bbe5751\n",
      "\n",
      "  \"\"\"Entry point for launching an IPython kernel.\n"
     ]
    },
    {
     "data": {
      "text/plain": [
       "<AxesSubplot:xlabel='Age', ylabel='Density'>"
      ]
     },
     "execution_count": 10,
     "metadata": {},
     "output_type": "execute_result"
    },
    {
     "data": {
      "image/png": "[encoded data removed]",
      "text/plain": [
       "<Figure size 640x480 with 1 Axes>"
      ]
     },
     "metadata": {},
     "output_type": "display_data"
    }
   ],
   "source": [
    "sns.distplot(train['Age'],hist=False)"
   ]
  },
  {
   "cell_type": "code",
   "execution_count": 11,
   "id": "9410bcd2",
   "metadata": {
    "execution": {
     "iopub.execute_input": "2023-04-10T07:06:42.898752Z",
     "iopub.status.busy": "2023-04-10T07:06:42.897913Z",
     "iopub.status.idle": "2023-04-10T07:06:42.928077Z",
     "shell.execute_reply": "2023-04-10T07:06:42.926528Z"
    },
    "papermill": {
     "duration": 0.051673,
     "end_time": "2023-04-10T07:06:42.931105",
     "exception": false,
     "start_time": "2023-04-10T07:06:42.879432",
     "status": "completed"
    },
    "tags": []
   },
   "outputs": [
    {
     "data": {
      "text/html": [
       "<div>\n",
       "<style scoped>\n",
       "    .dataframe tbody tr th:only-of-type {\n",
       "        vertical-align: middle;\n",
       "    }\n",
       "\n",
       "    .dataframe tbody tr th {\n",
       "        vertical-align: top;\n",
       "    }\n",
       "\n",
       "    .dataframe thead th {\n",
       "        text-align: right;\n",
       "    }\n",
       "</style>\n",
       "<table border=\"1\" class=\"dataframe\">\n",
       "  <thead>\n",
       "    <tr style=\"text-align: right;\">\n",
       "      <th></th>\n",
       "      <th>PassengerId</th>\n",
       "      <th>Survived</th>\n",
       "      <th>Pclass</th>\n",
       "      <th>Name</th>\n",
       "      <th>Sex</th>\n",
       "      <th>Age</th>\n",
       "      <th>SibSp</th>\n",
       "      <th>Parch</th>\n",
       "      <th>Ticket</th>\n",
       "      <th>Fare</th>\n",
       "      <th>Embarked</th>\n",
       "      <th>hasCabin</th>\n",
       "    </tr>\n",
       "  </thead>\n",
       "  <tbody>\n",
       "    <tr>\n",
       "      <th>642</th>\n",
       "      <td>643</td>\n",
       "      <td>0</td>\n",
       "      <td>3</td>\n",
       "      <td>Skoog, Miss. Margit Elizabeth</td>\n",
       "      <td>female</td>\n",
       "      <td>2.0</td>\n",
       "      <td>3</td>\n",
       "      <td>2</td>\n",
       "      <td>347088</td>\n",
       "      <td>27.9000</td>\n",
       "      <td>S</td>\n",
       "      <td>0</td>\n",
       "    </tr>\n",
       "    <tr>\n",
       "      <th>633</th>\n",
       "      <td>634</td>\n",
       "      <td>0</td>\n",
       "      <td>1</td>\n",
       "      <td>Parr, Mr. William Henry Marsh</td>\n",
       "      <td>male</td>\n",
       "      <td>NaN</td>\n",
       "      <td>0</td>\n",
       "      <td>0</td>\n",
       "      <td>112052</td>\n",
       "      <td>0.0000</td>\n",
       "      <td>S</td>\n",
       "      <td>0</td>\n",
       "    </tr>\n",
       "    <tr>\n",
       "      <th>300</th>\n",
       "      <td>301</td>\n",
       "      <td>1</td>\n",
       "      <td>3</td>\n",
       "      <td>Kelly, Miss. Anna Katherine \"Annie Kate\"</td>\n",
       "      <td>female</td>\n",
       "      <td>NaN</td>\n",
       "      <td>0</td>\n",
       "      <td>0</td>\n",
       "      <td>9234</td>\n",
       "      <td>7.7500</td>\n",
       "      <td>Q</td>\n",
       "      <td>0</td>\n",
       "    </tr>\n",
       "    <tr>\n",
       "      <th>508</th>\n",
       "      <td>509</td>\n",
       "      <td>0</td>\n",
       "      <td>3</td>\n",
       "      <td>Olsen, Mr. Henry Margido</td>\n",
       "      <td>male</td>\n",
       "      <td>28.0</td>\n",
       "      <td>0</td>\n",
       "      <td>0</td>\n",
       "      <td>C 4001</td>\n",
       "      <td>22.5250</td>\n",
       "      <td>S</td>\n",
       "      <td>0</td>\n",
       "    </tr>\n",
       "    <tr>\n",
       "      <th>463</th>\n",
       "      <td>464</td>\n",
       "      <td>0</td>\n",
       "      <td>2</td>\n",
       "      <td>Milling, Mr. Jacob Christian</td>\n",
       "      <td>male</td>\n",
       "      <td>48.0</td>\n",
       "      <td>0</td>\n",
       "      <td>0</td>\n",
       "      <td>234360</td>\n",
       "      <td>13.0000</td>\n",
       "      <td>S</td>\n",
       "      <td>0</td>\n",
       "    </tr>\n",
       "    <tr>\n",
       "      <th>432</th>\n",
       "      <td>433</td>\n",
       "      <td>1</td>\n",
       "      <td>2</td>\n",
       "      <td>Louch, Mrs. Charles Alexander (Alice Adelaide ...</td>\n",
       "      <td>female</td>\n",
       "      <td>42.0</td>\n",
       "      <td>1</td>\n",
       "      <td>0</td>\n",
       "      <td>SC/AH 3085</td>\n",
       "      <td>26.0000</td>\n",
       "      <td>S</td>\n",
       "      <td>0</td>\n",
       "    </tr>\n",
       "    <tr>\n",
       "      <th>424</th>\n",
       "      <td>425</td>\n",
       "      <td>0</td>\n",
       "      <td>3</td>\n",
       "      <td>Rosblom, Mr. Viktor Richard</td>\n",
       "      <td>male</td>\n",
       "      <td>18.0</td>\n",
       "      <td>1</td>\n",
       "      <td>1</td>\n",
       "      <td>370129</td>\n",
       "      <td>20.2125</td>\n",
       "      <td>S</td>\n",
       "      <td>0</td>\n",
       "    </tr>\n",
       "    <tr>\n",
       "      <th>861</th>\n",
       "      <td>862</td>\n",
       "      <td>0</td>\n",
       "      <td>2</td>\n",
       "      <td>Giles, Mr. Frederick Edward</td>\n",
       "      <td>male</td>\n",
       "      <td>21.0</td>\n",
       "      <td>1</td>\n",
       "      <td>0</td>\n",
       "      <td>28134</td>\n",
       "      <td>11.5000</td>\n",
       "      <td>S</td>\n",
       "      <td>0</td>\n",
       "    </tr>\n",
       "    <tr>\n",
       "      <th>683</th>\n",
       "      <td>684</td>\n",
       "      <td>0</td>\n",
       "      <td>3</td>\n",
       "      <td>Goodwin, Mr. Charles Edward</td>\n",
       "      <td>male</td>\n",
       "      <td>14.0</td>\n",
       "      <td>5</td>\n",
       "      <td>2</td>\n",
       "      <td>CA 2144</td>\n",
       "      <td>46.9000</td>\n",
       "      <td>S</td>\n",
       "      <td>0</td>\n",
       "    </tr>\n",
       "    <tr>\n",
       "      <th>767</th>\n",
       "      <td>768</td>\n",
       "      <td>0</td>\n",
       "      <td>3</td>\n",
       "      <td>Mangan, Miss. Mary</td>\n",
       "      <td>female</td>\n",
       "      <td>30.5</td>\n",
       "      <td>0</td>\n",
       "      <td>0</td>\n",
       "      <td>364850</td>\n",
       "      <td>7.7500</td>\n",
       "      <td>Q</td>\n",
       "      <td>0</td>\n",
       "    </tr>\n",
       "  </tbody>\n",
       "</table>\n",
       "</div>"
      ],
      "text/plain": [
       "     PassengerId  Survived  Pclass  \\\n",
       "642          643         0       3   \n",
       "633          634         0       1   \n",
       "300          301         1       3   \n",
       "508          509         0       3   \n",
       "463          464         0       2   \n",
       "432          433         1       2   \n",
       "424          425         0       3   \n",
       "861          862         0       2   \n",
       "683          684         0       3   \n",
       "767          768         0       3   \n",
       "\n",
       "                                                  Name     Sex   Age  SibSp  \\\n",
       "642                      Skoog, Miss. Margit Elizabeth  female   2.0      3   \n",
       "633                      Parr, Mr. William Henry Marsh    male   NaN      0   \n",
       "300           Kelly, Miss. Anna Katherine \"Annie Kate\"  female   NaN      0   \n",
       "508                           Olsen, Mr. Henry Margido    male  28.0      0   \n",
       "463                       Milling, Mr. Jacob Christian    male  48.0      0   \n",
       "432  Louch, Mrs. Charles Alexander (Alice Adelaide ...  female  42.0      1   \n",
       "424                        Rosblom, Mr. Viktor Richard    male  18.0      1   \n",
       "861                        Giles, Mr. Frederick Edward    male  21.0      1   \n",
       "683                        Goodwin, Mr. Charles Edward    male  14.0      5   \n",
       "767                                 Mangan, Miss. Mary  female  30.5      0   \n",
       "\n",
       "     Parch      Ticket     Fare Embarked  hasCabin  \n",
       "642      2      347088  27.9000        S         0  \n",
       "633      0      112052   0.0000        S         0  \n",
       "300      0        9234   7.7500        Q         0  \n",
       "508      0      C 4001  22.5250        S         0  \n",
       "463      0      234360  13.0000        S         0  \n",
       "432      0  SC/AH 3085  26.0000        S         0  \n",
       "424      1      370129  20.2125        S         0  \n",
       "861      0       28134  11.5000        S         0  \n",
       "683      2     CA 2144  46.9000        S         0  \n",
       "767      0      364850   7.7500        Q         0  "
      ]
     },
     "execution_count": 11,
     "metadata": {},
     "output_type": "execute_result"
    }
   ],
   "source": [
    "if 'Cabin' in train.columns:\n",
    "    train['hasCabin'] = train['Cabin'].notnull().astype('int')\n",
    "    train.drop(columns=['Cabin'],inplace=True)\n",
    "train.sample(10)\n",
    "if 'Cabin' in test.columns:\n",
    "    test['hasCabin'] = test['Cabin'].notnull().astype('int')\n",
    "    test.drop(columns=['Cabin'],inplace=True)\n",
    "train.sample(10)"
   ]
  },
  {
   "cell_type": "code",
   "execution_count": 12,
   "id": "d0d41b66",
   "metadata": {
    "execution": {
     "iopub.execute_input": "2023-04-10T07:06:42.968688Z",
     "iopub.status.busy": "2023-04-10T07:06:42.968206Z",
     "iopub.status.idle": "2023-04-10T07:06:42.983103Z",
     "shell.execute_reply": "2023-04-10T07:06:42.981779Z"
    },
    "papermill": {
     "duration": 0.036847,
     "end_time": "2023-04-10T07:06:42.985702",
     "exception": false,
     "start_time": "2023-04-10T07:06:42.948855",
     "status": "completed"
    },
    "tags": []
   },
   "outputs": [
    {
     "data": {
      "text/html": [
       "<div>\n",
       "<style scoped>\n",
       "    .dataframe tbody tr th:only-of-type {\n",
       "        vertical-align: middle;\n",
       "    }\n",
       "\n",
       "    .dataframe tbody tr th {\n",
       "        vertical-align: top;\n",
       "    }\n",
       "\n",
       "    .dataframe thead th {\n",
       "        text-align: right;\n",
       "    }\n",
       "</style>\n",
       "<table border=\"1\" class=\"dataframe\">\n",
       "  <thead>\n",
       "    <tr style=\"text-align: right;\">\n",
       "      <th></th>\n",
       "      <th>Survived</th>\n",
       "    </tr>\n",
       "    <tr>\n",
       "      <th>hasCabin</th>\n",
       "      <th></th>\n",
       "    </tr>\n",
       "  </thead>\n",
       "  <tbody>\n",
       "    <tr>\n",
       "      <th>0</th>\n",
       "      <td>0.299854</td>\n",
       "    </tr>\n",
       "    <tr>\n",
       "      <th>1</th>\n",
       "      <td>0.666667</td>\n",
       "    </tr>\n",
       "  </tbody>\n",
       "</table>\n",
       "</div>"
      ],
      "text/plain": [
       "          Survived\n",
       "hasCabin          \n",
       "0         0.299854\n",
       "1         0.666667"
      ]
     },
     "execution_count": 12,
     "metadata": {},
     "output_type": "execute_result"
    }
   ],
   "source": [
    "train[['hasCabin','Survived']].groupby('hasCabin').mean()"
   ]
  },
  {
   "cell_type": "code",
   "execution_count": 13,
   "id": "baeab5a8",
   "metadata": {
    "execution": {
     "iopub.execute_input": "2023-04-10T07:06:43.023627Z",
     "iopub.status.busy": "2023-04-10T07:06:43.022789Z",
     "iopub.status.idle": "2023-04-10T07:06:43.234407Z",
     "shell.execute_reply": "2023-04-10T07:06:43.232820Z"
    },
    "papermill": {
     "duration": 0.233992,
     "end_time": "2023-04-10T07:06:43.237216",
     "exception": false,
     "start_time": "2023-04-10T07:06:43.003224",
     "status": "completed"
    },
    "tags": []
   },
   "outputs": [
    {
     "data": {
      "text/plain": [
       "<AxesSubplot:>"
      ]
     },
     "execution_count": 13,
     "metadata": {},
     "output_type": "execute_result"
    },
    {
     "data": {
      "image/png": "[encoded data removed]",
      "text/plain": [
       "<Figure size 640x480 with 1 Axes>"
      ]
     },
     "metadata": {},
     "output_type": "display_data"
    }
   ],
   "source": [
    "sns.boxplot(train['Age'])"
   ]
  },
  {
   "cell_type": "code",
   "execution_count": 14,
   "id": "f9197d72",
   "metadata": {
    "execution": {
     "iopub.execute_input": "2023-04-10T07:06:43.275558Z",
     "iopub.status.busy": "2023-04-10T07:06:43.274886Z",
     "iopub.status.idle": "2023-04-10T07:06:43.286677Z",
     "shell.execute_reply": "2023-04-10T07:06:43.285359Z"
    },
    "papermill": {
     "duration": 0.033907,
     "end_time": "2023-04-10T07:06:43.289231",
     "exception": false,
     "start_time": "2023-04-10T07:06:43.255324",
     "status": "completed"
    },
    "tags": []
   },
   "outputs": [
    {
     "data": {
      "text/plain": [
       "1    1\n",
       "Name: Survived, dtype: int64"
      ]
     },
     "execution_count": 14,
     "metadata": {},
     "output_type": "execute_result"
    }
   ],
   "source": [
    "train[train['Age']>75]['Survived'].value_counts()"
   ]
  },
  {
   "cell_type": "code",
   "execution_count": 15,
   "id": "4123e277",
   "metadata": {
    "execution": {
     "iopub.execute_input": "2023-04-10T07:06:43.326986Z",
     "iopub.status.busy": "2023-04-10T07:06:43.326582Z",
     "iopub.status.idle": "2023-04-10T07:06:43.625039Z",
     "shell.execute_reply": "2023-04-10T07:06:43.623563Z"
    },
    "papermill": {
     "duration": 0.320645,
     "end_time": "2023-04-10T07:06:43.627581",
     "exception": false,
     "start_time": "2023-04-10T07:06:43.306936",
     "status": "completed"
    },
    "tags": []
   },
   "outputs": [
    {
     "name": "stderr",
     "output_type": "stream",
     "text": [
      "/opt/conda/lib/python3.7/site-packages/ipykernel_launcher.py:2: UserWarning: \n",
      "\n",
      "`distplot` is a deprecated function and will be removed in seaborn v0.14.0.\n",
      "\n",
      "Please adapt your code to use either `displot` (a figure-level function with\n",
      "similar flexibility) or `kdeplot` (an axes-level function for kernel density plots).\n",
      "\n",
      "For a guide to updating your code to use the new functions, please see\n",
      "https://gist.github.com/mwaskom/de44147ed2974457ad6372750bbe5751\n",
      "\n",
      "  \n",
      "/opt/conda/lib/python3.7/site-packages/ipykernel_launcher.py:3: UserWarning: \n",
      "\n",
      "`distplot` is a deprecated function and will be removed in seaborn v0.14.0.\n",
      "\n",
      "Please adapt your code to use either `displot` (a figure-level function with\n",
      "similar flexibility) or `kdeplot` (an axes-level function for kernel density plots).\n",
      "\n",
      "For a guide to updating your code to use the new functions, please see\n",
      "https://gist.github.com/mwaskom/de44147ed2974457ad6372750bbe5751\n",
      "\n",
      "  This is separate from the ipykernel package so we can avoid doing imports until\n"
     ]
    },
    {
     "data": {
      "text/plain": [
       "<AxesSubplot:xlabel='Age', ylabel='Density'>"
      ]
     },
     "execution_count": 15,
     "metadata": {},
     "output_type": "execute_result"
    },
    {
     "data": {
      "image/png": "[encoded data removed]",
      "text/plain": [
       "<Figure size 1500x400 with 1 Axes>"
      ]
     },
     "metadata": {},
     "output_type": "display_data"
    }
   ],
   "source": [
    "plt.subplots(figsize=(15,4))\n",
    "sns.distplot(train[train['Survived']==0]['Age'],hist=False)\n",
    "sns.distplot(train[train['Survived']==1]['Age'],hist=False)"
   ]
  },
  {
   "cell_type": "code",
   "execution_count": 16,
   "id": "3ff7a6a9",
   "metadata": {
    "execution": {
     "iopub.execute_input": "2023-04-10T07:06:43.667869Z",
     "iopub.status.busy": "2023-04-10T07:06:43.667395Z",
     "iopub.status.idle": "2023-04-10T07:06:43.988538Z",
     "shell.execute_reply": "2023-04-10T07:06:43.986897Z"
    },
    "papermill": {
     "duration": 0.344823,
     "end_time": "2023-04-10T07:06:43.991773",
     "exception": false,
     "start_time": "2023-04-10T07:06:43.646950",
     "status": "completed"
    },
    "tags": []
   },
   "outputs": [
    {
     "name": "stderr",
     "output_type": "stream",
     "text": [
      "/opt/conda/lib/python3.7/site-packages/ipykernel_launcher.py:1: UserWarning: \n",
      "\n",
      "`distplot` is a deprecated function and will be removed in seaborn v0.14.0.\n",
      "\n",
      "Please adapt your code to use either `displot` (a figure-level function with\n",
      "similar flexibility) or `histplot` (an axes-level function for histograms).\n",
      "\n",
      "For a guide to updating your code to use the new functions, please see\n",
      "https://gist.github.com/mwaskom/de44147ed2974457ad6372750bbe5751\n",
      "\n",
      "  \"\"\"Entry point for launching an IPython kernel.\n"
     ]
    },
    {
     "data": {
      "text/plain": [
       "<AxesSubplot:xlabel='Fare', ylabel='Density'>"
      ]
     },
     "execution_count": 16,
     "metadata": {},
     "output_type": "execute_result"
    },
    {
     "data": {
      "image/png": "[encoded data removed]",
      "text/plain": [
       "<Figure size 640x480 with 1 Axes>"
      ]
     },
     "metadata": {},
     "output_type": "display_data"
    }
   ],
   "source": [
    "sns.distplot(train['Fare'])"
   ]
  },
  {
   "cell_type": "code",
   "execution_count": 17,
   "id": "db89263e",
   "metadata": {
    "execution": {
     "iopub.execute_input": "2023-04-10T07:06:44.033755Z",
     "iopub.status.busy": "2023-04-10T07:06:44.033313Z",
     "iopub.status.idle": "2023-04-10T07:06:44.173587Z",
     "shell.execute_reply": "2023-04-10T07:06:44.172099Z"
    },
    "papermill": {
     "duration": 0.165479,
     "end_time": "2023-04-10T07:06:44.177141",
     "exception": false,
     "start_time": "2023-04-10T07:06:44.011662",
     "status": "completed"
    },
    "tags": []
   },
   "outputs": [
    {
     "data": {
      "text/plain": [
       "<AxesSubplot:>"
      ]
     },
     "execution_count": 17,
     "metadata": {},
     "output_type": "execute_result"
    },
    {
     "data": {
      "image/png": "[encoded data removed]",
      "text/plain": [
       "<Figure size 640x480 with 1 Axes>"
      ]
     },
     "metadata": {},
     "output_type": "display_data"
    }
   ],
   "source": [
    "sns.boxplot(train['Fare'])"
   ]
  },
  {
   "cell_type": "code",
   "execution_count": 18,
   "id": "c0f6209e",
   "metadata": {
    "execution": {
     "iopub.execute_input": "2023-04-10T07:06:44.218627Z",
     "iopub.status.busy": "2023-04-10T07:06:44.218165Z",
     "iopub.status.idle": "2023-04-10T07:06:44.227989Z",
     "shell.execute_reply": "2023-04-10T07:06:44.227029Z"
    },
    "papermill": {
     "duration": 0.033421,
     "end_time": "2023-04-10T07:06:44.230455",
     "exception": false,
     "start_time": "2023-04-10T07:06:44.197034",
     "status": "completed"
    },
    "tags": []
   },
   "outputs": [
    {
     "data": {
      "text/plain": [
       "1    3\n",
       "Name: Survived, dtype: int64"
      ]
     },
     "execution_count": 18,
     "metadata": {},
     "output_type": "execute_result"
    }
   ],
   "source": [
    "train[train['Fare']>400]['Survived'].value_counts()"
   ]
  },
  {
   "cell_type": "code",
   "execution_count": 19,
   "id": "afd7dfa1",
   "metadata": {
    "execution": {
     "iopub.execute_input": "2023-04-10T07:06:44.271263Z",
     "iopub.status.busy": "2023-04-10T07:06:44.270447Z",
     "iopub.status.idle": "2023-04-10T07:06:44.665740Z",
     "shell.execute_reply": "2023-04-10T07:06:44.663843Z"
    },
    "papermill": {
     "duration": 0.419079,
     "end_time": "2023-04-10T07:06:44.668729",
     "exception": false,
     "start_time": "2023-04-10T07:06:44.249650",
     "status": "completed"
    },
    "tags": []
   },
   "outputs": [
    {
     "name": "stderr",
     "output_type": "stream",
     "text": [
      "/opt/conda/lib/python3.7/site-packages/ipykernel_launcher.py:2: UserWarning: \n",
      "\n",
      "`distplot` is a deprecated function and will be removed in seaborn v0.14.0.\n",
      "\n",
      "Please adapt your code to use either `displot` (a figure-level function with\n",
      "similar flexibility) or `histplot` (an axes-level function for histograms).\n",
      "\n",
      "For a guide to updating your code to use the new functions, please see\n",
      "https://gist.github.com/mwaskom/de44147ed2974457ad6372750bbe5751\n",
      "\n",
      "  \n",
      "/opt/conda/lib/python3.7/site-packages/ipykernel_launcher.py:3: UserWarning: \n",
      "\n",
      "`distplot` is a deprecated function and will be removed in seaborn v0.14.0.\n",
      "\n",
      "Please adapt your code to use either `displot` (a figure-level function with\n",
      "similar flexibility) or `histplot` (an axes-level function for histograms).\n",
      "\n",
      "For a guide to updating your code to use the new functions, please see\n",
      "https://gist.github.com/mwaskom/de44147ed2974457ad6372750bbe5751\n",
      "\n",
      "  This is separate from the ipykernel package so we can avoid doing imports until\n"
     ]
    },
    {
     "data": {
      "text/plain": [
       "<AxesSubplot:xlabel='Fare', ylabel='Density'>"
      ]
     },
     "execution_count": 19,
     "metadata": {},
     "output_type": "execute_result"
    },
    {
     "data": {
      "image/png": "[encoded data removed]",
      "text/plain": [
       "<Figure size 1500x500 with 1 Axes>"
      ]
     },
     "metadata": {},
     "output_type": "display_data"
    }
   ],
   "source": [
    "plt.subplots(figsize=(15,5))\n",
    "sns.distplot(train[train['Survived']==0]['Fare'])\n",
    "sns.distplot(train[train['Survived']==1]['Fare'])"
   ]
  },
  {
   "cell_type": "code",
   "execution_count": 20,
   "id": "b0e440a4",
   "metadata": {
    "execution": {
     "iopub.execute_input": "2023-04-10T07:06:44.711306Z",
     "iopub.status.busy": "2023-04-10T07:06:44.710631Z",
     "iopub.status.idle": "2023-04-10T07:06:44.717466Z",
     "shell.execute_reply": "2023-04-10T07:06:44.715730Z"
    },
    "papermill": {
     "duration": 0.031786,
     "end_time": "2023-04-10T07:06:44.720706",
     "exception": false,
     "start_time": "2023-04-10T07:06:44.688920",
     "status": "completed"
    },
    "tags": []
   },
   "outputs": [],
   "source": [
    "train['Embarked'].fillna('S',inplace=True)"
   ]
  },
  {
   "cell_type": "code",
   "execution_count": 21,
   "id": "99630242",
   "metadata": {
    "execution": {
     "iopub.execute_input": "2023-04-10T07:06:44.767138Z",
     "iopub.status.busy": "2023-04-10T07:06:44.766721Z",
     "iopub.status.idle": "2023-04-10T07:06:44.773240Z",
     "shell.execute_reply": "2023-04-10T07:06:44.771789Z"
    },
    "papermill": {
     "duration": 0.032403,
     "end_time": "2023-04-10T07:06:44.775859",
     "exception": false,
     "start_time": "2023-04-10T07:06:44.743456",
     "status": "completed"
    },
    "tags": []
   },
   "outputs": [],
   "source": [
    "test['Fare'].fillna(test['Fare'].mean(), inplace=True)"
   ]
  },
  {
   "cell_type": "code",
   "execution_count": 22,
   "id": "c353b452",
   "metadata": {
    "execution": {
     "iopub.execute_input": "2023-04-10T07:06:44.818442Z",
     "iopub.status.busy": "2023-04-10T07:06:44.818028Z",
     "iopub.status.idle": "2023-04-10T07:06:44.826522Z",
     "shell.execute_reply": "2023-04-10T07:06:44.825584Z"
    },
    "papermill": {
     "duration": 0.032669,
     "end_time": "2023-04-10T07:06:44.829008",
     "exception": false,
     "start_time": "2023-04-10T07:06:44.796339",
     "status": "completed"
    },
    "tags": []
   },
   "outputs": [],
   "source": [
    "gen_age=np.random.randint(train['Age'].mean()-train['Age'].std(),train['Age'].mean()+train['Age'].std(), size=177)"
   ]
  },
  {
   "cell_type": "code",
   "execution_count": 23,
   "id": "b4763745",
   "metadata": {
    "execution": {
     "iopub.execute_input": "2023-04-10T07:06:44.871333Z",
     "iopub.status.busy": "2023-04-10T07:06:44.870509Z",
     "iopub.status.idle": "2023-04-10T07:06:44.880809Z",
     "shell.execute_reply": "2023-04-10T07:06:44.879046Z"
    },
    "papermill": {
     "duration": 0.034533,
     "end_time": "2023-04-10T07:06:44.883394",
     "exception": false,
     "start_time": "2023-04-10T07:06:44.848861",
     "status": "completed"
    },
    "tags": []
   },
   "outputs": [
    {
     "name": "stderr",
     "output_type": "stream",
     "text": [
      "/opt/conda/lib/python3.7/site-packages/ipykernel_launcher.py:1: SettingWithCopyWarning: \n",
      "A value is trying to be set on a copy of a slice from a DataFrame\n",
      "\n",
      "See the caveats in the documentation: https://pandas.pydata.org/pandas-docs/stable/user_guide/indexing.html#returning-a-view-versus-a-copy\n",
      "  \"\"\"Entry point for launching an IPython kernel.\n"
     ]
    }
   ],
   "source": [
    "train['Age'][np.isnan(train['Age'])]=gen_age"
   ]
  },
  {
   "cell_type": "code",
   "execution_count": 24,
   "id": "3ab65c72",
   "metadata": {
    "execution": {
     "iopub.execute_input": "2023-04-10T07:06:44.926641Z",
     "iopub.status.busy": "2023-04-10T07:06:44.925237Z",
     "iopub.status.idle": "2023-04-10T07:06:44.933663Z",
     "shell.execute_reply": "2023-04-10T07:06:44.932373Z"
    },
    "papermill": {
     "duration": 0.033413,
     "end_time": "2023-04-10T07:06:44.936796",
     "exception": false,
     "start_time": "2023-04-10T07:06:44.903383",
     "status": "completed"
    },
    "tags": []
   },
   "outputs": [],
   "source": [
    "gen_age1=np.random.randint(test['Age'].mean()-test['Age'].std(),test['Age'].mean()+test['Age'].std(), size=86)"
   ]
  },
  {
   "cell_type": "code",
   "execution_count": 25,
   "id": "1d2c027f",
   "metadata": {
    "execution": {
     "iopub.execute_input": "2023-04-10T07:06:44.984096Z",
     "iopub.status.busy": "2023-04-10T07:06:44.983334Z",
     "iopub.status.idle": "2023-04-10T07:06:44.991501Z",
     "shell.execute_reply": "2023-04-10T07:06:44.990662Z"
    },
    "papermill": {
     "duration": 0.035344,
     "end_time": "2023-04-10T07:06:44.994415",
     "exception": false,
     "start_time": "2023-04-10T07:06:44.959071",
     "status": "completed"
    },
    "tags": []
   },
   "outputs": [
    {
     "name": "stderr",
     "output_type": "stream",
     "text": [
      "/opt/conda/lib/python3.7/site-packages/ipykernel_launcher.py:1: SettingWithCopyWarning: \n",
      "A value is trying to be set on a copy of a slice from a DataFrame\n",
      "\n",
      "See the caveats in the documentation: https://pandas.pydata.org/pandas-docs/stable/user_guide/indexing.html#returning-a-view-versus-a-copy\n",
      "  \"\"\"Entry point for launching an IPython kernel.\n"
     ]
    }
   ],
   "source": [
    "test['Age'][np.isnan(test['Age'])]=gen_age1"
   ]
  },
  {
   "cell_type": "code",
   "execution_count": 26,
   "id": "0cf38f25",
   "metadata": {
    "execution": {
     "iopub.execute_input": "2023-04-10T07:06:45.041262Z",
     "iopub.status.busy": "2023-04-10T07:06:45.039884Z",
     "iopub.status.idle": "2023-04-10T07:06:45.049359Z",
     "shell.execute_reply": "2023-04-10T07:06:45.047702Z"
    },
    "papermill": {
     "duration": 0.035907,
     "end_time": "2023-04-10T07:06:45.052549",
     "exception": false,
     "start_time": "2023-04-10T07:06:45.016642",
     "status": "completed"
    },
    "tags": []
   },
   "outputs": [],
   "source": [
    "PassengerId = test['PassengerId']\n",
    "train.drop(columns=['PassengerId'],inplace=True)\n",
    "test.drop(columns=['PassengerId'],inplace=True) "
   ]
  },
  {
   "cell_type": "code",
   "execution_count": 27,
   "id": "a0ef6456",
   "metadata": {
    "execution": {
     "iopub.execute_input": "2023-04-10T07:06:45.096500Z",
     "iopub.status.busy": "2023-04-10T07:06:45.095549Z",
     "iopub.status.idle": "2023-04-10T07:06:45.105358Z",
     "shell.execute_reply": "2023-04-10T07:06:45.104406Z"
    },
    "papermill": {
     "duration": 0.034906,
     "end_time": "2023-04-10T07:06:45.108009",
     "exception": false,
     "start_time": "2023-04-10T07:06:45.073103",
     "status": "completed"
    },
    "tags": []
   },
   "outputs": [],
   "source": [
    "train['family']=train['SibSp'] + train['Parch'] + 1\n",
    "test['family']=test['SibSp'] + test['Parch'] + 1"
   ]
  },
  {
   "cell_type": "code",
   "execution_count": 28,
   "id": "d21ecd76",
   "metadata": {
    "execution": {
     "iopub.execute_input": "2023-04-10T07:06:45.152091Z",
     "iopub.status.busy": "2023-04-10T07:06:45.151122Z",
     "iopub.status.idle": "2023-04-10T07:06:45.160140Z",
     "shell.execute_reply": "2023-04-10T07:06:45.158999Z"
    },
    "papermill": {
     "duration": 0.033991,
     "end_time": "2023-04-10T07:06:45.162721",
     "exception": false,
     "start_time": "2023-04-10T07:06:45.128730",
     "status": "completed"
    },
    "tags": []
   },
   "outputs": [],
   "source": [
    "train.drop(columns=['SibSp','Parch'],inplace=True)\n",
    "test.drop(columns=['SibSp','Parch'],inplace=True)"
   ]
  },
  {
   "cell_type": "code",
   "execution_count": 29,
   "id": "7fbcecbf",
   "metadata": {
    "execution": {
     "iopub.execute_input": "2023-04-10T07:06:45.207581Z",
     "iopub.status.busy": "2023-04-10T07:06:45.206796Z",
     "iopub.status.idle": "2023-04-10T07:06:45.215373Z",
     "shell.execute_reply": "2023-04-10T07:06:45.214214Z"
    },
    "papermill": {
     "duration": 0.033911,
     "end_time": "2023-04-10T07:06:45.218018",
     "exception": false,
     "start_time": "2023-04-10T07:06:45.184107",
     "status": "completed"
    },
    "tags": []
   },
   "outputs": [
    {
     "data": {
      "text/plain": [
       "1     537\n",
       "2     161\n",
       "3     102\n",
       "4      29\n",
       "6      22\n",
       "5      15\n",
       "7      12\n",
       "11      7\n",
       "8       6\n",
       "Name: family, dtype: int64"
      ]
     },
     "execution_count": 29,
     "metadata": {},
     "output_type": "execute_result"
    }
   ],
   "source": [
    "train['family'].value_counts()"
   ]
  },
  {
   "cell_type": "code",
   "execution_count": 30,
   "id": "0df161f2",
   "metadata": {
    "execution": {
     "iopub.execute_input": "2023-04-10T07:06:45.261823Z",
     "iopub.status.busy": "2023-04-10T07:06:45.261416Z",
     "iopub.status.idle": "2023-04-10T07:06:45.277075Z",
     "shell.execute_reply": "2023-04-10T07:06:45.275815Z"
    },
    "papermill": {
     "duration": 0.040976,
     "end_time": "2023-04-10T07:06:45.279937",
     "exception": false,
     "start_time": "2023-04-10T07:06:45.238961",
     "status": "completed"
    },
    "tags": []
   },
   "outputs": [
    {
     "data": {
      "text/html": [
       "<div>\n",
       "<style scoped>\n",
       "    .dataframe tbody tr th:only-of-type {\n",
       "        vertical-align: middle;\n",
       "    }\n",
       "\n",
       "    .dataframe tbody tr th {\n",
       "        vertical-align: top;\n",
       "    }\n",
       "\n",
       "    .dataframe thead th {\n",
       "        text-align: right;\n",
       "    }\n",
       "</style>\n",
       "<table border=\"1\" class=\"dataframe\">\n",
       "  <thead>\n",
       "    <tr style=\"text-align: right;\">\n",
       "      <th></th>\n",
       "      <th>Survived</th>\n",
       "    </tr>\n",
       "    <tr>\n",
       "      <th>family</th>\n",
       "      <th></th>\n",
       "    </tr>\n",
       "  </thead>\n",
       "  <tbody>\n",
       "    <tr>\n",
       "      <th>1</th>\n",
       "      <td>0.303538</td>\n",
       "    </tr>\n",
       "    <tr>\n",
       "      <th>2</th>\n",
       "      <td>0.552795</td>\n",
       "    </tr>\n",
       "    <tr>\n",
       "      <th>3</th>\n",
       "      <td>0.578431</td>\n",
       "    </tr>\n",
       "    <tr>\n",
       "      <th>4</th>\n",
       "      <td>0.724138</td>\n",
       "    </tr>\n",
       "    <tr>\n",
       "      <th>5</th>\n",
       "      <td>0.200000</td>\n",
       "    </tr>\n",
       "    <tr>\n",
       "      <th>6</th>\n",
       "      <td>0.136364</td>\n",
       "    </tr>\n",
       "    <tr>\n",
       "      <th>7</th>\n",
       "      <td>0.333333</td>\n",
       "    </tr>\n",
       "    <tr>\n",
       "      <th>8</th>\n",
       "      <td>0.000000</td>\n",
       "    </tr>\n",
       "    <tr>\n",
       "      <th>11</th>\n",
       "      <td>0.000000</td>\n",
       "    </tr>\n",
       "  </tbody>\n",
       "</table>\n",
       "</div>"
      ],
      "text/plain": [
       "        Survived\n",
       "family          \n",
       "1       0.303538\n",
       "2       0.552795\n",
       "3       0.578431\n",
       "4       0.724138\n",
       "5       0.200000\n",
       "6       0.136364\n",
       "7       0.333333\n",
       "8       0.000000\n",
       "11      0.000000"
      ]
     },
     "execution_count": 30,
     "metadata": {},
     "output_type": "execute_result"
    }
   ],
   "source": [
    "train[['family','Survived']].groupby('family').mean()"
   ]
  },
  {
   "cell_type": "code",
   "execution_count": 31,
   "id": "e28cc800",
   "metadata": {
    "execution": {
     "iopub.execute_input": "2023-04-10T07:06:45.325022Z",
     "iopub.status.busy": "2023-04-10T07:06:45.324187Z",
     "iopub.status.idle": "2023-04-10T07:06:45.330806Z",
     "shell.execute_reply": "2023-04-10T07:06:45.329458Z"
    },
    "papermill": {
     "duration": 0.031788,
     "end_time": "2023-04-10T07:06:45.333449",
     "exception": false,
     "start_time": "2023-04-10T07:06:45.301661",
     "status": "completed"
    },
    "tags": []
   },
   "outputs": [],
   "source": [
    "def family_size(number):\n",
    "    if number==1:\n",
    "        return \"Alone\"\n",
    "    elif number>1 and number <5:\n",
    "        return \"Small\"\n",
    "    else:\n",
    "        return \"Large\""
   ]
  },
  {
   "cell_type": "code",
   "execution_count": 32,
   "id": "b9aab311",
   "metadata": {
    "execution": {
     "iopub.execute_input": "2023-04-10T07:06:45.376654Z",
     "iopub.status.busy": "2023-04-10T07:06:45.376277Z",
     "iopub.status.idle": "2023-04-10T07:06:45.382939Z",
     "shell.execute_reply": "2023-04-10T07:06:45.381999Z"
    },
    "papermill": {
     "duration": 0.031176,
     "end_time": "2023-04-10T07:06:45.385161",
     "exception": false,
     "start_time": "2023-04-10T07:06:45.353985",
     "status": "completed"
    },
    "tags": []
   },
   "outputs": [
    {
     "data": {
      "text/plain": [
       "'Large'"
      ]
     },
     "execution_count": 32,
     "metadata": {},
     "output_type": "execute_result"
    }
   ],
   "source": [
    "family_size(5)"
   ]
  },
  {
   "cell_type": "code",
   "execution_count": 33,
   "id": "383ae9aa",
   "metadata": {
    "execution": {
     "iopub.execute_input": "2023-04-10T07:06:45.428998Z",
     "iopub.status.busy": "2023-04-10T07:06:45.427939Z",
     "iopub.status.idle": "2023-04-10T07:06:45.434913Z",
     "shell.execute_reply": "2023-04-10T07:06:45.433773Z"
    },
    "papermill": {
     "duration": 0.031714,
     "end_time": "2023-04-10T07:06:45.437304",
     "exception": false,
     "start_time": "2023-04-10T07:06:45.405590",
     "status": "completed"
    },
    "tags": []
   },
   "outputs": [],
   "source": [
    "train['family_size']=train['family'].apply(family_size)"
   ]
  },
  {
   "cell_type": "code",
   "execution_count": 34,
   "id": "80480f46",
   "metadata": {
    "execution": {
     "iopub.execute_input": "2023-04-10T07:06:45.480999Z",
     "iopub.status.busy": "2023-04-10T07:06:45.480070Z",
     "iopub.status.idle": "2023-04-10T07:06:45.488142Z",
     "shell.execute_reply": "2023-04-10T07:06:45.486986Z"
    },
    "papermill": {
     "duration": 0.033283,
     "end_time": "2023-04-10T07:06:45.491099",
     "exception": false,
     "start_time": "2023-04-10T07:06:45.457816",
     "status": "completed"
    },
    "tags": []
   },
   "outputs": [],
   "source": [
    "test['family_size']=test['family'].apply(family_size)"
   ]
  },
  {
   "cell_type": "code",
   "execution_count": 35,
   "id": "d254418f",
   "metadata": {
    "execution": {
     "iopub.execute_input": "2023-04-10T07:06:45.537170Z",
     "iopub.status.busy": "2023-04-10T07:06:45.536674Z",
     "iopub.status.idle": "2023-04-10T07:06:45.545628Z",
     "shell.execute_reply": "2023-04-10T07:06:45.544296Z"
    },
    "papermill": {
     "duration": 0.036208,
     "end_time": "2023-04-10T07:06:45.548254",
     "exception": false,
     "start_time": "2023-04-10T07:06:45.512046",
     "status": "completed"
    },
    "tags": []
   },
   "outputs": [],
   "source": [
    "train.drop(columns=['family'],inplace=True)\n",
    "test.drop(columns=['family'],inplace=True)"
   ]
  },
  {
   "cell_type": "code",
   "execution_count": 36,
   "id": "b5604afe",
   "metadata": {
    "execution": {
     "iopub.execute_input": "2023-04-10T07:06:45.592015Z",
     "iopub.status.busy": "2023-04-10T07:06:45.591529Z",
     "iopub.status.idle": "2023-04-10T07:06:45.610569Z",
     "shell.execute_reply": "2023-04-10T07:06:45.609279Z"
    },
    "papermill": {
     "duration": 0.044076,
     "end_time": "2023-04-10T07:06:45.613150",
     "exception": false,
     "start_time": "2023-04-10T07:06:45.569074",
     "status": "completed"
    },
    "tags": []
   },
   "outputs": [
    {
     "data": {
      "text/html": [
       "<div>\n",
       "<style scoped>\n",
       "    .dataframe tbody tr th:only-of-type {\n",
       "        vertical-align: middle;\n",
       "    }\n",
       "\n",
       "    .dataframe tbody tr th {\n",
       "        vertical-align: top;\n",
       "    }\n",
       "\n",
       "    .dataframe thead th {\n",
       "        text-align: right;\n",
       "    }\n",
       "</style>\n",
       "<table border=\"1\" class=\"dataframe\">\n",
       "  <thead>\n",
       "    <tr style=\"text-align: right;\">\n",
       "      <th></th>\n",
       "      <th>Survived</th>\n",
       "      <th>Pclass</th>\n",
       "      <th>Name</th>\n",
       "      <th>Sex</th>\n",
       "      <th>Age</th>\n",
       "      <th>Ticket</th>\n",
       "      <th>Fare</th>\n",
       "      <th>Embarked</th>\n",
       "      <th>hasCabin</th>\n",
       "      <th>family_size</th>\n",
       "    </tr>\n",
       "  </thead>\n",
       "  <tbody>\n",
       "    <tr>\n",
       "      <th>0</th>\n",
       "      <td>0</td>\n",
       "      <td>3</td>\n",
       "      <td>Braund, Mr. Owen Harris</td>\n",
       "      <td>male</td>\n",
       "      <td>22.0</td>\n",
       "      <td>A/5 21171</td>\n",
       "      <td>7.2500</td>\n",
       "      <td>S</td>\n",
       "      <td>0</td>\n",
       "      <td>Small</td>\n",
       "    </tr>\n",
       "    <tr>\n",
       "      <th>1</th>\n",
       "      <td>1</td>\n",
       "      <td>1</td>\n",
       "      <td>Cumings, Mrs. John Bradley (Florence Briggs Th...</td>\n",
       "      <td>female</td>\n",
       "      <td>38.0</td>\n",
       "      <td>PC 17599</td>\n",
       "      <td>71.2833</td>\n",
       "      <td>C</td>\n",
       "      <td>1</td>\n",
       "      <td>Small</td>\n",
       "    </tr>\n",
       "    <tr>\n",
       "      <th>2</th>\n",
       "      <td>1</td>\n",
       "      <td>3</td>\n",
       "      <td>Heikkinen, Miss. Laina</td>\n",
       "      <td>female</td>\n",
       "      <td>26.0</td>\n",
       "      <td>STON/O2. 3101282</td>\n",
       "      <td>7.9250</td>\n",
       "      <td>S</td>\n",
       "      <td>0</td>\n",
       "      <td>Alone</td>\n",
       "    </tr>\n",
       "    <tr>\n",
       "      <th>3</th>\n",
       "      <td>1</td>\n",
       "      <td>1</td>\n",
       "      <td>Futrelle, Mrs. Jacques Heath (Lily May Peel)</td>\n",
       "      <td>female</td>\n",
       "      <td>35.0</td>\n",
       "      <td>113803</td>\n",
       "      <td>53.1000</td>\n",
       "      <td>S</td>\n",
       "      <td>1</td>\n",
       "      <td>Small</td>\n",
       "    </tr>\n",
       "    <tr>\n",
       "      <th>4</th>\n",
       "      <td>0</td>\n",
       "      <td>3</td>\n",
       "      <td>Allen, Mr. William Henry</td>\n",
       "      <td>male</td>\n",
       "      <td>35.0</td>\n",
       "      <td>373450</td>\n",
       "      <td>8.0500</td>\n",
       "      <td>S</td>\n",
       "      <td>0</td>\n",
       "      <td>Alone</td>\n",
       "    </tr>\n",
       "  </tbody>\n",
       "</table>\n",
       "</div>"
      ],
      "text/plain": [
       "   Survived  Pclass                                               Name  \\\n",
       "0         0       3                            Braund, Mr. Owen Harris   \n",
       "1         1       1  Cumings, Mrs. John Bradley (Florence Briggs Th...   \n",
       "2         1       3                             Heikkinen, Miss. Laina   \n",
       "3         1       1       Futrelle, Mrs. Jacques Heath (Lily May Peel)   \n",
       "4         0       3                           Allen, Mr. William Henry   \n",
       "\n",
       "      Sex   Age            Ticket     Fare Embarked  hasCabin family_size  \n",
       "0    male  22.0         A/5 21171   7.2500        S         0       Small  \n",
       "1  female  38.0          PC 17599  71.2833        C         1       Small  \n",
       "2  female  26.0  STON/O2. 3101282   7.9250        S         0       Alone  \n",
       "3  female  35.0            113803  53.1000        S         1       Small  \n",
       "4    male  35.0            373450   8.0500        S         0       Alone  "
      ]
     },
     "execution_count": 36,
     "metadata": {},
     "output_type": "execute_result"
    }
   ],
   "source": [
    "train.head()"
   ]
  },
  {
   "cell_type": "code",
   "execution_count": 37,
   "id": "6118eecc",
   "metadata": {
    "execution": {
     "iopub.execute_input": "2023-04-10T07:06:45.658108Z",
     "iopub.status.busy": "2023-04-10T07:06:45.657340Z",
     "iopub.status.idle": "2023-04-10T07:06:45.662847Z",
     "shell.execute_reply": "2023-04-10T07:06:45.661510Z"
    },
    "papermill": {
     "duration": 0.030717,
     "end_time": "2023-04-10T07:06:45.665367",
     "exception": false,
     "start_time": "2023-04-10T07:06:45.634650",
     "status": "completed"
    },
    "tags": []
   },
   "outputs": [],
   "source": [
    "y=train['Survived'].values"
   ]
  },
  {
   "cell_type": "code",
   "execution_count": 38,
   "id": "6665f88d",
   "metadata": {
    "execution": {
     "iopub.execute_input": "2023-04-10T07:06:45.714838Z",
     "iopub.status.busy": "2023-04-10T07:06:45.713945Z",
     "iopub.status.idle": "2023-04-10T07:06:45.729999Z",
     "shell.execute_reply": "2023-04-10T07:06:45.728408Z"
    },
    "papermill": {
     "duration": 0.045611,
     "end_time": "2023-04-10T07:06:45.732435",
     "exception": false,
     "start_time": "2023-04-10T07:06:45.686824",
     "status": "completed"
    },
    "tags": []
   },
   "outputs": [
    {
     "name": "stdout",
     "output_type": "stream",
     "text": [
      "Mr          517\n",
      "Miss        182\n",
      "Mrs         125\n",
      "Master       40\n",
      "Dr            7\n",
      "Rev           6\n",
      "Mlle          2\n",
      "Major         2\n",
      "Col           2\n",
      "Countess      1\n",
      "Capt          1\n",
      "Ms            1\n",
      "Sir           1\n",
      "Lady          1\n",
      "Mme           1\n",
      "Don           1\n",
      "Jonkheer      1\n",
      "Name: Title, dtype: int64\n"
     ]
    },
    {
     "data": {
      "text/plain": [
       "array(['Mr', 'Mrs', 'Miss', 'Master', 'Don', 'Rev', 'Dr', 'Mme', 'Ms',\n",
       "       'Major', 'Lady', 'Sir', 'Mlle', 'Col', 'Capt', 'Countess',\n",
       "       'Jonkheer'], dtype=object)"
      ]
     },
     "execution_count": 38,
     "metadata": {},
     "output_type": "execute_result"
    }
   ],
   "source": [
    "# group by title on name column\n",
    "train['Title'] = train.Name.str.extract('([A-Za-z]+)\\.', expand=True)\n",
    "print(train.Title.value_counts())\n",
    "mapping_title = train.Title.unique()\n",
    "mapping_title"
   ]
  },
  {
   "cell_type": "code",
   "execution_count": 39,
   "id": "732eba2f",
   "metadata": {
    "execution": {
     "iopub.execute_input": "2023-04-10T07:06:45.776645Z",
     "iopub.status.busy": "2023-04-10T07:06:45.775822Z",
     "iopub.status.idle": "2023-04-10T07:06:45.791490Z",
     "shell.execute_reply": "2023-04-10T07:06:45.790014Z"
    },
    "papermill": {
     "duration": 0.040785,
     "end_time": "2023-04-10T07:06:45.793857",
     "exception": false,
     "start_time": "2023-04-10T07:06:45.753072",
     "status": "completed"
    },
    "tags": []
   },
   "outputs": [
    {
     "name": "stdout",
     "output_type": "stream",
     "text": [
      "Mr        240\n",
      "Miss       78\n",
      "Mrs        72\n",
      "Master     21\n",
      "Col         2\n",
      "Rev         2\n",
      "Ms          1\n",
      "Dr          1\n",
      "Dona        1\n",
      "Name: Title, dtype: int64\n"
     ]
    },
    {
     "data": {
      "text/plain": [
       "array(['Mr', 'Mrs', 'Miss', 'Master', 'Ms', 'Col', 'Rev', 'Dr', 'Dona'],\n",
       "      dtype=object)"
      ]
     },
     "execution_count": 39,
     "metadata": {},
     "output_type": "execute_result"
    }
   ],
   "source": [
    "# group by title on name column\n",
    "test['Title'] = test.Name.str.extract('([A-Za-z]+)\\.', expand=True)\n",
    "print(test.Title.value_counts())\n",
    "mapping_title = test.Title.unique()\n",
    "mapping_title"
   ]
  },
  {
   "cell_type": "code",
   "execution_count": 40,
   "id": "9518bef4",
   "metadata": {
    "execution": {
     "iopub.execute_input": "2023-04-10T07:06:45.838352Z",
     "iopub.status.busy": "2023-04-10T07:06:45.837546Z",
     "iopub.status.idle": "2023-04-10T07:06:45.843587Z",
     "shell.execute_reply": "2023-04-10T07:06:45.842715Z"
    },
    "papermill": {
     "duration": 0.031065,
     "end_time": "2023-04-10T07:06:45.845834",
     "exception": false,
     "start_time": "2023-04-10T07:06:45.814769",
     "status": "completed"
    },
    "tags": []
   },
   "outputs": [],
   "source": [
    "def titlee(name):\n",
    "    if name=='Mr':\n",
    "        return \"Mr\"\n",
    "    elif name=='Miss':\n",
    "        return \"Miss\"\n",
    "    elif name=='Mrs':\n",
    "        return \"Mrs\"\n",
    "    elif name=='Master':\n",
    "        return \"Master\"\n",
    "    else:\n",
    "        return \"Rare\""
   ]
  },
  {
   "cell_type": "code",
   "execution_count": 41,
   "id": "cf0151b6",
   "metadata": {
    "execution": {
     "iopub.execute_input": "2023-04-10T07:06:45.891267Z",
     "iopub.status.busy": "2023-04-10T07:06:45.890084Z",
     "iopub.status.idle": "2023-04-10T07:06:45.920084Z",
     "shell.execute_reply": "2023-04-10T07:06:45.918957Z"
    },
    "papermill": {
     "duration": 0.055042,
     "end_time": "2023-04-10T07:06:45.922266",
     "exception": false,
     "start_time": "2023-04-10T07:06:45.867224",
     "status": "completed"
    },
    "tags": []
   },
   "outputs": [
    {
     "data": {
      "text/html": [
       "<div>\n",
       "<style scoped>\n",
       "    .dataframe tbody tr th:only-of-type {\n",
       "        vertical-align: middle;\n",
       "    }\n",
       "\n",
       "    .dataframe tbody tr th {\n",
       "        vertical-align: top;\n",
       "    }\n",
       "\n",
       "    .dataframe thead th {\n",
       "        text-align: right;\n",
       "    }\n",
       "</style>\n",
       "<table border=\"1\" class=\"dataframe\">\n",
       "  <thead>\n",
       "    <tr style=\"text-align: right;\">\n",
       "      <th></th>\n",
       "      <th>Survived</th>\n",
       "      <th>Pclass</th>\n",
       "      <th>Name</th>\n",
       "      <th>Sex</th>\n",
       "      <th>Age</th>\n",
       "      <th>Ticket</th>\n",
       "      <th>Fare</th>\n",
       "      <th>Embarked</th>\n",
       "      <th>hasCabin</th>\n",
       "      <th>family_size</th>\n",
       "      <th>Title</th>\n",
       "      <th>titlee</th>\n",
       "    </tr>\n",
       "  </thead>\n",
       "  <tbody>\n",
       "    <tr>\n",
       "      <th>515</th>\n",
       "      <td>0</td>\n",
       "      <td>1</td>\n",
       "      <td>Walker, Mr. William Anderson</td>\n",
       "      <td>male</td>\n",
       "      <td>47.0</td>\n",
       "      <td>36967</td>\n",
       "      <td>34.0208</td>\n",
       "      <td>S</td>\n",
       "      <td>1</td>\n",
       "      <td>Alone</td>\n",
       "      <td>Mr</td>\n",
       "      <td>Mr</td>\n",
       "    </tr>\n",
       "    <tr>\n",
       "      <th>593</th>\n",
       "      <td>0</td>\n",
       "      <td>3</td>\n",
       "      <td>Bourke, Miss. Mary</td>\n",
       "      <td>female</td>\n",
       "      <td>34.0</td>\n",
       "      <td>364848</td>\n",
       "      <td>7.7500</td>\n",
       "      <td>Q</td>\n",
       "      <td>0</td>\n",
       "      <td>Small</td>\n",
       "      <td>Miss</td>\n",
       "      <td>Miss</td>\n",
       "    </tr>\n",
       "    <tr>\n",
       "      <th>651</th>\n",
       "      <td>1</td>\n",
       "      <td>2</td>\n",
       "      <td>Doling, Miss. Elsie</td>\n",
       "      <td>female</td>\n",
       "      <td>18.0</td>\n",
       "      <td>231919</td>\n",
       "      <td>23.0000</td>\n",
       "      <td>S</td>\n",
       "      <td>0</td>\n",
       "      <td>Small</td>\n",
       "      <td>Miss</td>\n",
       "      <td>Miss</td>\n",
       "    </tr>\n",
       "    <tr>\n",
       "      <th>793</th>\n",
       "      <td>0</td>\n",
       "      <td>1</td>\n",
       "      <td>Hoyt, Mr. William Fisher</td>\n",
       "      <td>male</td>\n",
       "      <td>37.0</td>\n",
       "      <td>PC 17600</td>\n",
       "      <td>30.6958</td>\n",
       "      <td>C</td>\n",
       "      <td>0</td>\n",
       "      <td>Alone</td>\n",
       "      <td>Mr</td>\n",
       "      <td>Mr</td>\n",
       "    </tr>\n",
       "    <tr>\n",
       "      <th>123</th>\n",
       "      <td>1</td>\n",
       "      <td>2</td>\n",
       "      <td>Webber, Miss. Susan</td>\n",
       "      <td>female</td>\n",
       "      <td>32.5</td>\n",
       "      <td>27267</td>\n",
       "      <td>13.0000</td>\n",
       "      <td>S</td>\n",
       "      <td>1</td>\n",
       "      <td>Alone</td>\n",
       "      <td>Miss</td>\n",
       "      <td>Miss</td>\n",
       "    </tr>\n",
       "    <tr>\n",
       "      <th>...</th>\n",
       "      <td>...</td>\n",
       "      <td>...</td>\n",
       "      <td>...</td>\n",
       "      <td>...</td>\n",
       "      <td>...</td>\n",
       "      <td>...</td>\n",
       "      <td>...</td>\n",
       "      <td>...</td>\n",
       "      <td>...</td>\n",
       "      <td>...</td>\n",
       "      <td>...</td>\n",
       "      <td>...</td>\n",
       "    </tr>\n",
       "    <tr>\n",
       "      <th>9</th>\n",
       "      <td>1</td>\n",
       "      <td>2</td>\n",
       "      <td>Nasser, Mrs. Nicholas (Adele Achem)</td>\n",
       "      <td>female</td>\n",
       "      <td>14.0</td>\n",
       "      <td>237736</td>\n",
       "      <td>30.0708</td>\n",
       "      <td>C</td>\n",
       "      <td>0</td>\n",
       "      <td>Small</td>\n",
       "      <td>Mrs</td>\n",
       "      <td>Mrs</td>\n",
       "    </tr>\n",
       "    <tr>\n",
       "      <th>875</th>\n",
       "      <td>1</td>\n",
       "      <td>3</td>\n",
       "      <td>Najib, Miss. Adele Kiamie \"Jane\"</td>\n",
       "      <td>female</td>\n",
       "      <td>15.0</td>\n",
       "      <td>2667</td>\n",
       "      <td>7.2250</td>\n",
       "      <td>C</td>\n",
       "      <td>0</td>\n",
       "      <td>Alone</td>\n",
       "      <td>Miss</td>\n",
       "      <td>Miss</td>\n",
       "    </tr>\n",
       "    <tr>\n",
       "      <th>705</th>\n",
       "      <td>0</td>\n",
       "      <td>2</td>\n",
       "      <td>Morley, Mr. Henry Samuel (\"Mr Henry Marshall\")</td>\n",
       "      <td>male</td>\n",
       "      <td>39.0</td>\n",
       "      <td>250655</td>\n",
       "      <td>26.0000</td>\n",
       "      <td>S</td>\n",
       "      <td>0</td>\n",
       "      <td>Alone</td>\n",
       "      <td>Mr</td>\n",
       "      <td>Mr</td>\n",
       "    </tr>\n",
       "    <tr>\n",
       "      <th>498</th>\n",
       "      <td>0</td>\n",
       "      <td>1</td>\n",
       "      <td>Allison, Mrs. Hudson J C (Bessie Waldo Daniels)</td>\n",
       "      <td>female</td>\n",
       "      <td>25.0</td>\n",
       "      <td>113781</td>\n",
       "      <td>151.5500</td>\n",
       "      <td>S</td>\n",
       "      <td>1</td>\n",
       "      <td>Small</td>\n",
       "      <td>Mrs</td>\n",
       "      <td>Mrs</td>\n",
       "    </tr>\n",
       "    <tr>\n",
       "      <th>597</th>\n",
       "      <td>0</td>\n",
       "      <td>3</td>\n",
       "      <td>Johnson, Mr. Alfred</td>\n",
       "      <td>male</td>\n",
       "      <td>49.0</td>\n",
       "      <td>LINE</td>\n",
       "      <td>0.0000</td>\n",
       "      <td>S</td>\n",
       "      <td>0</td>\n",
       "      <td>Alone</td>\n",
       "      <td>Mr</td>\n",
       "      <td>Mr</td>\n",
       "    </tr>\n",
       "  </tbody>\n",
       "</table>\n",
       "<p>100 rows × 12 columns</p>\n",
       "</div>"
      ],
      "text/plain": [
       "     Survived  Pclass                                             Name  \\\n",
       "515         0       1                     Walker, Mr. William Anderson   \n",
       "593         0       3                               Bourke, Miss. Mary   \n",
       "651         1       2                              Doling, Miss. Elsie   \n",
       "793         0       1                         Hoyt, Mr. William Fisher   \n",
       "123         1       2                              Webber, Miss. Susan   \n",
       "..        ...     ...                                              ...   \n",
       "9           1       2              Nasser, Mrs. Nicholas (Adele Achem)   \n",
       "875         1       3                 Najib, Miss. Adele Kiamie \"Jane\"   \n",
       "705         0       2   Morley, Mr. Henry Samuel (\"Mr Henry Marshall\")   \n",
       "498         0       1  Allison, Mrs. Hudson J C (Bessie Waldo Daniels)   \n",
       "597         0       3                              Johnson, Mr. Alfred   \n",
       "\n",
       "        Sex   Age    Ticket      Fare Embarked  hasCabin family_size Title  \\\n",
       "515    male  47.0     36967   34.0208        S         1       Alone    Mr   \n",
       "593  female  34.0    364848    7.7500        Q         0       Small  Miss   \n",
       "651  female  18.0    231919   23.0000        S         0       Small  Miss   \n",
       "793    male  37.0  PC 17600   30.6958        C         0       Alone    Mr   \n",
       "123  female  32.5     27267   13.0000        S         1       Alone  Miss   \n",
       "..      ...   ...       ...       ...      ...       ...         ...   ...   \n",
       "9    female  14.0    237736   30.0708        C         0       Small   Mrs   \n",
       "875  female  15.0      2667    7.2250        C         0       Alone  Miss   \n",
       "705    male  39.0    250655   26.0000        S         0       Alone    Mr   \n",
       "498  female  25.0    113781  151.5500        S         1       Small   Mrs   \n",
       "597    male  49.0      LINE    0.0000        S         0       Alone    Mr   \n",
       "\n",
       "    titlee  \n",
       "515     Mr  \n",
       "593   Miss  \n",
       "651   Miss  \n",
       "793     Mr  \n",
       "123   Miss  \n",
       "..     ...  \n",
       "9      Mrs  \n",
       "875   Miss  \n",
       "705     Mr  \n",
       "498    Mrs  \n",
       "597     Mr  \n",
       "\n",
       "[100 rows x 12 columns]"
      ]
     },
     "execution_count": 41,
     "metadata": {},
     "output_type": "execute_result"
    }
   ],
   "source": [
    "train['titlee']=train['Title'].apply(titlee)\n",
    "train.sample(100)"
   ]
  },
  {
   "cell_type": "code",
   "execution_count": 42,
   "id": "e6171e6d",
   "metadata": {
    "execution": {
     "iopub.execute_input": "2023-04-10T07:06:45.969254Z",
     "iopub.status.busy": "2023-04-10T07:06:45.967749Z",
     "iopub.status.idle": "2023-04-10T07:06:45.994642Z",
     "shell.execute_reply": "2023-04-10T07:06:45.993703Z"
    },
    "papermill": {
     "duration": 0.052854,
     "end_time": "2023-04-10T07:06:45.997115",
     "exception": false,
     "start_time": "2023-04-10T07:06:45.944261",
     "status": "completed"
    },
    "tags": []
   },
   "outputs": [
    {
     "data": {
      "text/html": [
       "<div>\n",
       "<style scoped>\n",
       "    .dataframe tbody tr th:only-of-type {\n",
       "        vertical-align: middle;\n",
       "    }\n",
       "\n",
       "    .dataframe tbody tr th {\n",
       "        vertical-align: top;\n",
       "    }\n",
       "\n",
       "    .dataframe thead th {\n",
       "        text-align: right;\n",
       "    }\n",
       "</style>\n",
       "<table border=\"1\" class=\"dataframe\">\n",
       "  <thead>\n",
       "    <tr style=\"text-align: right;\">\n",
       "      <th></th>\n",
       "      <th>Pclass</th>\n",
       "      <th>Name</th>\n",
       "      <th>Sex</th>\n",
       "      <th>Age</th>\n",
       "      <th>Ticket</th>\n",
       "      <th>Fare</th>\n",
       "      <th>Embarked</th>\n",
       "      <th>hasCabin</th>\n",
       "      <th>family_size</th>\n",
       "      <th>Title</th>\n",
       "      <th>titlee</th>\n",
       "    </tr>\n",
       "  </thead>\n",
       "  <tbody>\n",
       "    <tr>\n",
       "      <th>336</th>\n",
       "      <td>2</td>\n",
       "      <td>de Brito, Mr. Jose Joaquim</td>\n",
       "      <td>male</td>\n",
       "      <td>32.0</td>\n",
       "      <td>244360</td>\n",
       "      <td>13.0000</td>\n",
       "      <td>S</td>\n",
       "      <td>0</td>\n",
       "      <td>Alone</td>\n",
       "      <td>Mr</td>\n",
       "      <td>Mr</td>\n",
       "    </tr>\n",
       "    <tr>\n",
       "      <th>34</th>\n",
       "      <td>1</td>\n",
       "      <td>Mock, Mr. Philipp Edmund</td>\n",
       "      <td>male</td>\n",
       "      <td>30.0</td>\n",
       "      <td>13236</td>\n",
       "      <td>57.7500</td>\n",
       "      <td>C</td>\n",
       "      <td>1</td>\n",
       "      <td>Small</td>\n",
       "      <td>Mr</td>\n",
       "      <td>Mr</td>\n",
       "    </tr>\n",
       "    <tr>\n",
       "      <th>359</th>\n",
       "      <td>3</td>\n",
       "      <td>Lindell, Mrs. Edvard Bengtsson (Elin Gerda Per...</td>\n",
       "      <td>female</td>\n",
       "      <td>30.0</td>\n",
       "      <td>349910</td>\n",
       "      <td>15.5500</td>\n",
       "      <td>S</td>\n",
       "      <td>0</td>\n",
       "      <td>Small</td>\n",
       "      <td>Mrs</td>\n",
       "      <td>Mrs</td>\n",
       "    </tr>\n",
       "    <tr>\n",
       "      <th>189</th>\n",
       "      <td>2</td>\n",
       "      <td>Veal, Mr. James</td>\n",
       "      <td>male</td>\n",
       "      <td>40.0</td>\n",
       "      <td>28221</td>\n",
       "      <td>13.0000</td>\n",
       "      <td>S</td>\n",
       "      <td>0</td>\n",
       "      <td>Alone</td>\n",
       "      <td>Mr</td>\n",
       "      <td>Mr</td>\n",
       "    </tr>\n",
       "    <tr>\n",
       "      <th>390</th>\n",
       "      <td>1</td>\n",
       "      <td>Payne, Mr. Vivian Ponsonby</td>\n",
       "      <td>male</td>\n",
       "      <td>23.0</td>\n",
       "      <td>12749</td>\n",
       "      <td>93.5000</td>\n",
       "      <td>S</td>\n",
       "      <td>1</td>\n",
       "      <td>Alone</td>\n",
       "      <td>Mr</td>\n",
       "      <td>Mr</td>\n",
       "    </tr>\n",
       "    <tr>\n",
       "      <th>...</th>\n",
       "      <td>...</td>\n",
       "      <td>...</td>\n",
       "      <td>...</td>\n",
       "      <td>...</td>\n",
       "      <td>...</td>\n",
       "      <td>...</td>\n",
       "      <td>...</td>\n",
       "      <td>...</td>\n",
       "      <td>...</td>\n",
       "      <td>...</td>\n",
       "      <td>...</td>\n",
       "    </tr>\n",
       "    <tr>\n",
       "      <th>316</th>\n",
       "      <td>1</td>\n",
       "      <td>Spencer, Mr. William Augustus</td>\n",
       "      <td>male</td>\n",
       "      <td>57.0</td>\n",
       "      <td>PC 17569</td>\n",
       "      <td>146.5208</td>\n",
       "      <td>C</td>\n",
       "      <td>1</td>\n",
       "      <td>Small</td>\n",
       "      <td>Mr</td>\n",
       "      <td>Mr</td>\n",
       "    </tr>\n",
       "    <tr>\n",
       "      <th>25</th>\n",
       "      <td>3</td>\n",
       "      <td>Robins, Mr. Alexander A</td>\n",
       "      <td>male</td>\n",
       "      <td>50.0</td>\n",
       "      <td>A/5. 3337</td>\n",
       "      <td>14.5000</td>\n",
       "      <td>S</td>\n",
       "      <td>0</td>\n",
       "      <td>Small</td>\n",
       "      <td>Mr</td>\n",
       "      <td>Mr</td>\n",
       "    </tr>\n",
       "    <tr>\n",
       "      <th>369</th>\n",
       "      <td>2</td>\n",
       "      <td>Pallas y Castello, Mr. Emilio</td>\n",
       "      <td>male</td>\n",
       "      <td>29.0</td>\n",
       "      <td>SC/PARIS 2147</td>\n",
       "      <td>13.8583</td>\n",
       "      <td>C</td>\n",
       "      <td>0</td>\n",
       "      <td>Alone</td>\n",
       "      <td>Mr</td>\n",
       "      <td>Mr</td>\n",
       "    </tr>\n",
       "    <tr>\n",
       "      <th>230</th>\n",
       "      <td>2</td>\n",
       "      <td>Sweet, Mr. George Frederick</td>\n",
       "      <td>male</td>\n",
       "      <td>14.0</td>\n",
       "      <td>220845</td>\n",
       "      <td>65.0000</td>\n",
       "      <td>S</td>\n",
       "      <td>0</td>\n",
       "      <td>Alone</td>\n",
       "      <td>Mr</td>\n",
       "      <td>Mr</td>\n",
       "    </tr>\n",
       "    <tr>\n",
       "      <th>83</th>\n",
       "      <td>3</td>\n",
       "      <td>Demetri, Mr. Marinko</td>\n",
       "      <td>male</td>\n",
       "      <td>35.0</td>\n",
       "      <td>349238</td>\n",
       "      <td>7.8958</td>\n",
       "      <td>S</td>\n",
       "      <td>0</td>\n",
       "      <td>Alone</td>\n",
       "      <td>Mr</td>\n",
       "      <td>Mr</td>\n",
       "    </tr>\n",
       "  </tbody>\n",
       "</table>\n",
       "<p>100 rows × 11 columns</p>\n",
       "</div>"
      ],
      "text/plain": [
       "     Pclass                                               Name     Sex   Age  \\\n",
       "336       2                         de Brito, Mr. Jose Joaquim    male  32.0   \n",
       "34        1                           Mock, Mr. Philipp Edmund    male  30.0   \n",
       "359       3  Lindell, Mrs. Edvard Bengtsson (Elin Gerda Per...  female  30.0   \n",
       "189       2                                    Veal, Mr. James    male  40.0   \n",
       "390       1                         Payne, Mr. Vivian Ponsonby    male  23.0   \n",
       "..      ...                                                ...     ...   ...   \n",
       "316       1                      Spencer, Mr. William Augustus    male  57.0   \n",
       "25        3                            Robins, Mr. Alexander A    male  50.0   \n",
       "369       2                      Pallas y Castello, Mr. Emilio    male  29.0   \n",
       "230       2                        Sweet, Mr. George Frederick    male  14.0   \n",
       "83        3                               Demetri, Mr. Marinko    male  35.0   \n",
       "\n",
       "            Ticket      Fare Embarked  hasCabin family_size Title titlee  \n",
       "336         244360   13.0000        S         0       Alone    Mr     Mr  \n",
       "34           13236   57.7500        C         1       Small    Mr     Mr  \n",
       "359         349910   15.5500        S         0       Small   Mrs    Mrs  \n",
       "189          28221   13.0000        S         0       Alone    Mr     Mr  \n",
       "390          12749   93.5000        S         1       Alone    Mr     Mr  \n",
       "..             ...       ...      ...       ...         ...   ...    ...  \n",
       "316       PC 17569  146.5208        C         1       Small    Mr     Mr  \n",
       "25       A/5. 3337   14.5000        S         0       Small    Mr     Mr  \n",
       "369  SC/PARIS 2147   13.8583        C         0       Alone    Mr     Mr  \n",
       "230         220845   65.0000        S         0       Alone    Mr     Mr  \n",
       "83          349238    7.8958        S         0       Alone    Mr     Mr  \n",
       "\n",
       "[100 rows x 11 columns]"
      ]
     },
     "execution_count": 42,
     "metadata": {},
     "output_type": "execute_result"
    }
   ],
   "source": [
    "test['titlee']=test['Title'].apply(titlee)\n",
    "test.sample(100)"
   ]
  },
  {
   "cell_type": "code",
   "execution_count": 43,
   "id": "a911982f",
   "metadata": {
    "execution": {
     "iopub.execute_input": "2023-04-10T07:06:46.044442Z",
     "iopub.status.busy": "2023-04-10T07:06:46.043031Z",
     "iopub.status.idle": "2023-04-10T07:06:46.059184Z",
     "shell.execute_reply": "2023-04-10T07:06:46.057124Z"
    },
    "papermill": {
     "duration": 0.042677,
     "end_time": "2023-04-10T07:06:46.062155",
     "exception": false,
     "start_time": "2023-04-10T07:06:46.019478",
     "status": "completed"
    },
    "tags": []
   },
   "outputs": [
    {
     "name": "stdout",
     "output_type": "stream",
     "text": [
      "<class 'pandas.core.frame.DataFrame'>\n",
      "RangeIndex: 891 entries, 0 to 890\n",
      "Data columns (total 12 columns):\n",
      " #   Column       Non-Null Count  Dtype  \n",
      "---  ------       --------------  -----  \n",
      " 0   Survived     891 non-null    int64  \n",
      " 1   Pclass       891 non-null    int64  \n",
      " 2   Name         891 non-null    object \n",
      " 3   Sex          891 non-null    object \n",
      " 4   Age          891 non-null    float64\n",
      " 5   Ticket       891 non-null    object \n",
      " 6   Fare         891 non-null    float64\n",
      " 7   Embarked     891 non-null    object \n",
      " 8   hasCabin     891 non-null    int64  \n",
      " 9   family_size  891 non-null    object \n",
      " 10  Title        891 non-null    object \n",
      " 11  titlee       891 non-null    object \n",
      "dtypes: float64(2), int64(3), object(7)\n",
      "memory usage: 83.7+ KB\n"
     ]
    }
   ],
   "source": [
    "train.info()"
   ]
  },
  {
   "cell_type": "code",
   "execution_count": 44,
   "id": "9b3e7ff4",
   "metadata": {
    "execution": {
     "iopub.execute_input": "2023-04-10T07:06:46.109029Z",
     "iopub.status.busy": "2023-04-10T07:06:46.108635Z",
     "iopub.status.idle": "2023-04-10T07:06:46.118115Z",
     "shell.execute_reply": "2023-04-10T07:06:46.115907Z"
    },
    "papermill": {
     "duration": 0.036573,
     "end_time": "2023-04-10T07:06:46.120748",
     "exception": false,
     "start_time": "2023-04-10T07:06:46.084175",
     "status": "completed"
    },
    "tags": []
   },
   "outputs": [],
   "source": [
    "train.drop(columns=['Name','Title','Ticket'],inplace=True)\n",
    "test.drop(columns=['Name','Title','Ticket'],inplace=True)"
   ]
  },
  {
   "cell_type": "code",
   "execution_count": 45,
   "id": "6ad613ed",
   "metadata": {
    "execution": {
     "iopub.execute_input": "2023-04-10T07:06:46.168613Z",
     "iopub.status.busy": "2023-04-10T07:06:46.168221Z",
     "iopub.status.idle": "2023-04-10T07:06:46.174838Z",
     "shell.execute_reply": "2023-04-10T07:06:46.173232Z"
    },
    "papermill": {
     "duration": 0.032973,
     "end_time": "2023-04-10T07:06:46.177468",
     "exception": false,
     "start_time": "2023-04-10T07:06:46.144495",
     "status": "completed"
    },
    "tags": []
   },
   "outputs": [
    {
     "name": "stdout",
     "output_type": "stream",
     "text": [
      "(891, 9)\n",
      "(418, 8)\n"
     ]
    }
   ],
   "source": [
    "print(train.shape)\n",
    "print(test.shape)"
   ]
  },
  {
   "cell_type": "code",
   "execution_count": 46,
   "id": "44082e8e",
   "metadata": {
    "execution": {
     "iopub.execute_input": "2023-04-10T07:06:46.229022Z",
     "iopub.status.busy": "2023-04-10T07:06:46.228037Z",
     "iopub.status.idle": "2023-04-10T07:06:46.247335Z",
     "shell.execute_reply": "2023-04-10T07:06:46.246154Z"
    },
    "papermill": {
     "duration": 0.049042,
     "end_time": "2023-04-10T07:06:46.250351",
     "exception": false,
     "start_time": "2023-04-10T07:06:46.201309",
     "status": "completed"
    },
    "tags": []
   },
   "outputs": [],
   "source": [
    "train=pd.get_dummies(train, columns=['Pclass','Sex','Embarked','family_size','titlee'], drop_first=True)\n",
    "test=pd.get_dummies(test, columns=['Pclass','Sex','Embarked','family_size','titlee'], drop_first=True)"
   ]
  },
  {
   "cell_type": "code",
   "execution_count": 47,
   "id": "c029b7ba",
   "metadata": {
    "execution": {
     "iopub.execute_input": "2023-04-10T07:06:46.298597Z",
     "iopub.status.busy": "2023-04-10T07:06:46.298168Z",
     "iopub.status.idle": "2023-04-10T07:06:46.307574Z",
     "shell.execute_reply": "2023-04-10T07:06:46.306082Z"
    },
    "papermill": {
     "duration": 0.036191,
     "end_time": "2023-04-10T07:06:46.310152",
     "exception": false,
     "start_time": "2023-04-10T07:06:46.273961",
     "status": "completed"
    },
    "tags": []
   },
   "outputs": [],
   "source": [
    "train['Age'] = train['Age'].astype(int)\n",
    "train['Fare'] = train['Fare'].astype(int)\n",
    "test['Age'] = test['Age'].astype(int)\n",
    "test['Fare'] = test['Fare'].astype(int)"
   ]
  },
  {
   "cell_type": "code",
   "execution_count": 48,
   "id": "7fd26cb6",
   "metadata": {
    "execution": {
     "iopub.execute_input": "2023-04-10T07:06:46.358737Z",
     "iopub.status.busy": "2023-04-10T07:06:46.358340Z",
     "iopub.status.idle": "2023-04-10T07:06:46.377101Z",
     "shell.execute_reply": "2023-04-10T07:06:46.375539Z"
    },
    "papermill": {
     "duration": 0.046784,
     "end_time": "2023-04-10T07:06:46.379692",
     "exception": false,
     "start_time": "2023-04-10T07:06:46.332908",
     "status": "completed"
    },
    "tags": []
   },
   "outputs": [
    {
     "name": "stdout",
     "output_type": "stream",
     "text": [
      "<class 'pandas.core.frame.DataFrame'>\n",
      "RangeIndex: 891 entries, 0 to 890\n",
      "Data columns (total 15 columns):\n",
      " #   Column             Non-Null Count  Dtype\n",
      "---  ------             --------------  -----\n",
      " 0   Survived           891 non-null    int64\n",
      " 1   Age                891 non-null    int64\n",
      " 2   Fare               891 non-null    int64\n",
      " 3   hasCabin           891 non-null    int64\n",
      " 4   Pclass_2           891 non-null    uint8\n",
      " 5   Pclass_3           891 non-null    uint8\n",
      " 6   Sex_male           891 non-null    uint8\n",
      " 7   Embarked_Q         891 non-null    uint8\n",
      " 8   Embarked_S         891 non-null    uint8\n",
      " 9   family_size_Large  891 non-null    uint8\n",
      " 10  family_size_Small  891 non-null    uint8\n",
      " 11  titlee_Miss        891 non-null    uint8\n",
      " 12  titlee_Mr          891 non-null    uint8\n",
      " 13  titlee_Mrs         891 non-null    uint8\n",
      " 14  titlee_Rare        891 non-null    uint8\n",
      "dtypes: int64(4), uint8(11)\n",
      "memory usage: 37.5 KB\n"
     ]
    }
   ],
   "source": [
    "train.info()"
   ]
  },
  {
   "cell_type": "code",
   "execution_count": 49,
   "id": "a0f53866",
   "metadata": {
    "execution": {
     "iopub.execute_input": "2023-04-10T07:06:46.429603Z",
     "iopub.status.busy": "2023-04-10T07:06:46.428264Z",
     "iopub.status.idle": "2023-04-10T07:06:46.442505Z",
     "shell.execute_reply": "2023-04-10T07:06:46.441508Z"
    },
    "papermill": {
     "duration": 0.041784,
     "end_time": "2023-04-10T07:06:46.444999",
     "exception": false,
     "start_time": "2023-04-10T07:06:46.403215",
     "status": "completed"
    },
    "tags": []
   },
   "outputs": [
    {
     "name": "stdout",
     "output_type": "stream",
     "text": [
      "<class 'pandas.core.frame.DataFrame'>\n",
      "RangeIndex: 418 entries, 0 to 417\n",
      "Data columns (total 14 columns):\n",
      " #   Column             Non-Null Count  Dtype\n",
      "---  ------             --------------  -----\n",
      " 0   Age                418 non-null    int64\n",
      " 1   Fare               418 non-null    int64\n",
      " 2   hasCabin           418 non-null    int64\n",
      " 3   Pclass_2           418 non-null    uint8\n",
      " 4   Pclass_3           418 non-null    uint8\n",
      " 5   Sex_male           418 non-null    uint8\n",
      " 6   Embarked_Q         418 non-null    uint8\n",
      " 7   Embarked_S         418 non-null    uint8\n",
      " 8   family_size_Large  418 non-null    uint8\n",
      " 9   family_size_Small  418 non-null    uint8\n",
      " 10  titlee_Miss        418 non-null    uint8\n",
      " 11  titlee_Mr          418 non-null    uint8\n",
      " 12  titlee_Mrs         418 non-null    uint8\n",
      " 13  titlee_Rare        418 non-null    uint8\n",
      "dtypes: int64(3), uint8(11)\n",
      "memory usage: 14.4 KB\n"
     ]
    }
   ],
   "source": [
    "test.info()"
   ]
  },
  {
   "cell_type": "code",
   "execution_count": 50,
   "id": "49b9875e",
   "metadata": {
    "execution": {
     "iopub.execute_input": "2023-04-10T07:06:46.495321Z",
     "iopub.status.busy": "2023-04-10T07:06:46.494305Z",
     "iopub.status.idle": "2023-04-10T07:06:46.501548Z",
     "shell.execute_reply": "2023-04-10T07:06:46.499842Z"
    },
    "papermill": {
     "duration": 0.036168,
     "end_time": "2023-04-10T07:06:46.504230",
     "exception": false,
     "start_time": "2023-04-10T07:06:46.468062",
     "status": "completed"
    },
    "tags": []
   },
   "outputs": [
    {
     "name": "stdout",
     "output_type": "stream",
     "text": [
      "(891, 15)\n",
      "(418, 14)\n"
     ]
    }
   ],
   "source": [
    "print(train.shape)\n",
    "print(test.shape)"
   ]
  },
  {
   "cell_type": "code",
   "execution_count": 51,
   "id": "db08e7ba",
   "metadata": {
    "execution": {
     "iopub.execute_input": "2023-04-10T07:06:46.554468Z",
     "iopub.status.busy": "2023-04-10T07:06:46.553719Z",
     "iopub.status.idle": "2023-04-10T07:06:46.560422Z",
     "shell.execute_reply": "2023-04-10T07:06:46.559232Z"
    },
    "papermill": {
     "duration": 0.035135,
     "end_time": "2023-04-10T07:06:46.563103",
     "exception": false,
     "start_time": "2023-04-10T07:06:46.527968",
     "status": "completed"
    },
    "tags": []
   },
   "outputs": [],
   "source": [
    "labels = train['Survived']\n",
    "train.drop(columns=['Survived'],inplace=True)"
   ]
  },
  {
   "cell_type": "code",
   "execution_count": 52,
   "id": "d4e4a0c0",
   "metadata": {
    "execution": {
     "iopub.execute_input": "2023-04-10T07:06:46.613235Z",
     "iopub.status.busy": "2023-04-10T07:06:46.612073Z",
     "iopub.status.idle": "2023-04-10T07:06:46.619006Z",
     "shell.execute_reply": "2023-04-10T07:06:46.618126Z"
    },
    "papermill": {
     "duration": 0.035859,
     "end_time": "2023-04-10T07:06:46.621819",
     "exception": false,
     "start_time": "2023-04-10T07:06:46.585960",
     "status": "completed"
    },
    "tags": []
   },
   "outputs": [],
   "source": [
    "from sklearn.model_selection import train_test_split\n",
    "X_train, X_test, y_train, y_test=train_test_split(train,labels,test_size=0.2)"
   ]
  },
  {
   "cell_type": "code",
   "execution_count": 53,
   "id": "e11c08a4",
   "metadata": {
    "execution": {
     "iopub.execute_input": "2023-04-10T07:06:46.671449Z",
     "iopub.status.busy": "2023-04-10T07:06:46.670578Z",
     "iopub.status.idle": "2023-04-10T07:06:46.676884Z",
     "shell.execute_reply": "2023-04-10T07:06:46.675967Z"
    },
    "papermill": {
     "duration": 0.033509,
     "end_time": "2023-04-10T07:06:46.679502",
     "exception": false,
     "start_time": "2023-04-10T07:06:46.645993",
     "status": "completed"
    },
    "tags": []
   },
   "outputs": [],
   "source": [
    "# Number of trees in random forest\n",
    "n_estimators = [20,60,100,120]\n",
    "\n",
    "# Number of features to consider at every split\n",
    "max_features = [0.2,0.6,1.0]\n",
    "\n",
    "# Maximum number of levels in tree\n",
    "max_depth = [2,8,None]\n",
    "\n",
    "# Number of samples\n",
    "max_samples = [0.5,0.75,1.0]\n",
    "\n",
    "# 108 diff random forest train"
   ]
  },
  {
   "cell_type": "code",
   "execution_count": 54,
   "id": "184d1c77",
   "metadata": {
    "execution": {
     "iopub.execute_input": "2023-04-10T07:06:46.731174Z",
     "iopub.status.busy": "2023-04-10T07:06:46.730422Z",
     "iopub.status.idle": "2023-04-10T07:06:46.735849Z",
     "shell.execute_reply": "2023-04-10T07:06:46.735084Z"
    },
    "papermill": {
     "duration": 0.033573,
     "end_time": "2023-04-10T07:06:46.738142",
     "exception": false,
     "start_time": "2023-04-10T07:06:46.704569",
     "status": "completed"
    },
    "tags": []
   },
   "outputs": [
    {
     "name": "stdout",
     "output_type": "stream",
     "text": [
      "{'n_estimators': [20, 60, 100, 120], 'max_features': [0.2, 0.6, 1.0], 'max_depth': [2, 8, None], 'max_samples': [0.5, 0.75, 1.0]}\n"
     ]
    }
   ],
   "source": [
    "param_grid = {'n_estimators': n_estimators,\n",
    "               'max_features': max_features,\n",
    "               'max_depth': max_depth,\n",
    "              'max_samples':max_samples\n",
    "             }\n",
    "print(param_grid)"
   ]
  },
  {
   "cell_type": "code",
   "execution_count": 55,
   "id": "b63c5013",
   "metadata": {
    "execution": {
     "iopub.execute_input": "2023-04-10T07:06:46.788451Z",
     "iopub.status.busy": "2023-04-10T07:06:46.787637Z",
     "iopub.status.idle": "2023-04-10T07:06:46.792290Z",
     "shell.execute_reply": "2023-04-10T07:06:46.791309Z"
    },
    "papermill": {
     "duration": 0.033436,
     "end_time": "2023-04-10T07:06:46.794876",
     "exception": false,
     "start_time": "2023-04-10T07:06:46.761440",
     "status": "completed"
    },
    "tags": []
   },
   "outputs": [],
   "source": [
    "rf = RandomForestClassifier()"
   ]
  },
  {
   "cell_type": "code",
   "execution_count": 56,
   "id": "1761b86c",
   "metadata": {
    "execution": {
     "iopub.execute_input": "2023-04-10T07:06:46.843938Z",
     "iopub.status.busy": "2023-04-10T07:06:46.843143Z",
     "iopub.status.idle": "2023-04-10T07:06:46.849127Z",
     "shell.execute_reply": "2023-04-10T07:06:46.847608Z"
    },
    "papermill": {
     "duration": 0.033612,
     "end_time": "2023-04-10T07:06:46.852029",
     "exception": false,
     "start_time": "2023-04-10T07:06:46.818417",
     "status": "completed"
    },
    "tags": []
   },
   "outputs": [],
   "source": [
    "from sklearn.model_selection import GridSearchCV\n",
    "\n",
    "rf_grid = GridSearchCV(estimator = rf, \n",
    "                       param_grid = param_grid, \n",
    "                       cv = 5, \n",
    "                       verbose=2, \n",
    "                       n_jobs = -1)"
   ]
  },
  {
   "cell_type": "code",
   "execution_count": 57,
   "id": "27beee87",
   "metadata": {
    "execution": {
     "iopub.execute_input": "2023-04-10T07:06:46.899970Z",
     "iopub.status.busy": "2023-04-10T07:06:46.899561Z",
     "iopub.status.idle": "2023-04-10T07:07:20.120005Z",
     "shell.execute_reply": "2023-04-10T07:07:20.118215Z"
    },
    "papermill": {
     "duration": 33.274544,
     "end_time": "2023-04-10T07:07:20.149672",
     "exception": false,
     "start_time": "2023-04-10T07:06:46.875128",
     "status": "completed"
    },
    "tags": []
   },
   "outputs": [
    {
     "name": "stdout",
     "output_type": "stream",
     "text": [
      "Fitting 5 folds for each of 108 candidates, totalling 540 fits\n",
      "[CV] END max_depth=2, max_features=0.2, max_samples=0.5, n_estimators=20; total time=   0.1s\n",
      "[CV] END max_depth=2, max_features=0.2, max_samples=0.5, n_estimators=60; total time=   0.2s\n",
      "[CV] END max_depth=2, max_features=0.2, max_samples=0.5, n_estimators=100; total time=   0.3s\n",
      "[CV] END max_depth=2, max_features=0.2, max_samples=0.5, n_estimators=120; total time=   0.3s\n",
      "[CV] END max_depth=2, max_features=0.2, max_samples=0.75, n_estimators=20; total time=   0.1s\n",
      "[CV] END max_depth=2, max_features=0.2, max_samples=0.75, n_estimators=20; total time=   0.1s\n",
      "[CV] END max_depth=2, max_features=0.2, max_samples=0.75, n_estimators=20; total time=   0.1s\n",
      "[CV] END max_depth=2, max_features=0.2, max_samples=0.75, n_estimators=60; total time=   0.2s\n",
      "[CV] END max_depth=2, max_features=0.2, max_samples=0.75, n_estimators=100; total time=   0.3s\n",
      "[CV] END max_depth=2, max_features=0.2, max_samples=0.75, n_estimators=120; total time=   0.3s\n",
      "[CV] END max_depth=2, max_features=0.2, max_samples=0.75, n_estimators=120; total time=   0.3s\n",
      "[CV] END max_depth=2, max_features=0.2, max_samples=1.0, n_estimators=60; total time=   0.2s\n",
      "[CV] END max_depth=2, max_features=0.2, max_samples=1.0, n_estimators=100; total time=   0.3s\n",
      "[CV] END max_depth=2, max_features=0.2, max_samples=1.0, n_estimators=120; total time=   0.3s\n",
      "[CV] END max_depth=2, max_features=0.6, max_samples=0.5, n_estimators=20; total time=   0.1s\n",
      "[CV] END max_depth=2, max_features=0.6, max_samples=0.5, n_estimators=20; total time=   0.1s\n",
      "[CV] END max_depth=2, max_features=0.6, max_samples=0.5, n_estimators=60; total time=   0.2s\n",
      "[CV] END max_depth=2, max_features=0.6, max_samples=0.5, n_estimators=60; total time=   0.2s\n",
      "[CV] END max_depth=2, max_features=0.6, max_samples=0.5, n_estimators=100; total time=   0.3s\n",
      "[CV] END max_depth=2, max_features=0.6, max_samples=0.5, n_estimators=120; total time=   0.3s\n",
      "[CV] END max_depth=2, max_features=0.6, max_samples=0.75, n_estimators=20; total time=   0.1s\n",
      "[CV] END max_depth=2, max_features=0.6, max_samples=0.75, n_estimators=20; total time=   0.1s\n",
      "[CV] END max_depth=2, max_features=0.6, max_samples=0.75, n_estimators=60; total time=   0.2s\n",
      "[CV] END max_depth=2, max_features=0.6, max_samples=0.75, n_estimators=100; total time=   0.3s\n",
      "[CV] END max_depth=2, max_features=0.6, max_samples=0.75, n_estimators=120; total time=   0.3s\n",
      "[CV] END max_depth=2, max_features=0.6, max_samples=1.0, n_estimators=20; total time=   0.1s\n",
      "[CV] END max_depth=2, max_features=0.6, max_samples=1.0, n_estimators=20; total time=   0.1s\n",
      "[CV] END max_depth=2, max_features=0.6, max_samples=1.0, n_estimators=20; total time=   0.1s\n",
      "[CV] END max_depth=2, max_features=0.6, max_samples=1.0, n_estimators=60; total time=   0.2s\n",
      "[CV] END max_depth=2, max_features=0.6, max_samples=1.0, n_estimators=100; total time=   0.3s\n",
      "[CV] END max_depth=2, max_features=0.6, max_samples=1.0, n_estimators=120; total time=   0.3s\n",
      "[CV] END max_depth=2, max_features=0.6, max_samples=1.0, n_estimators=120; total time=   0.3s\n",
      "[CV] END max_depth=2, max_features=1.0, max_samples=0.5, n_estimators=60; total time=   0.2s\n",
      "[CV] END max_depth=2, max_features=1.0, max_samples=0.5, n_estimators=100; total time=   0.3s\n",
      "[CV] END max_depth=2, max_features=1.0, max_samples=0.5, n_estimators=120; total time=   0.3s\n",
      "[CV] END max_depth=2, max_features=1.0, max_samples=0.75, n_estimators=20; total time=   0.1s\n",
      "[CV] END max_depth=2, max_features=1.0, max_samples=0.75, n_estimators=20; total time=   0.1s\n",
      "[CV] END max_depth=2, max_features=1.0, max_samples=0.75, n_estimators=60; total time=   0.2s\n",
      "[CV] END max_depth=2, max_features=1.0, max_samples=0.75, n_estimators=60; total time=   0.2s\n",
      "[CV] END max_depth=2, max_features=1.0, max_samples=0.75, n_estimators=100; total time=   0.3s\n",
      "[CV] END max_depth=2, max_features=1.0, max_samples=0.75, n_estimators=120; total time=   0.4s\n",
      "[CV] END max_depth=2, max_features=1.0, max_samples=1.0, n_estimators=20; total time=   0.1s\n",
      "[CV] END max_depth=2, max_features=1.0, max_samples=1.0, n_estimators=20; total time=   0.1s\n",
      "[CV] END max_depth=2, max_features=1.0, max_samples=1.0, n_estimators=60; total time=   0.2s\n",
      "[CV] END max_depth=2, max_features=1.0, max_samples=1.0, n_estimators=100; total time=   0.3s\n",
      "[CV] END max_depth=2, max_features=1.0, max_samples=1.0, n_estimators=120; total time=   0.3s\n",
      "[CV] END max_depth=2, max_features=1.0, max_samples=1.0, n_estimators=120; total time=   0.3s\n",
      "[CV] END max_depth=8, max_features=0.2, max_samples=0.5, n_estimators=60; total time=   0.2s\n",
      "[CV] END max_depth=8, max_features=0.2, max_samples=0.5, n_estimators=100; total time=   0.3s\n",
      "[CV] END max_depth=8, max_features=0.2, max_samples=0.5, n_estimators=120; total time=   0.3s\n",
      "[CV] END max_depth=8, max_features=0.2, max_samples=0.75, n_estimators=20; total time=   0.1s\n",
      "[CV] END max_depth=8, max_features=0.2, max_samples=0.75, n_estimators=20; total time=   0.1s\n",
      "[CV] END max_depth=8, max_features=0.2, max_samples=0.75, n_estimators=20; total time=   0.1s\n",
      "[CV] END max_depth=8, max_features=0.2, max_samples=0.75, n_estimators=60; total time=   0.2s\n",
      "[CV] END max_depth=8, max_features=0.2, max_samples=0.75, n_estimators=60; total time=   0.2s\n",
      "[CV] END max_depth=8, max_features=0.2, max_samples=0.75, n_estimators=100; total time=   0.3s\n",
      "[CV] END max_depth=8, max_features=0.2, max_samples=0.75, n_estimators=120; total time=   0.3s\n",
      "[CV] END max_depth=8, max_features=0.2, max_samples=1.0, n_estimators=20; total time=   0.1s\n",
      "[CV] END max_depth=8, max_features=0.2, max_samples=1.0, n_estimators=20; total time=   0.1s\n",
      "[CV] END max_depth=8, max_features=0.2, max_samples=1.0, n_estimators=60; total time=   0.2s\n",
      "[CV] END max_depth=8, max_features=0.2, max_samples=1.0, n_estimators=60; total time=   0.2s\n",
      "[CV] END max_depth=8, max_features=0.2, max_samples=1.0, n_estimators=100; total time=   0.3s\n",
      "[CV] END max_depth=8, max_features=0.2, max_samples=1.0, n_estimators=120; total time=   0.3s\n",
      "[CV] END max_depth=8, max_features=0.6, max_samples=0.5, n_estimators=20; total time=   0.1s\n",
      "[CV] END max_depth=8, max_features=0.6, max_samples=0.5, n_estimators=20; total time=   0.1s\n",
      "[CV] END max_depth=8, max_features=0.6, max_samples=0.5, n_estimators=60; total time=   0.2s\n",
      "[CV] END max_depth=8, max_features=0.6, max_samples=0.5, n_estimators=100; total time=   0.3s\n",
      "[CV] END max_depth=8, max_features=0.6, max_samples=0.5, n_estimators=100; total time=   0.3s\n",
      "[CV] END max_depth=8, max_features=0.6, max_samples=0.5, n_estimators=120; total time=   0.3s\n",
      "[CV] END max_depth=8, max_features=0.6, max_samples=0.75, n_estimators=60; total time=   0.2s\n",
      "[CV] END max_depth=8, max_features=0.6, max_samples=0.75, n_estimators=60; total time=   0.2s\n",
      "[CV] END max_depth=8, max_features=0.6, max_samples=0.75, n_estimators=100; total time=   0.3s\n",
      "[CV] END max_depth=8, max_features=0.6, max_samples=0.75, n_estimators=120; total time=   0.4s\n",
      "[CV] END max_depth=8, max_features=0.6, max_samples=1.0, n_estimators=20; total time=   0.1s\n",
      "[CV] END max_depth=8, max_features=0.6, max_samples=1.0, n_estimators=20; total time=   0.1s\n",
      "[CV] END max_depth=8, max_features=0.6, max_samples=1.0, n_estimators=60; total time=   0.2s\n",
      "[CV] END max_depth=8, max_features=0.6, max_samples=1.0, n_estimators=100; total time=   0.3s\n",
      "[CV] END max_depth=8, max_features=0.6, max_samples=1.0, n_estimators=100; total time=   0.3s\n",
      "[CV] END max_depth=8, max_features=0.6, max_samples=1.0, n_estimators=120; total time=   0.4s\n",
      "[CV] END max_depth=8, max_features=1.0, max_samples=0.5, n_estimators=20; total time=   0.1s\n",
      "[CV] END max_depth=8, max_features=1.0, max_samples=0.5, n_estimators=60; total time=   0.3s\n",
      "[CV] END max_depth=8, max_features=1.0, max_samples=0.5, n_estimators=100; total time=   0.4s\n",
      "[CV] END max_depth=8, max_features=1.0, max_samples=0.5, n_estimators=120; total time=   0.6s\n",
      "[CV] END max_depth=8, max_features=1.0, max_samples=0.75, n_estimators=20; total time=   0.1s\n",
      "[CV] END max_depth=8, max_features=1.0, max_samples=0.75, n_estimators=20; total time=   0.1s\n",
      "[CV] END max_depth=8, max_features=1.0, max_samples=0.75, n_estimators=60; total time=   0.2s\n",
      "[CV] END max_depth=8, max_features=1.0, max_samples=0.75, n_estimators=100; total time=   0.3s\n",
      "[CV] END max_depth=8, max_features=1.0, max_samples=0.75, n_estimators=100; total time=   0.3s[CV] END max_depth=2, max_features=0.2, max_samples=0.5, n_estimators=20; total time=   0.1s\n",
      "[CV] END max_depth=2, max_features=0.2, max_samples=0.5, n_estimators=60; total time=   0.2s\n",
      "[CV] END max_depth=2, max_features=0.2, max_samples=0.5, n_estimators=100; total time=   0.3s\n",
      "[CV] END max_depth=2, max_features=0.2, max_samples=0.5, n_estimators=100; total time=   0.3s\n",
      "[CV] END max_depth=2, max_features=0.2, max_samples=0.5, n_estimators=120; total time=   0.3s\n",
      "[CV] END max_depth=2, max_features=0.2, max_samples=0.75, n_estimators=60; total time=   0.2s\n",
      "[CV] END max_depth=2, max_features=0.2, max_samples=0.75, n_estimators=60; total time=   0.2s\n",
      "[CV] END max_depth=2, max_features=0.2, max_samples=0.75, n_estimators=100; total time=   0.3s\n",
      "[CV] END max_depth=2, max_features=0.2, max_samples=0.75, n_estimators=120; total time=   0.3s\n",
      "[CV] END max_depth=2, max_features=0.2, max_samples=1.0, n_estimators=20; total time=   0.1s\n",
      "[CV] END max_depth=2, max_features=0.2, max_samples=1.0, n_estimators=20; total time=   0.1s\n",
      "[CV] END max_depth=2, max_features=0.2, max_samples=1.0, n_estimators=60; total time=   0.2s\n",
      "[CV] END max_depth=2, max_features=0.2, max_samples=1.0, n_estimators=100; total time=   0.3s\n",
      "[CV] END max_depth=2, max_features=0.2, max_samples=1.0, n_estimators=120; total time=   0.3s\n",
      "[CV] END max_depth=2, max_features=0.2, max_samples=1.0, n_estimators=120; total time=   0.3s\n",
      "[CV] END max_depth=2, max_features=0.6, max_samples=0.5, n_estimators=60; total time=   0.2s\n",
      "[CV] END max_depth=2, max_features=0.6, max_samples=0.5, n_estimators=100; total time=   0.3s\n",
      "[CV] END max_depth=2, max_features=0.6, max_samples=0.5, n_estimators=120; total time=   0.3s\n",
      "[CV] END max_depth=2, max_features=0.6, max_samples=0.75, n_estimators=20; total time=   0.1s\n",
      "[CV] END max_depth=2, max_features=0.6, max_samples=0.75, n_estimators=20; total time=   0.1s\n",
      "[CV] END max_depth=2, max_features=0.6, max_samples=0.75, n_estimators=20; total time=   0.1s\n",
      "[CV] END max_depth=2, max_features=0.6, max_samples=0.75, n_estimators=60; total time=   0.2s\n",
      "[CV] END max_depth=2, max_features=0.6, max_samples=0.75, n_estimators=60; total time=   0.2s\n",
      "[CV] END max_depth=2, max_features=0.6, max_samples=0.75, n_estimators=100; total time=   0.3s\n",
      "[CV] END max_depth=2, max_features=0.6, max_samples=0.75, n_estimators=120; total time=   0.3s\n",
      "[CV] END max_depth=2, max_features=0.6, max_samples=1.0, n_estimators=20; total time=   0.1s\n",
      "[CV] END max_depth=2, max_features=0.6, max_samples=1.0, n_estimators=20; total time=   0.1s\n",
      "[CV] END max_depth=2, max_features=0.6, max_samples=1.0, n_estimators=60; total time=   0.2s\n",
      "[CV] END max_depth=2, max_features=0.6, max_samples=1.0, n_estimators=60; total time=   0.2s\n",
      "[CV] END max_depth=2, max_features=0.6, max_samples=1.0, n_estimators=100; total time=   0.3s\n",
      "[CV] END max_depth=2, max_features=0.6, max_samples=1.0, n_estimators=120; total time=   0.3s\n",
      "[CV] END max_depth=2, max_features=1.0, max_samples=0.5, n_estimators=20; total time=   0.1s\n",
      "[CV] END max_depth=2, max_features=1.0, max_samples=0.5, n_estimators=20; total time=   0.1s\n",
      "[CV] END max_depth=2, max_features=1.0, max_samples=0.5, n_estimators=60; total time=   0.2s\n",
      "[CV] END max_depth=2, max_features=1.0, max_samples=0.5, n_estimators=60; total time=   0.2s\n",
      "[CV] END max_depth=2, max_features=1.0, max_samples=0.5, n_estimators=100; total time=   0.3s\n",
      "[CV] END max_depth=2, max_features=1.0, max_samples=0.5, n_estimators=120; total time=   0.3s\n",
      "[CV] END max_depth=2, max_features=1.0, max_samples=0.75, n_estimators=20; total time=   0.1s\n",
      "[CV] END max_depth=2, max_features=1.0, max_samples=0.75, n_estimators=20; total time=   0.1s\n",
      "[CV] END max_depth=2, max_features=1.0, max_samples=0.75, n_estimators=60; total time=   0.2s\n",
      "[CV] END max_depth=2, max_features=1.0, max_samples=0.75, n_estimators=100; total time=   0.3s\n",
      "[CV] END max_depth=2, max_features=1.0, max_samples=0.75, n_estimators=100; total time=   0.3s\n",
      "[CV] END max_depth=2, max_features=1.0, max_samples=0.75, n_estimators=120; total time=   0.4s\n",
      "[CV] END max_depth=2, max_features=1.0, max_samples=1.0, n_estimators=60; total time=   0.2s\n",
      "[CV] END max_depth=2, max_features=1.0, max_samples=1.0, n_estimators=60; total time=   0.2s\n",
      "[CV] END max_depth=2, max_features=1.0, max_samples=1.0, n_estimators=100; total time=   0.3s\n",
      "[CV] END max_depth=2, max_features=1.0, max_samples=1.0, n_estimators=120; total time=   0.3s\n",
      "[CV] END max_depth=8, max_features=0.2, max_samples=0.5, n_estimators=20; total time=   0.1s\n",
      "[CV] END max_depth=8, max_features=0.2, max_samples=0.5, n_estimators=20; total time=   0.1s\n",
      "[CV] END max_depth=8, max_features=0.2, max_samples=0.5, n_estimators=60; total time=   0.2s\n",
      "[CV] END max_depth=8, max_features=0.2, max_samples=0.5, n_estimators=100; total time=   0.3s\n",
      "[CV] END max_depth=8, max_features=0.2, max_samples=0.5, n_estimators=120; total time=   0.3s\n",
      "[CV] END max_depth=8, max_features=0.2, max_samples=0.5, n_estimators=120; total time=   0.3s\n",
      "[CV] END max_depth=8, max_features=0.2, max_samples=0.75, n_estimators=60; total time=   0.2s\n",
      "[CV] END max_depth=8, max_features=0.2, max_samples=0.75, n_estimators=100; total time=   0.3s\n",
      "[CV] END max_depth=8, max_features=0.2, max_samples=0.75, n_estimators=120; total time=   0.3s\n",
      "[CV] END max_depth=8, max_features=0.2, max_samples=1.0, n_estimators=20; total time=   0.1s\n",
      "[CV] END max_depth=8, max_features=0.2, max_samples=1.0, n_estimators=20; total time=   0.1s\n",
      "[CV] END max_depth=8, max_features=0.2, max_samples=1.0, n_estimators=20; total time=   0.1s\n",
      "[CV] END max_depth=8, max_features=0.2, max_samples=1.0, n_estimators=60; total time=   0.2s\n",
      "[CV] END max_depth=8, max_features=0.2, max_samples=1.0, n_estimators=100; total time=   0.3s\n",
      "[CV] END max_depth=8, max_features=0.2, max_samples=1.0, n_estimators=120; total time=   0.3s\n",
      "[CV] END max_depth=8, max_features=0.2, max_samples=1.0, n_estimators=120; total time=   0.3s\n",
      "[CV] END max_depth=8, max_features=0.6, max_samples=0.5, n_estimators=60; total time=   0.2s\n",
      "[CV] END max_depth=8, max_features=0.6, max_samples=0.5, n_estimators=100; total time=   0.3s\n",
      "[CV] END max_depth=8, max_features=0.6, max_samples=0.5, n_estimators=120; total time=   0.3s\n",
      "[CV] END max_depth=8, max_features=0.6, max_samples=0.75, n_estimators=20; total time=   0.1s\n",
      "[CV] END max_depth=8, max_features=0.6, max_samples=0.75, n_estimators=20; total time=   0.1s\n",
      "[CV] END max_depth=8, max_features=0.6, max_samples=0.75, n_estimators=20; total time=   0.1s\n",
      "[CV] END max_depth=8, max_features=0.6, max_samples=0.75, n_estimators=60; total time=   0.2s\n",
      "[CV] END max_depth=8, max_features=0.6, max_samples=0.75, n_estimators=100; total time=   0.3s\n",
      "[CV] END max_depth=8, max_features=0.6, max_samples=0.75, n_estimators=100; total time=   0.3s\n",
      "[CV] END max_depth=8, max_features=0.6, max_samples=0.75, n_estimators=120; total time=   0.4s\n",
      "[CV] END max_depth=8, max_features=0.6, max_samples=1.0, n_estimators=60; total time=   0.2s\n",
      "[CV] END max_depth=8, max_features=0.6, max_samples=1.0, n_estimators=60; total time=   0.2s\n",
      "[CV] END max_depth=8, max_features=0.6, max_samples=1.0, n_estimators=100; total time=   0.3s\n",
      "[CV] END max_depth=8, max_features=0.6, max_samples=1.0, n_estimators=120; total time=   0.4s\n",
      "[CV] END max_depth=8, max_features=1.0, max_samples=0.5, n_estimators=20; total time=   0.1s\n",
      "[CV] END max_depth=8, max_features=1.0, max_samples=0.5, n_estimators=60; total time=   0.3s\n",
      "[CV] END max_depth=8, max_features=1.0, max_samples=0.5, n_estimators=100; total time=   0.4s\n",
      "[CV] END max_depth=8, max_features=1.0, max_samples=0.5, n_estimators=100; total time=   0.3s\n",
      "[CV] END max_depth=8, max_features=1.0, max_samples=0.5, n_estimators=120; total time=   0.3s\n",
      "[CV] END max_depth=8, max_features=1.0, max_samples=0.5, n_estimators=120; total time=   0.4s\n",
      "[CV] END max_depth=8, max_features=1.0, max_samples=0.75, n_estimators=60; total time=   0.2s\n",
      "[CV] END max_depth=8, max_features=1.0, max_samples=0.75, n_estimators=100; total time=   0.3s\n",
      "[CV] END max_depth=8, max_features=1.0, max_samples=0.75, n_estimators=120; total time=   0.4s\n",
      "[CV] END max_depth=8, max_features=1.0, max_samples=1.0, n_estimators=20; total time=   0.1s\n",
      "[CV] END max_depth=8, max_features=1.0, max_samples=1.0, n_estimators=20; total time=   0.1s[CV] END max_depth=2, max_features=0.2, max_samples=0.5, n_estimators=20; total time=   0.1s\n",
      "[CV] END max_depth=2, max_features=0.2, max_samples=0.5, n_estimators=20; total time=   0.1s\n",
      "[CV] END max_depth=2, max_features=0.2, max_samples=0.5, n_estimators=60; total time=   0.1s\n",
      "[CV] END max_depth=2, max_features=0.2, max_samples=0.5, n_estimators=60; total time=   0.2s\n",
      "[CV] END max_depth=2, max_features=0.2, max_samples=0.5, n_estimators=100; total time=   0.3s\n",
      "[CV] END max_depth=2, max_features=0.2, max_samples=0.5, n_estimators=120; total time=   0.3s\n",
      "[CV] END max_depth=2, max_features=0.2, max_samples=0.75, n_estimators=20; total time=   0.1s\n",
      "[CV] END max_depth=2, max_features=0.2, max_samples=0.75, n_estimators=20; total time=   0.1s\n",
      "[CV] END max_depth=2, max_features=0.2, max_samples=0.75, n_estimators=60; total time=   0.2s\n",
      "[CV] END max_depth=2, max_features=0.2, max_samples=0.75, n_estimators=100; total time=   0.3s\n",
      "[CV] END max_depth=2, max_features=0.2, max_samples=0.75, n_estimators=100; total time=   0.3s\n",
      "[CV] END max_depth=2, max_features=0.2, max_samples=0.75, n_estimators=120; total time=   0.3s\n",
      "[CV] END max_depth=2, max_features=0.2, max_samples=1.0, n_estimators=60; total time=   0.2s\n",
      "[CV] END max_depth=2, max_features=0.2, max_samples=1.0, n_estimators=60; total time=   0.2s\n",
      "[CV] END max_depth=2, max_features=0.2, max_samples=1.0, n_estimators=100; total time=   0.3s\n",
      "[CV] END max_depth=2, max_features=0.2, max_samples=1.0, n_estimators=120; total time=   0.3s\n",
      "[CV] END max_depth=2, max_features=0.6, max_samples=0.5, n_estimators=20; total time=   0.1s\n",
      "[CV] END max_depth=2, max_features=0.6, max_samples=0.5, n_estimators=20; total time=   0.1s\n",
      "[CV] END max_depth=2, max_features=0.6, max_samples=0.5, n_estimators=60; total time=   0.2s\n",
      "[CV] END max_depth=2, max_features=0.6, max_samples=0.5, n_estimators=100; total time=   0.3s\n",
      "[CV] END max_depth=2, max_features=0.6, max_samples=0.5, n_estimators=100; total time=   0.3s\n",
      "[CV] END max_depth=2, max_features=0.6, max_samples=0.5, n_estimators=120; total time=   0.3s\n",
      "[CV] END max_depth=2, max_features=0.6, max_samples=0.75, n_estimators=60; total time=   0.2s\n",
      "[CV] END max_depth=2, max_features=0.6, max_samples=0.75, n_estimators=100; total time=   0.3s\n",
      "[CV] END max_depth=2, max_features=0.6, max_samples=0.75, n_estimators=100; total time=   0.3s\n",
      "[CV] END max_depth=2, max_features=0.6, max_samples=0.75, n_estimators=120; total time=   0.3s\n",
      "[CV] END max_depth=2, max_features=0.6, max_samples=1.0, n_estimators=60; total time=   0.2s\n",
      "[CV] END max_depth=2, max_features=0.6, max_samples=1.0, n_estimators=100; total time=   0.3s\n",
      "[CV] END max_depth=2, max_features=0.6, max_samples=1.0, n_estimators=100; total time=   0.3s\n",
      "[CV] END max_depth=2, max_features=0.6, max_samples=1.0, n_estimators=120; total time=   0.3s\n",
      "[CV] END max_depth=2, max_features=1.0, max_samples=0.5, n_estimators=60; total time=   0.2s\n",
      "[CV] END max_depth=2, max_features=1.0, max_samples=0.5, n_estimators=100; total time=   0.3s\n",
      "[CV] END max_depth=2, max_features=1.0, max_samples=0.5, n_estimators=120; total time=   0.3s\n",
      "[CV] END max_depth=2, max_features=1.0, max_samples=0.5, n_estimators=120; total time=   0.3s\n",
      "[CV] END max_depth=2, max_features=1.0, max_samples=0.75, n_estimators=60; total time=   0.2s\n",
      "[CV] END max_depth=2, max_features=1.0, max_samples=0.75, n_estimators=100; total time=   0.3s\n",
      "[CV] END max_depth=2, max_features=1.0, max_samples=0.75, n_estimators=120; total time=   0.3s\n",
      "[CV] END max_depth=2, max_features=1.0, max_samples=0.75, n_estimators=120; total time=   0.4s\n",
      "[CV] END max_depth=2, max_features=1.0, max_samples=1.0, n_estimators=60; total time=   0.2s\n",
      "[CV] END max_depth=2, max_features=1.0, max_samples=1.0, n_estimators=100; total time=   0.3s\n",
      "[CV] END max_depth=2, max_features=1.0, max_samples=1.0, n_estimators=120; total time=   0.3s\n",
      "[CV] END max_depth=8, max_features=0.2, max_samples=0.5, n_estimators=20; total time=   0.1s\n",
      "[CV] END max_depth=8, max_features=0.2, max_samples=0.5, n_estimators=20; total time=   0.1s\n",
      "[CV] END max_depth=8, max_features=0.2, max_samples=0.5, n_estimators=20; total time=   0.1s\n",
      "[CV] END max_depth=8, max_features=0.2, max_samples=0.5, n_estimators=60; total time=   0.2s\n",
      "[CV] END max_depth=8, max_features=0.2, max_samples=0.5, n_estimators=60; total time=   0.2s\n",
      "[CV] END max_depth=8, max_features=0.2, max_samples=0.5, n_estimators=100; total time=   0.3s\n",
      "[CV] END max_depth=8, max_features=0.2, max_samples=0.5, n_estimators=120; total time=   0.3s\n",
      "[CV] END max_depth=8, max_features=0.2, max_samples=0.75, n_estimators=20; total time=   0.1s\n",
      "[CV] END max_depth=8, max_features=0.2, max_samples=0.75, n_estimators=20; total time=   0.1s\n",
      "[CV] END max_depth=8, max_features=0.2, max_samples=0.75, n_estimators=60; total time=   0.2s\n",
      "[CV] END max_depth=8, max_features=0.2, max_samples=0.75, n_estimators=100; total time=   0.3s\n",
      "[CV] END max_depth=8, max_features=0.2, max_samples=0.75, n_estimators=120; total time=   0.3s\n",
      "[CV] END max_depth=8, max_features=0.2, max_samples=0.75, n_estimators=120; total time=   0.4s\n",
      "[CV] END max_depth=8, max_features=0.2, max_samples=1.0, n_estimators=60; total time=   0.2s\n",
      "[CV] END max_depth=8, max_features=0.2, max_samples=1.0, n_estimators=100; total time=   0.3s\n",
      "[CV] END max_depth=8, max_features=0.2, max_samples=1.0, n_estimators=120; total time=   0.3s\n",
      "[CV] END max_depth=8, max_features=0.6, max_samples=0.5, n_estimators=20; total time=   0.1s\n",
      "[CV] END max_depth=8, max_features=0.6, max_samples=0.5, n_estimators=20; total time=   0.1s\n",
      "[CV] END max_depth=8, max_features=0.6, max_samples=0.5, n_estimators=20; total time=   0.1s\n",
      "[CV] END max_depth=8, max_features=0.6, max_samples=0.5, n_estimators=60; total time=   0.2s\n",
      "[CV] END max_depth=8, max_features=0.6, max_samples=0.5, n_estimators=60; total time=   0.2s\n",
      "[CV] END max_depth=8, max_features=0.6, max_samples=0.5, n_estimators=100; total time=   0.3s\n",
      "[CV] END max_depth=8, max_features=0.6, max_samples=0.5, n_estimators=120; total time=   0.3s\n",
      "[CV] END max_depth=8, max_features=0.6, max_samples=0.75, n_estimators=20; total time=   0.1s\n",
      "[CV] END max_depth=8, max_features=0.6, max_samples=0.75, n_estimators=20; total time=   0.1s\n",
      "[CV] END max_depth=8, max_features=0.6, max_samples=0.75, n_estimators=60; total time=   0.2s\n",
      "[CV] END max_depth=8, max_features=0.6, max_samples=0.75, n_estimators=100; total time=   0.3s\n",
      "[CV] END max_depth=8, max_features=0.6, max_samples=0.75, n_estimators=120; total time=   0.4s\n",
      "[CV] END max_depth=8, max_features=0.6, max_samples=1.0, n_estimators=20; total time=   0.1s\n",
      "[CV] END max_depth=8, max_features=0.6, max_samples=1.0, n_estimators=20; total time=   0.1s\n",
      "[CV] END max_depth=8, max_features=0.6, max_samples=1.0, n_estimators=20; total time=   0.1s\n",
      "[CV] END max_depth=8, max_features=0.6, max_samples=1.0, n_estimators=60; total time=   0.2s\n",
      "[CV] END max_depth=8, max_features=0.6, max_samples=1.0, n_estimators=100; total time=   0.3s\n",
      "[CV] END max_depth=8, max_features=0.6, max_samples=1.0, n_estimators=120; total time=   0.4s\n",
      "[CV] END max_depth=8, max_features=0.6, max_samples=1.0, n_estimators=120; total time=   0.5s\n",
      "[CV] END max_depth=8, max_features=1.0, max_samples=0.5, n_estimators=60; total time=   0.3s\n",
      "[CV] END max_depth=8, max_features=1.0, max_samples=0.5, n_estimators=100; total time=   0.4s\n",
      "[CV] END max_depth=8, max_features=1.0, max_samples=0.5, n_estimators=120; total time=   0.6s\n",
      "[CV] END max_depth=8, max_features=1.0, max_samples=0.75, n_estimators=20; total time=   0.1s\n",
      "[CV] END max_depth=8, max_features=1.0, max_samples=0.75, n_estimators=60; total time=   0.2s\n",
      "[CV] END max_depth=8, max_features=1.0, max_samples=0.75, n_estimators=100; total time=   0.3s\n",
      "[CV] END max_depth=8, max_features=1.0, max_samples=0.75, n_estimators=120; total time=   0.4s\n",
      "[CV] END max_depth=8, max_features=1.0, max_samples=0.75, n_estimators=120; total time=   0.4s\n",
      "[CV] END max_depth=8, max_features=1.0, max_samples=1.0, n_estimators=60; total time=   0.2s\n",
      "[CV] END max_depth=8, max_features=1.0, max_samples=1.0, n_estimators=100; total time=   0.3s\n",
      "[CV] END max_depth=8, max_features=1.0, max_samples=1.0, n_estimators=120; total time=   0.4s\n",
      "[CV] END max_depth=None, max_features=0.2, max_samples=0.5, n_estimators=20; total time=   0.1s[CV] END max_depth=2, max_features=0.2, max_samples=0.5, n_estimators=20; total time=   0.1s\n",
      "[CV] END max_depth=2, max_features=0.2, max_samples=0.5, n_estimators=60; total time=   0.2s\n",
      "[CV] END max_depth=2, max_features=0.2, max_samples=0.5, n_estimators=100; total time=   0.3s\n",
      "[CV] END max_depth=2, max_features=0.2, max_samples=0.5, n_estimators=120; total time=   0.3s\n",
      "[CV] END max_depth=2, max_features=0.2, max_samples=0.5, n_estimators=120; total time=   0.3s\n",
      "[CV] END max_depth=2, max_features=0.2, max_samples=0.75, n_estimators=60; total time=   0.2s\n",
      "[CV] END max_depth=2, max_features=0.2, max_samples=0.75, n_estimators=100; total time=   0.3s\n",
      "[CV] END max_depth=2, max_features=0.2, max_samples=0.75, n_estimators=120; total time=   0.3s\n",
      "[CV] END max_depth=2, max_features=0.2, max_samples=1.0, n_estimators=20; total time=   0.1s\n",
      "[CV] END max_depth=2, max_features=0.2, max_samples=1.0, n_estimators=20; total time=   0.1s\n",
      "[CV] END max_depth=2, max_features=0.2, max_samples=1.0, n_estimators=20; total time=   0.1s\n",
      "[CV] END max_depth=2, max_features=0.2, max_samples=1.0, n_estimators=60; total time=   0.2s\n",
      "[CV] END max_depth=2, max_features=0.2, max_samples=1.0, n_estimators=100; total time=   0.3s\n",
      "[CV] END max_depth=2, max_features=0.2, max_samples=1.0, n_estimators=100; total time=   0.2s\n",
      "[CV] END max_depth=2, max_features=0.2, max_samples=1.0, n_estimators=120; total time=   0.3s\n",
      "[CV] END max_depth=2, max_features=0.6, max_samples=0.5, n_estimators=20; total time=   0.1s\n",
      "[CV] END max_depth=2, max_features=0.6, max_samples=0.5, n_estimators=60; total time=   0.2s\n",
      "[CV] END max_depth=2, max_features=0.6, max_samples=0.5, n_estimators=100; total time=   0.3s\n",
      "[CV] END max_depth=2, max_features=0.6, max_samples=0.5, n_estimators=120; total time=   0.3s\n",
      "[CV] END max_depth=2, max_features=0.6, max_samples=0.5, n_estimators=120; total time=   0.3s\n",
      "[CV] END max_depth=2, max_features=0.6, max_samples=0.75, n_estimators=60; total time=   0.2s\n",
      "[CV] END max_depth=2, max_features=0.6, max_samples=0.75, n_estimators=100; total time=   0.3s\n",
      "[CV] END max_depth=2, max_features=0.6, max_samples=0.75, n_estimators=120; total time=   0.3s\n",
      "[CV] END max_depth=2, max_features=0.6, max_samples=0.75, n_estimators=120; total time=   0.3s\n",
      "[CV] END max_depth=2, max_features=0.6, max_samples=1.0, n_estimators=60; total time=   0.2s\n",
      "[CV] END max_depth=2, max_features=0.6, max_samples=1.0, n_estimators=100; total time=   0.3s\n",
      "[CV] END max_depth=2, max_features=0.6, max_samples=1.0, n_estimators=120; total time=   0.3s\n",
      "[CV] END max_depth=2, max_features=1.0, max_samples=0.5, n_estimators=20; total time=   0.1s\n",
      "[CV] END max_depth=2, max_features=1.0, max_samples=0.5, n_estimators=20; total time=   0.1s\n",
      "[CV] END max_depth=2, max_features=1.0, max_samples=0.5, n_estimators=20; total time=   0.1s\n",
      "[CV] END max_depth=2, max_features=1.0, max_samples=0.5, n_estimators=60; total time=   0.2s\n",
      "[CV] END max_depth=2, max_features=1.0, max_samples=0.5, n_estimators=100; total time=   0.3s\n",
      "[CV] END max_depth=2, max_features=1.0, max_samples=0.5, n_estimators=100; total time=   0.3s\n",
      "[CV] END max_depth=2, max_features=1.0, max_samples=0.5, n_estimators=120; total time=   0.3s\n",
      "[CV] END max_depth=2, max_features=1.0, max_samples=0.75, n_estimators=20; total time=   0.1s\n",
      "[CV] END max_depth=2, max_features=1.0, max_samples=0.75, n_estimators=60; total time=   0.2s\n",
      "[CV] END max_depth=2, max_features=1.0, max_samples=0.75, n_estimators=100; total time=   0.4s\n",
      "[CV] END max_depth=2, max_features=1.0, max_samples=0.75, n_estimators=120; total time=   0.4s\n",
      "[CV] END max_depth=2, max_features=1.0, max_samples=1.0, n_estimators=20; total time=   0.1s\n",
      "[CV] END max_depth=2, max_features=1.0, max_samples=1.0, n_estimators=20; total time=   0.1s\n",
      "[CV] END max_depth=2, max_features=1.0, max_samples=1.0, n_estimators=20; total time=   0.1s\n",
      "[CV] END max_depth=2, max_features=1.0, max_samples=1.0, n_estimators=60; total time=   0.2s\n",
      "[CV] END max_depth=2, max_features=1.0, max_samples=1.0, n_estimators=100; total time=   0.3s\n",
      "[CV] END max_depth=2, max_features=1.0, max_samples=1.0, n_estimators=100; total time=   0.3s\n",
      "[CV] END max_depth=2, max_features=1.0, max_samples=1.0, n_estimators=120; total time=   0.3s\n",
      "[CV] END max_depth=8, max_features=0.2, max_samples=0.5, n_estimators=60; total time=   0.2s\n",
      "[CV] END max_depth=8, max_features=0.2, max_samples=0.5, n_estimators=100; total time=   0.3s\n",
      "[CV] END max_depth=8, max_features=0.2, max_samples=0.5, n_estimators=100; total time=   0.3s\n",
      "[CV] END max_depth=8, max_features=0.2, max_samples=0.5, n_estimators=120; total time=   0.3s\n",
      "[CV] END max_depth=8, max_features=0.2, max_samples=0.75, n_estimators=60; total time=   0.2s\n",
      "[CV] END max_depth=8, max_features=0.2, max_samples=0.75, n_estimators=100; total time=   0.3s\n",
      "[CV] END max_depth=8, max_features=0.2, max_samples=0.75, n_estimators=100; total time=   0.3s\n",
      "[CV] END max_depth=8, max_features=0.2, max_samples=0.75, n_estimators=120; total time=   0.4s\n",
      "[CV] END max_depth=8, max_features=0.2, max_samples=1.0, n_estimators=60; total time=   0.2s\n",
      "[CV] END max_depth=8, max_features=0.2, max_samples=1.0, n_estimators=100; total time=   0.3s\n",
      "[CV] END max_depth=8, max_features=0.2, max_samples=1.0, n_estimators=100; total time=   0.3s\n",
      "[CV] END max_depth=8, max_features=0.2, max_samples=1.0, n_estimators=120; total time=   0.4s\n",
      "[CV] END max_depth=8, max_features=0.6, max_samples=0.5, n_estimators=60; total time=   0.2s\n",
      "[CV] END max_depth=8, max_features=0.6, max_samples=0.5, n_estimators=100; total time=   0.3s\n",
      "[CV] END max_depth=8, max_features=0.6, max_samples=0.5, n_estimators=120; total time=   0.3s\n",
      "[CV] END max_depth=8, max_features=0.6, max_samples=0.5, n_estimators=120; total time=   0.3s\n",
      "[CV] END max_depth=8, max_features=0.6, max_samples=0.75, n_estimators=60; total time=   0.2s\n",
      "[CV] END max_depth=8, max_features=0.6, max_samples=0.75, n_estimators=100; total time=   0.3s\n",
      "[CV] END max_depth=8, max_features=0.6, max_samples=0.75, n_estimators=120; total time=   0.3s\n",
      "[CV] END max_depth=8, max_features=0.6, max_samples=0.75, n_estimators=120; total time=   0.3s\n",
      "[CV] END max_depth=8, max_features=0.6, max_samples=1.0, n_estimators=60; total time=   0.2s\n",
      "[CV] END max_depth=8, max_features=0.6, max_samples=1.0, n_estimators=100; total time=   0.3s\n",
      "[CV] END max_depth=8, max_features=0.6, max_samples=1.0, n_estimators=120; total time=   0.4s\n",
      "[CV] END max_depth=8, max_features=1.0, max_samples=0.5, n_estimators=20; total time=   0.1s\n",
      "[CV] END max_depth=8, max_features=1.0, max_samples=0.5, n_estimators=20; total time=   0.1s\n",
      "[CV] END max_depth=8, max_features=1.0, max_samples=0.5, n_estimators=20; total time=   0.1s\n",
      "[CV] END max_depth=8, max_features=1.0, max_samples=0.5, n_estimators=60; total time=   0.2s\n",
      "[CV] END max_depth=8, max_features=1.0, max_samples=0.5, n_estimators=60; total time=   0.2s\n",
      "[CV] END max_depth=8, max_features=1.0, max_samples=0.5, n_estimators=100; total time=   0.4s\n",
      "[CV] END max_depth=8, max_features=1.0, max_samples=0.5, n_estimators=120; total time=   0.5s\n",
      "[CV] END max_depth=8, max_features=1.0, max_samples=0.75, n_estimators=20; total time=   0.1s\n",
      "[CV] END max_depth=8, max_features=1.0, max_samples=0.75, n_estimators=20; total time=   0.1s\n",
      "[CV] END max_depth=8, max_features=1.0, max_samples=0.75, n_estimators=60; total time=   0.2s\n",
      "[CV] END max_depth=8, max_features=1.0, max_samples=0.75, n_estimators=60; total time=   0.2s\n",
      "[CV] END max_depth=8, max_features=1.0, max_samples=0.75, n_estimators=100; total time=   0.3s\n",
      "[CV] END max_depth=8, max_features=1.0, max_samples=0.75, n_estimators=120; total time=   0.4s\n",
      "[CV] END max_depth=8, max_features=1.0, max_samples=1.0, n_estimators=20; total time=   0.1s\n",
      "[CV] END max_depth=8, max_features=1.0, max_samples=1.0, n_estimators=20; total time=   0.1s\n",
      "[CV] END max_depth=8, max_features=1.0, max_samples=1.0, n_estimators=60; total time=   0.2s\n",
      "[CV] END max_depth=8, max_features=1.0, max_samples=1.0, n_estimators=60; total time=   0.2s\n",
      "[CV] END max_depth=8, max_features=1.0, max_samples=1.0, n_estimators=100; total time=   0.3s\n",
      "[CV] END max_depth=8, max_features=1.0, max_samples=1.0, n_estimators=120; total time=   0.4s\n",
      "[CV] END max_depth=None, max_features=0.2, max_samples=0.5, n_estimators=20; total time=   0.1s"
     ]
    },
    {
     "data": {
      "text/plain": [
       "GridSearchCV(cv=5, estimator=RandomForestClassifier(), n_jobs=-1,\n",
       "             param_grid={'max_depth': [2, 8, None],\n",
       "                         'max_features': [0.2, 0.6, 1.0],\n",
       "                         'max_samples': [0.5, 0.75, 1.0],\n",
       "                         'n_estimators': [20, 60, 100, 120]},\n",
       "             verbose=2)"
      ]
     },
     "execution_count": 57,
     "metadata": {},
     "output_type": "execute_result"
    }
   ],
   "source": [
    "rf_grid.fit(X_train,y_train)"
   ]
  },
  {
   "cell_type": "code",
   "execution_count": 58,
   "id": "1d72dde7",
   "metadata": {
    "execution": {
     "iopub.execute_input": "2023-04-10T07:07:20.201222Z",
     "iopub.status.busy": "2023-04-10T07:07:20.200723Z",
     "iopub.status.idle": "2023-04-10T07:07:20.210180Z",
     "shell.execute_reply": "2023-04-10T07:07:20.208719Z"
    },
    "papermill": {
     "duration": 0.038834,
     "end_time": "2023-04-10T07:07:20.212831",
     "exception": false,
     "start_time": "2023-04-10T07:07:20.173997",
     "status": "completed"
    },
    "tags": []
   },
   "outputs": [
    {
     "data": {
      "text/plain": [
       "{'max_depth': None,\n",
       " 'max_features': 0.6,\n",
       " 'max_samples': 0.5,\n",
       " 'n_estimators': 60}"
      ]
     },
     "execution_count": 58,
     "metadata": {},
     "output_type": "execute_result"
    }
   ],
   "source": [
    "rf_grid.best_params_"
   ]
  },
  {
   "cell_type": "code",
   "execution_count": 59,
   "id": "4023bded",
   "metadata": {
    "execution": {
     "iopub.execute_input": "2023-04-10T07:07:20.265115Z",
     "iopub.status.busy": "2023-04-10T07:07:20.264029Z",
     "iopub.status.idle": "2023-04-10T07:07:20.272122Z",
     "shell.execute_reply": "2023-04-10T07:07:20.270733Z"
    },
    "papermill": {
     "duration": 0.03724,
     "end_time": "2023-04-10T07:07:20.275105",
     "exception": false,
     "start_time": "2023-04-10T07:07:20.237865",
     "status": "completed"
    },
    "tags": []
   },
   "outputs": [
    {
     "data": {
      "text/plain": [
       "0.8412685905643652"
      ]
     },
     "execution_count": 59,
     "metadata": {},
     "output_type": "execute_result"
    }
   ],
   "source": [
    "rf_grid.best_score_"
   ]
  },
  {
   "cell_type": "code",
   "execution_count": 60,
   "id": "16fd78ac",
   "metadata": {
    "execution": {
     "iopub.execute_input": "2023-04-10T07:07:20.325138Z",
     "iopub.status.busy": "2023-04-10T07:07:20.324296Z",
     "iopub.status.idle": "2023-04-10T07:07:20.348488Z",
     "shell.execute_reply": "2023-04-10T07:07:20.346920Z"
    },
    "papermill": {
     "duration": 0.052324,
     "end_time": "2023-04-10T07:07:20.351286",
     "exception": false,
     "start_time": "2023-04-10T07:07:20.298962",
     "status": "completed"
    },
    "tags": []
   },
   "outputs": [
    {
     "data": {
      "text/plain": [
       "array([0, 0, 0, 0, 1, 0, 0, 0, 1, 0, 0, 0, 1, 0, 1, 1, 0, 0, 1, 1, 0, 1,\n",
       "       1, 0, 1, 0, 1, 0, 1, 0, 0, 0, 1, 0, 1, 0, 0, 0, 0, 0, 0, 1, 0, 1,\n",
       "       1, 0, 0, 0, 1, 1, 0, 0, 1, 1, 0, 0, 0, 0, 0, 1, 0, 0, 0, 1, 1, 1,\n",
       "       1, 0, 0, 1, 1, 0, 0, 0, 1, 0, 0, 1, 0, 1, 1, 0, 0, 0, 0, 0, 1, 0,\n",
       "       1, 1, 1, 0, 1, 0, 0, 0, 1, 0, 1, 0, 1, 0, 0, 0, 1, 0, 0, 0, 0, 0,\n",
       "       0, 1, 1, 1, 1, 0, 0, 1, 0, 1, 1, 0, 1, 0, 0, 1, 0, 1, 1, 0, 0, 0,\n",
       "       0, 0, 0, 0, 0, 0, 0, 0, 0, 1, 0, 0, 0, 0, 0, 0, 0, 0, 1, 0, 0, 1,\n",
       "       0, 0, 1, 0, 1, 1, 1, 1, 1, 0, 0, 0, 0, 0, 1, 0, 0, 0, 0, 0, 0, 1,\n",
       "       1, 0, 1, 1, 0, 0, 1, 0, 1, 0, 1, 0, 0, 0, 0, 1, 1, 0, 1, 0, 1, 0,\n",
       "       0, 1, 1, 1, 0, 1, 0, 0, 1, 0, 1, 0, 0, 0, 0, 1, 0, 0, 1, 0, 1, 0,\n",
       "       1, 0, 1, 0, 1, 1, 0, 1, 0, 0, 0, 1, 0, 0, 0, 0, 0, 0, 1, 1, 1, 1,\n",
       "       0, 0, 0, 1, 1, 0, 1, 0, 1, 0, 0, 0, 0, 0, 0, 0, 1, 0, 0, 0, 1, 1,\n",
       "       0, 0, 0, 0, 0, 0, 0, 0, 1, 1, 0, 1, 0, 0, 0, 0, 0, 1, 1, 1, 1, 0,\n",
       "       0, 0, 0, 0, 0, 0, 0, 1, 0, 0, 1, 0, 0, 0, 0, 0, 0, 0, 1, 1, 0, 1,\n",
       "       0, 0, 0, 0, 0, 1, 1, 1, 0, 0, 0, 0, 0, 0, 0, 0, 1, 0, 1, 0, 0, 0,\n",
       "       1, 0, 0, 1, 0, 0, 0, 0, 0, 0, 0, 0, 0, 1, 0, 0, 0, 1, 0, 1, 1, 0,\n",
       "       0, 0, 1, 1, 1, 0, 0, 1, 0, 1, 1, 0, 1, 0, 0, 0, 1, 0, 0, 1, 0, 0,\n",
       "       1, 1, 0, 0, 0, 0, 0, 0, 1, 1, 0, 1, 0, 0, 0, 0, 0, 1, 1, 0, 0, 1,\n",
       "       0, 1, 0, 0, 1, 0, 1, 0, 0, 0, 0, 0, 1, 1, 1, 1, 0, 0, 1, 0, 0, 1])"
      ]
     },
     "execution_count": 60,
     "metadata": {},
     "output_type": "execute_result"
    }
   ],
   "source": [
    "yf=rf_grid.predict(test)\n",
    "yf"
   ]
  },
  {
   "cell_type": "code",
   "execution_count": 61,
   "id": "f0903ce5",
   "metadata": {
    "execution": {
     "iopub.execute_input": "2023-04-10T07:07:20.402304Z",
     "iopub.status.busy": "2023-04-10T07:07:20.401060Z",
     "iopub.status.idle": "2023-04-10T07:07:20.407977Z",
     "shell.execute_reply": "2023-04-10T07:07:20.406698Z"
    },
    "papermill": {
     "duration": 0.035421,
     "end_time": "2023-04-10T07:07:20.410651",
     "exception": false,
     "start_time": "2023-04-10T07:07:20.375230",
     "status": "completed"
    },
    "tags": []
   },
   "outputs": [],
   "source": [
    "submission=pd.DataFrame()"
   ]
  },
  {
   "cell_type": "code",
   "execution_count": 62,
   "id": "1c760d11",
   "metadata": {
    "execution": {
     "iopub.execute_input": "2023-04-10T07:07:20.460321Z",
     "iopub.status.busy": "2023-04-10T07:07:20.459645Z",
     "iopub.status.idle": "2023-04-10T07:07:20.466633Z",
     "shell.execute_reply": "2023-04-10T07:07:20.465768Z"
    },
    "papermill": {
     "duration": 0.034568,
     "end_time": "2023-04-10T07:07:20.468887",
     "exception": false,
     "start_time": "2023-04-10T07:07:20.434319",
     "status": "completed"
    },
    "tags": []
   },
   "outputs": [],
   "source": [
    "submission['PassengerId']=PassengerId\n",
    "submission['Survived']=yf"
   ]
  },
  {
   "cell_type": "code",
   "execution_count": 63,
   "id": "9222ef44",
   "metadata": {
    "execution": {
     "iopub.execute_input": "2023-04-10T07:07:20.518341Z",
     "iopub.status.busy": "2023-04-10T07:07:20.517694Z",
     "iopub.status.idle": "2023-04-10T07:07:20.530997Z",
     "shell.execute_reply": "2023-04-10T07:07:20.529670Z"
    },
    "papermill": {
     "duration": 0.041402,
     "end_time": "2023-04-10T07:07:20.533869",
     "exception": false,
     "start_time": "2023-04-10T07:07:20.492467",
     "status": "completed"
    },
    "tags": []
   },
   "outputs": [],
   "source": [
    "submission.to_csv('submission.csv', index=False)"
   ]
  }
 ],
 "metadata": {
  "kernelspec": {
   "display_name": "Python 3",
   "language": "python",
   "name": "python3"
  },
  "language_info": {
   "codemirror_mode": {
    "name": "ipython",
    "version": 3
   },
   "file_extension": ".py",
   "mimetype": "text/x-python",
   "name": "python",
   "nbconvert_exporter": "python",
   "pygments_lexer": "ipython3",
   "version": "3.7.12"
  },
  "papermill": {
   "default_parameters": {},
   "duration": 54.647097,
   "end_time": "2023-04-10T07:07:23.180009",
   "environment_variables": {},
   "exception": null,
   "input_path": "__notebook__.ipynb",
   "output_path": "__notebook__.ipynb",
   "parameters": {},
   "start_time": "2023-04-10T07:06:28.532912",
   "version": "2.4.0"
  }
 },
 "nbformat": 4,
 "nbformat_minor": 5
}
