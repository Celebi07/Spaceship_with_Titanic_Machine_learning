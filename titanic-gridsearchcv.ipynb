{
 "cells": [
  {
   "cell_type": "code",
   "execution_count": 1,
   "id": "9c7e626b",
   "metadata": {
    "_cell_guid": "b1076dfc-b9ad-4769-8c92-a6c4dae69d19",
    "_uuid": "8f2839f25d086af736a60e9eeb907d3b93b6e0e5",
    "execution": {
     "iopub.execute_input": "2023-04-09T07:13:39.427466Z",
     "iopub.status.busy": "2023-04-09T07:13:39.426542Z",
     "iopub.status.idle": "2023-04-09T07:13:39.443910Z",
     "shell.execute_reply": "2023-04-09T07:13:39.442485Z"
    },
    "papermill": {
     "duration": 0.032203,
     "end_time": "2023-04-09T07:13:39.447249",
     "exception": false,
     "start_time": "2023-04-09T07:13:39.415046",
     "status": "completed"
    },
    "tags": []
   },
   "outputs": [
    {
     "name": "stdout",
     "output_type": "stream",
     "text": [
      "/kaggle/input/titanic/train.csv\n",
      "/kaggle/input/titanic/test.csv\n",
      "/kaggle/input/titanic/gender_submission.csv\n"
     ]
    }
   ],
   "source": [
    "# This Python 3 environment comes with many helpful analytics libraries installed\n",
    "# It is defined by the kaggle/python Docker image: https://github.com/kaggle/docker-python\n",
    "# For example, here's several helpful packages to load\n",
    "\n",
    "import numpy as np # linear algebra\n",
    "import pandas as pd # data processing, CSV file I/O (e.g. pd.read_csv)\n",
    "\n",
    "# Input data files are available in the read-only \"../input/\" directory\n",
    "# For example, running this (by clicking run or pressing Shift+Enter) will list all files under the input directory\n",
    "\n",
    "import os\n",
    "for dirname, _, filenames in os.walk('/kaggle/input'):\n",
    "    for filename in filenames:\n",
    "        print(os.path.join(dirname, filename))\n",
    "\n",
    "# You can write up to 20GB to the current directory (/kaggle/working/) that gets preserved as output when you create a version using \"Save & Run All\" \n",
    "# You can also write temporary files to /kaggle/temp/, but they won't be saved outside of the current session"
   ]
  },
  {
   "cell_type": "code",
   "execution_count": 2,
   "id": "930e2215",
   "metadata": {
    "execution": {
     "iopub.execute_input": "2023-04-09T07:13:39.466141Z",
     "iopub.status.busy": "2023-04-09T07:13:39.465712Z",
     "iopub.status.idle": "2023-04-09T07:13:41.179394Z",
     "shell.execute_reply": "2023-04-09T07:13:41.178103Z"
    },
    "papermill": {
     "duration": 1.726367,
     "end_time": "2023-04-09T07:13:41.182324",
     "exception": false,
     "start_time": "2023-04-09T07:13:39.455957",
     "status": "completed"
    },
    "tags": []
   },
   "outputs": [],
   "source": [
    "import pandas as pd\n",
    "import numpy as np\n",
    "from sklearn.model_selection import train_test_split\n",
    "from sklearn.metrics import accuracy_score\n",
    "from sklearn.linear_model import LogisticRegression\n",
    "from sklearn.tree import DecisionTreeRegressor\n",
    "from sklearn.ensemble import RandomForestClassifier,GradientBoostingClassifier"
   ]
  },
  {
   "cell_type": "code",
   "execution_count": 3,
   "id": "5ce82975",
   "metadata": {
    "execution": {
     "iopub.execute_input": "2023-04-09T07:13:41.201052Z",
     "iopub.status.busy": "2023-04-09T07:13:41.200633Z",
     "iopub.status.idle": "2023-04-09T07:13:41.224630Z",
     "shell.execute_reply": "2023-04-09T07:13:41.222997Z"
    },
    "papermill": {
     "duration": 0.036989,
     "end_time": "2023-04-09T07:13:41.227885",
     "exception": false,
     "start_time": "2023-04-09T07:13:41.190896",
     "status": "completed"
    },
    "tags": []
   },
   "outputs": [],
   "source": [
    "tr = pd.read_csv(\"/kaggle/input/titanic/train.csv\")"
   ]
  },
  {
   "cell_type": "code",
   "execution_count": 4,
   "id": "02d141ad",
   "metadata": {
    "execution": {
     "iopub.execute_input": "2023-04-09T07:13:41.247486Z",
     "iopub.status.busy": "2023-04-09T07:13:41.245951Z",
     "iopub.status.idle": "2023-04-09T07:13:41.285898Z",
     "shell.execute_reply": "2023-04-09T07:13:41.284062Z"
    },
    "papermill": {
     "duration": 0.052783,
     "end_time": "2023-04-09T07:13:41.289218",
     "exception": false,
     "start_time": "2023-04-09T07:13:41.236435",
     "status": "completed"
    },
    "tags": []
   },
   "outputs": [
    {
     "name": "stdout",
     "output_type": "stream",
     "text": [
      "✔ Dataset Imported Successfully!\n",
      "\n",
      "It contains 891 rows and 12 columns.\n"
     ]
    },
    {
     "data": {
      "text/html": [
       "<div>\n",
       "<style scoped>\n",
       "    .dataframe tbody tr th:only-of-type {\n",
       "        vertical-align: middle;\n",
       "    }\n",
       "\n",
       "    .dataframe tbody tr th {\n",
       "        vertical-align: top;\n",
       "    }\n",
       "\n",
       "    .dataframe thead th {\n",
       "        text-align: right;\n",
       "    }\n",
       "</style>\n",
       "<table border=\"1\" class=\"dataframe\">\n",
       "  <thead>\n",
       "    <tr style=\"text-align: right;\">\n",
       "      <th></th>\n",
       "      <th>PassengerId</th>\n",
       "      <th>Survived</th>\n",
       "      <th>Pclass</th>\n",
       "      <th>Name</th>\n",
       "      <th>Sex</th>\n",
       "      <th>Age</th>\n",
       "      <th>SibSp</th>\n",
       "      <th>Parch</th>\n",
       "      <th>Ticket</th>\n",
       "      <th>Fare</th>\n",
       "      <th>Cabin</th>\n",
       "      <th>Embarked</th>\n",
       "    </tr>\n",
       "  </thead>\n",
       "  <tbody>\n",
       "    <tr>\n",
       "      <th>0</th>\n",
       "      <td>1</td>\n",
       "      <td>0</td>\n",
       "      <td>3</td>\n",
       "      <td>Braund, Mr. Owen Harris</td>\n",
       "      <td>male</td>\n",
       "      <td>22.0</td>\n",
       "      <td>1</td>\n",
       "      <td>0</td>\n",
       "      <td>A/5 21171</td>\n",
       "      <td>7.2500</td>\n",
       "      <td>NaN</td>\n",
       "      <td>S</td>\n",
       "    </tr>\n",
       "    <tr>\n",
       "      <th>1</th>\n",
       "      <td>2</td>\n",
       "      <td>1</td>\n",
       "      <td>1</td>\n",
       "      <td>Cumings, Mrs. John Bradley (Florence Briggs Th...</td>\n",
       "      <td>female</td>\n",
       "      <td>38.0</td>\n",
       "      <td>1</td>\n",
       "      <td>0</td>\n",
       "      <td>PC 17599</td>\n",
       "      <td>71.2833</td>\n",
       "      <td>C85</td>\n",
       "      <td>C</td>\n",
       "    </tr>\n",
       "    <tr>\n",
       "      <th>2</th>\n",
       "      <td>3</td>\n",
       "      <td>1</td>\n",
       "      <td>3</td>\n",
       "      <td>Heikkinen, Miss. Laina</td>\n",
       "      <td>female</td>\n",
       "      <td>26.0</td>\n",
       "      <td>0</td>\n",
       "      <td>0</td>\n",
       "      <td>STON/O2. 3101282</td>\n",
       "      <td>7.9250</td>\n",
       "      <td>NaN</td>\n",
       "      <td>S</td>\n",
       "    </tr>\n",
       "    <tr>\n",
       "      <th>3</th>\n",
       "      <td>4</td>\n",
       "      <td>1</td>\n",
       "      <td>1</td>\n",
       "      <td>Futrelle, Mrs. Jacques Heath (Lily May Peel)</td>\n",
       "      <td>female</td>\n",
       "      <td>35.0</td>\n",
       "      <td>1</td>\n",
       "      <td>0</td>\n",
       "      <td>113803</td>\n",
       "      <td>53.1000</td>\n",
       "      <td>C123</td>\n",
       "      <td>S</td>\n",
       "    </tr>\n",
       "    <tr>\n",
       "      <th>4</th>\n",
       "      <td>5</td>\n",
       "      <td>0</td>\n",
       "      <td>3</td>\n",
       "      <td>Allen, Mr. William Henry</td>\n",
       "      <td>male</td>\n",
       "      <td>35.0</td>\n",
       "      <td>0</td>\n",
       "      <td>0</td>\n",
       "      <td>373450</td>\n",
       "      <td>8.0500</td>\n",
       "      <td>NaN</td>\n",
       "      <td>S</td>\n",
       "    </tr>\n",
       "  </tbody>\n",
       "</table>\n",
       "</div>"
      ],
      "text/plain": [
       "   PassengerId  Survived  Pclass  \\\n",
       "0            1         0       3   \n",
       "1            2         1       1   \n",
       "2            3         1       3   \n",
       "3            4         1       1   \n",
       "4            5         0       3   \n",
       "\n",
       "                                                Name     Sex   Age  SibSp  \\\n",
       "0                            Braund, Mr. Owen Harris    male  22.0      1   \n",
       "1  Cumings, Mrs. John Bradley (Florence Briggs Th...  female  38.0      1   \n",
       "2                             Heikkinen, Miss. Laina  female  26.0      0   \n",
       "3       Futrelle, Mrs. Jacques Heath (Lily May Peel)  female  35.0      1   \n",
       "4                           Allen, Mr. William Henry    male  35.0      0   \n",
       "\n",
       "   Parch            Ticket     Fare Cabin Embarked  \n",
       "0      0         A/5 21171   7.2500   NaN        S  \n",
       "1      0          PC 17599  71.2833   C85        C  \n",
       "2      0  STON/O2. 3101282   7.9250   NaN        S  \n",
       "3      0            113803  53.1000  C123        S  \n",
       "4      0            373450   8.0500   NaN        S  "
      ]
     },
     "execution_count": 4,
     "metadata": {},
     "output_type": "execute_result"
    }
   ],
   "source": [
    "print('✔ Dataset Imported Successfully!\\n')\n",
    "print('It contains {} rows and {} columns.'.format(tr.shape[0], tr.shape[1]))\n",
    "tr.head()"
   ]
  },
  {
   "cell_type": "code",
   "execution_count": 5,
   "id": "72b6908f",
   "metadata": {
    "execution": {
     "iopub.execute_input": "2023-04-09T07:13:41.308718Z",
     "iopub.status.busy": "2023-04-09T07:13:41.308253Z",
     "iopub.status.idle": "2023-04-09T07:13:41.322475Z",
     "shell.execute_reply": "2023-04-09T07:13:41.320761Z"
    },
    "papermill": {
     "duration": 0.027704,
     "end_time": "2023-04-09T07:13:41.325556",
     "exception": false,
     "start_time": "2023-04-09T07:13:41.297852",
     "status": "completed"
    },
    "tags": []
   },
   "outputs": [
    {
     "data": {
      "text/plain": [
       "0      0\n",
       "1      1\n",
       "2      1\n",
       "3      1\n",
       "4      0\n",
       "      ..\n",
       "886    0\n",
       "887    1\n",
       "888    0\n",
       "889    1\n",
       "890    0\n",
       "Name: Survived, Length: 891, dtype: int64"
      ]
     },
     "execution_count": 5,
     "metadata": {},
     "output_type": "execute_result"
    }
   ],
   "source": [
    "labels = tr['Survived']\n",
    "labels"
   ]
  },
  {
   "cell_type": "code",
   "execution_count": 6,
   "id": "b7cf1513",
   "metadata": {
    "execution": {
     "iopub.execute_input": "2023-04-09T07:13:41.345152Z",
     "iopub.status.busy": "2023-04-09T07:13:41.344736Z",
     "iopub.status.idle": "2023-04-09T07:13:41.371593Z",
     "shell.execute_reply": "2023-04-09T07:13:41.370426Z"
    },
    "papermill": {
     "duration": 0.040089,
     "end_time": "2023-04-09T07:13:41.374398",
     "exception": false,
     "start_time": "2023-04-09T07:13:41.334309",
     "status": "completed"
    },
    "tags": []
   },
   "outputs": [
    {
     "data": {
      "text/html": [
       "<div>\n",
       "<style scoped>\n",
       "    .dataframe tbody tr th:only-of-type {\n",
       "        vertical-align: middle;\n",
       "    }\n",
       "\n",
       "    .dataframe tbody tr th {\n",
       "        vertical-align: top;\n",
       "    }\n",
       "\n",
       "    .dataframe thead th {\n",
       "        text-align: right;\n",
       "    }\n",
       "</style>\n",
       "<table border=\"1\" class=\"dataframe\">\n",
       "  <thead>\n",
       "    <tr style=\"text-align: right;\">\n",
       "      <th></th>\n",
       "      <th>PassengerId</th>\n",
       "      <th>Pclass</th>\n",
       "      <th>Sex</th>\n",
       "      <th>Age</th>\n",
       "      <th>SibSp</th>\n",
       "      <th>Parch</th>\n",
       "      <th>Fare</th>\n",
       "      <th>Embarked</th>\n",
       "    </tr>\n",
       "  </thead>\n",
       "  <tbody>\n",
       "    <tr>\n",
       "      <th>0</th>\n",
       "      <td>1</td>\n",
       "      <td>3</td>\n",
       "      <td>male</td>\n",
       "      <td>22.0</td>\n",
       "      <td>1</td>\n",
       "      <td>0</td>\n",
       "      <td>7.2500</td>\n",
       "      <td>S</td>\n",
       "    </tr>\n",
       "    <tr>\n",
       "      <th>1</th>\n",
       "      <td>2</td>\n",
       "      <td>1</td>\n",
       "      <td>female</td>\n",
       "      <td>38.0</td>\n",
       "      <td>1</td>\n",
       "      <td>0</td>\n",
       "      <td>71.2833</td>\n",
       "      <td>C</td>\n",
       "    </tr>\n",
       "    <tr>\n",
       "      <th>2</th>\n",
       "      <td>3</td>\n",
       "      <td>3</td>\n",
       "      <td>female</td>\n",
       "      <td>26.0</td>\n",
       "      <td>0</td>\n",
       "      <td>0</td>\n",
       "      <td>7.9250</td>\n",
       "      <td>S</td>\n",
       "    </tr>\n",
       "    <tr>\n",
       "      <th>3</th>\n",
       "      <td>4</td>\n",
       "      <td>1</td>\n",
       "      <td>female</td>\n",
       "      <td>35.0</td>\n",
       "      <td>1</td>\n",
       "      <td>0</td>\n",
       "      <td>53.1000</td>\n",
       "      <td>S</td>\n",
       "    </tr>\n",
       "    <tr>\n",
       "      <th>4</th>\n",
       "      <td>5</td>\n",
       "      <td>3</td>\n",
       "      <td>male</td>\n",
       "      <td>35.0</td>\n",
       "      <td>0</td>\n",
       "      <td>0</td>\n",
       "      <td>8.0500</td>\n",
       "      <td>S</td>\n",
       "    </tr>\n",
       "  </tbody>\n",
       "</table>\n",
       "</div>"
      ],
      "text/plain": [
       "   PassengerId  Pclass     Sex   Age  SibSp  Parch     Fare Embarked\n",
       "0            1       3    male  22.0      1      0   7.2500        S\n",
       "1            2       1  female  38.0      1      0  71.2833        C\n",
       "2            3       3  female  26.0      0      0   7.9250        S\n",
       "3            4       1  female  35.0      1      0  53.1000        S\n",
       "4            5       3    male  35.0      0      0   8.0500        S"
      ]
     },
     "execution_count": 6,
     "metadata": {},
     "output_type": "execute_result"
    }
   ],
   "source": [
    "tr=tr.drop('Survived',axis=1)\n",
    "tr=tr.drop('Cabin',axis=1)\n",
    "tr=tr.drop('Ticket',axis=1)\n",
    "tr=tr.drop('Name',axis=1)\n",
    "tr.head()"
   ]
  },
  {
   "cell_type": "code",
   "execution_count": 7,
   "id": "5857cdd0",
   "metadata": {
    "execution": {
     "iopub.execute_input": "2023-04-09T07:13:41.394148Z",
     "iopub.status.busy": "2023-04-09T07:13:41.393342Z",
     "iopub.status.idle": "2023-04-09T07:13:41.416516Z",
     "shell.execute_reply": "2023-04-09T07:13:41.415105Z"
    },
    "papermill": {
     "duration": 0.036235,
     "end_time": "2023-04-09T07:13:41.419408",
     "exception": false,
     "start_time": "2023-04-09T07:13:41.383173",
     "status": "completed"
    },
    "tags": []
   },
   "outputs": [
    {
     "name": "stdout",
     "output_type": "stream",
     "text": [
      "<class 'pandas.core.frame.DataFrame'>\n",
      "RangeIndex: 891 entries, 0 to 890\n",
      "Data columns (total 8 columns):\n",
      " #   Column       Non-Null Count  Dtype  \n",
      "---  ------       --------------  -----  \n",
      " 0   PassengerId  891 non-null    int64  \n",
      " 1   Pclass       891 non-null    int64  \n",
      " 2   Sex          891 non-null    object \n",
      " 3   Age          714 non-null    float64\n",
      " 4   SibSp        891 non-null    int64  \n",
      " 5   Parch        891 non-null    int64  \n",
      " 6   Fare         891 non-null    float64\n",
      " 7   Embarked     889 non-null    object \n",
      "dtypes: float64(2), int64(4), object(2)\n",
      "memory usage: 55.8+ KB\n"
     ]
    }
   ],
   "source": [
    "tr.info()"
   ]
  },
  {
   "cell_type": "code",
   "execution_count": 8,
   "id": "d78d3fac",
   "metadata": {
    "execution": {
     "iopub.execute_input": "2023-04-09T07:13:41.440156Z",
     "iopub.status.busy": "2023-04-09T07:13:41.439742Z",
     "iopub.status.idle": "2023-04-09T07:13:41.459694Z",
     "shell.execute_reply": "2023-04-09T07:13:41.458668Z"
    },
    "papermill": {
     "duration": 0.032707,
     "end_time": "2023-04-09T07:13:41.462208",
     "exception": false,
     "start_time": "2023-04-09T07:13:41.429501",
     "status": "completed"
    },
    "tags": []
   },
   "outputs": [
    {
     "name": "stdout",
     "output_type": "stream",
     "text": [
      "IQR =  17.875\n",
      "Upper limit =  64.8125\n",
      "Lower limit =  -6.6875\n"
     ]
    },
    {
     "data": {
      "text/plain": [
       "(891, 8)"
      ]
     },
     "execution_count": 8,
     "metadata": {},
     "output_type": "execute_result"
    }
   ],
   "source": [
    "percentile25 = tr['Age'].quantile(0.25)\n",
    "percentile75 = tr['Age'].quantile(0.75)\n",
    "iqr = percentile75 - percentile25\n",
    "print(\"IQR = \",iqr)\n",
    "upper_limit = percentile75 + 1.5 * iqr\n",
    "lower_limit = percentile25 - 1.5 * iqr\n",
    "print(\"Upper limit = \",upper_limit)\n",
    "print(\"Lower limit = \",lower_limit)\n",
    "tr[tr['Age'] > upper_limit]\n",
    "tr['Age'] = np.where(\n",
    "    tr['Age'] > upper_limit,\n",
    "    upper_limit,\n",
    "    np.where(\n",
    "        tr['Age'] < lower_limit,\n",
    "        lower_limit,\n",
    "        tr['Age']\n",
    "    )\n",
    ")\n",
    "\n",
    "tr.shape"
   ]
  },
  {
   "cell_type": "code",
   "execution_count": 9,
   "id": "9a111314",
   "metadata": {
    "execution": {
     "iopub.execute_input": "2023-04-09T07:13:41.481998Z",
     "iopub.status.busy": "2023-04-09T07:13:41.481539Z",
     "iopub.status.idle": "2023-04-09T07:13:41.506982Z",
     "shell.execute_reply": "2023-04-09T07:13:41.505301Z"
    },
    "papermill": {
     "duration": 0.039136,
     "end_time": "2023-04-09T07:13:41.510209",
     "exception": false,
     "start_time": "2023-04-09T07:13:41.471073",
     "status": "completed"
    },
    "tags": []
   },
   "outputs": [
    {
     "name": "stdout",
     "output_type": "stream",
     "text": [
      "<class 'pandas.core.frame.DataFrame'>\n",
      "RangeIndex: 891 entries, 0 to 890\n",
      "Data columns (total 8 columns):\n",
      " #   Column       Non-Null Count  Dtype\n",
      "---  ------       --------------  -----\n",
      " 0   PassengerId  891 non-null    int64\n",
      " 1   Pclass       891 non-null    int64\n",
      " 2   Sex          891 non-null    int64\n",
      " 3   Age          891 non-null    int64\n",
      " 4   SibSp        891 non-null    int64\n",
      " 5   Parch        891 non-null    int64\n",
      " 6   Fare         891 non-null    int64\n",
      " 7   Embarked     891 non-null    int64\n",
      "dtypes: int64(8)\n",
      "memory usage: 55.8 KB\n"
     ]
    }
   ],
   "source": [
    "tr['Age'] = tr['Age'].fillna(tr['Age'].median()).astype(int)\n",
    "tr['Fare'] = tr['Fare'].astype(int)\n",
    "tr['Sex'].replace('female', 0,inplace=True)\n",
    "tr['Sex'].replace('male', 1,inplace=True)\n",
    "tr['Embarked'] = tr['Embarked'].fillna('C')\n",
    "tr['Embarked'].replace('S', 0,inplace=True)\n",
    "tr['Embarked'].replace('C', 1,inplace=True)\n",
    "tr['Embarked'].replace('Q', 2,inplace=True)\n",
    "tr.info()"
   ]
  },
  {
   "cell_type": "code",
   "execution_count": 10,
   "id": "b394ec4b",
   "metadata": {
    "execution": {
     "iopub.execute_input": "2023-04-09T07:13:41.532662Z",
     "iopub.status.busy": "2023-04-09T07:13:41.531031Z",
     "iopub.status.idle": "2023-04-09T07:13:41.546067Z",
     "shell.execute_reply": "2023-04-09T07:13:41.544627Z"
    },
    "papermill": {
     "duration": 0.029869,
     "end_time": "2023-04-09T07:13:41.549381",
     "exception": false,
     "start_time": "2023-04-09T07:13:41.519512",
     "status": "completed"
    },
    "tags": []
   },
   "outputs": [
    {
     "data": {
      "text/plain": [
       "(712, 712, 179, 179)"
      ]
     },
     "execution_count": 10,
     "metadata": {},
     "output_type": "execute_result"
    }
   ],
   "source": [
    "X_train, X_test, y_train, y_test = train_test_split(tr, labels, test_size = 0.2, random_state = 0)\n",
    "len(X_train),len(y_train),len(X_test),len(y_test)"
   ]
  },
  {
   "cell_type": "code",
   "execution_count": 11,
   "id": "a70260da",
   "metadata": {
    "execution": {
     "iopub.execute_input": "2023-04-09T07:13:41.570172Z",
     "iopub.status.busy": "2023-04-09T07:13:41.569301Z",
     "iopub.status.idle": "2023-04-09T07:13:41.575518Z",
     "shell.execute_reply": "2023-04-09T07:13:41.574292Z"
    },
    "papermill": {
     "duration": 0.01963,
     "end_time": "2023-04-09T07:13:41.578275",
     "exception": false,
     "start_time": "2023-04-09T07:13:41.558645",
     "status": "completed"
    },
    "tags": []
   },
   "outputs": [],
   "source": [
    "lr = LogisticRegression()\n",
    "dt = DecisionTreeRegressor()\n",
    "rf = RandomForestClassifier()"
   ]
  },
  {
   "cell_type": "code",
   "execution_count": 12,
   "id": "70d4b25c",
   "metadata": {
    "execution": {
     "iopub.execute_input": "2023-04-09T07:13:41.599416Z",
     "iopub.status.busy": "2023-04-09T07:13:41.598538Z",
     "iopub.status.idle": "2023-04-09T07:13:41.655720Z",
     "shell.execute_reply": "2023-04-09T07:13:41.654171Z"
    },
    "papermill": {
     "duration": 0.071146,
     "end_time": "2023-04-09T07:13:41.658494",
     "exception": false,
     "start_time": "2023-04-09T07:13:41.587348",
     "status": "completed"
    },
    "tags": []
   },
   "outputs": [
    {
     "name": "stderr",
     "output_type": "stream",
     "text": [
      "/opt/conda/lib/python3.7/site-packages/sklearn/linear_model/_logistic.py:818: ConvergenceWarning: lbfgs failed to converge (status=1):\n",
      "STOP: TOTAL NO. of ITERATIONS REACHED LIMIT.\n",
      "\n",
      "Increase the number of iterations (max_iter) or scale the data as shown in:\n",
      "    https://scikit-learn.org/stable/modules/preprocessing.html\n",
      "Please also refer to the documentation for alternative solver options:\n",
      "    https://scikit-learn.org/stable/modules/linear_model.html#logistic-regression\n",
      "  extra_warning_msg=_LOGISTIC_SOLVER_CONVERGENCE_MSG,\n"
     ]
    },
    {
     "data": {
      "text/plain": [
       "0.7988826815642458"
      ]
     },
     "execution_count": 12,
     "metadata": {},
     "output_type": "execute_result"
    }
   ],
   "source": [
    "lr.fit(X_train, y_train)\n",
    "prediction = lr.predict(X_test)\n",
    "accuracy_score(y_test, prediction)"
   ]
  },
  {
   "cell_type": "code",
   "execution_count": 13,
   "id": "061f39df",
   "metadata": {
    "execution": {
     "iopub.execute_input": "2023-04-09T07:13:41.681525Z",
     "iopub.status.busy": "2023-04-09T07:13:41.680607Z",
     "iopub.status.idle": "2023-04-09T07:13:41.701574Z",
     "shell.execute_reply": "2023-04-09T07:13:41.700061Z"
    },
    "papermill": {
     "duration": 0.037619,
     "end_time": "2023-04-09T07:13:41.705661",
     "exception": false,
     "start_time": "2023-04-09T07:13:41.668042",
     "status": "completed"
    },
    "tags": []
   },
   "outputs": [
    {
     "data": {
      "text/plain": [
       "0.8044692737430168"
      ]
     },
     "execution_count": 13,
     "metadata": {},
     "output_type": "execute_result"
    }
   ],
   "source": [
    "dt.fit(X_train, y_train)\n",
    "prediction = dt.predict(X_test)\n",
    "accuracy_score(y_test, prediction)"
   ]
  },
  {
   "cell_type": "code",
   "execution_count": 14,
   "id": "63c1541a",
   "metadata": {
    "execution": {
     "iopub.execute_input": "2023-04-09T07:13:41.727378Z",
     "iopub.status.busy": "2023-04-09T07:13:41.726919Z",
     "iopub.status.idle": "2023-04-09T07:13:41.790222Z",
     "shell.execute_reply": "2023-04-09T07:13:41.788875Z"
    },
    "papermill": {
     "duration": 0.07714,
     "end_time": "2023-04-09T07:13:41.793127",
     "exception": false,
     "start_time": "2023-04-09T07:13:41.715987",
     "status": "completed"
    },
    "tags": []
   },
   "outputs": [
    {
     "data": {
      "text/plain": [
       "0.8547486033519553"
      ]
     },
     "execution_count": 14,
     "metadata": {},
     "output_type": "execute_result"
    }
   ],
   "source": [
    "rf = RandomForestClassifier(max_depth= 8,max_features=1.0, max_samples=0.5, n_estimators= 20 ,random_state=42)\n",
    "# max_depth': 8, 'max_features': 1.0, 'max_samples': 0.5, 'n_estimators': 20}\n",
    "rf.fit(X_train,y_train)\n",
    "y_pred = rf.predict(X_test)\n",
    "accuracy_score(y_test,y_pred)"
   ]
  },
  {
   "cell_type": "code",
   "execution_count": 15,
   "id": "091d3607",
   "metadata": {
    "execution": {
     "iopub.execute_input": "2023-04-09T07:13:41.815705Z",
     "iopub.status.busy": "2023-04-09T07:13:41.815264Z",
     "iopub.status.idle": "2023-04-09T07:13:44.010407Z",
     "shell.execute_reply": "2023-04-09T07:13:44.009255Z"
    },
    "papermill": {
     "duration": 2.209135,
     "end_time": "2023-04-09T07:13:44.013120",
     "exception": false,
     "start_time": "2023-04-09T07:13:41.803985",
     "status": "completed"
    },
    "tags": []
   },
   "outputs": [
    {
     "data": {
      "text/plain": [
       "0.829450686641698"
      ]
     },
     "execution_count": 15,
     "metadata": {},
     "output_type": "execute_result"
    }
   ],
   "source": [
    "from sklearn.model_selection import cross_val_score\n",
    "np.mean(cross_val_score(RandomForestClassifier(max_samples=0.75),tr,labels,cv=10,scoring='accuracy'))"
   ]
  },
  {
   "cell_type": "markdown",
   "id": "c79dc170",
   "metadata": {
    "papermill": {
     "duration": 0.010441,
     "end_time": "2023-04-09T07:13:44.033779",
     "exception": false,
     "start_time": "2023-04-09T07:13:44.023338",
     "status": "completed"
    },
    "tags": []
   },
   "source": [
    "# GRID SEARCH CV******"
   ]
  },
  {
   "cell_type": "code",
   "execution_count": 16,
   "id": "877116a3",
   "metadata": {
    "execution": {
     "iopub.execute_input": "2023-04-09T07:13:44.055284Z",
     "iopub.status.busy": "2023-04-09T07:13:44.054804Z",
     "iopub.status.idle": "2023-04-09T07:13:44.061032Z",
     "shell.execute_reply": "2023-04-09T07:13:44.059740Z"
    },
    "papermill": {
     "duration": 0.019994,
     "end_time": "2023-04-09T07:13:44.063714",
     "exception": false,
     "start_time": "2023-04-09T07:13:44.043720",
     "status": "completed"
    },
    "tags": []
   },
   "outputs": [],
   "source": [
    "# Number of trees in random forest\n",
    "n_estimators = [20,60,100,120]\n",
    "\n",
    "# Number of features to consider at every split\n",
    "max_features = [0.2,0.6,1.0]\n",
    "\n",
    "# Maximum number of levels in tree\n",
    "max_depth = [2,8,None]\n",
    "\n",
    "# Number of samples\n",
    "max_samples = [0.5,0.75,1.0]\n",
    "\n",
    "# 108 diff random forest train"
   ]
  },
  {
   "cell_type": "code",
   "execution_count": 17,
   "id": "45b32d82",
   "metadata": {
    "execution": {
     "iopub.execute_input": "2023-04-09T07:13:44.085857Z",
     "iopub.status.busy": "2023-04-09T07:13:44.085416Z",
     "iopub.status.idle": "2023-04-09T07:13:44.092581Z",
     "shell.execute_reply": "2023-04-09T07:13:44.091224Z"
    },
    "papermill": {
     "duration": 0.022384,
     "end_time": "2023-04-09T07:13:44.095683",
     "exception": false,
     "start_time": "2023-04-09T07:13:44.073299",
     "status": "completed"
    },
    "tags": []
   },
   "outputs": [
    {
     "name": "stdout",
     "output_type": "stream",
     "text": [
      "{'n_estimators': [20, 60, 100, 120], 'max_features': [0.2, 0.6, 1.0], 'max_depth': [2, 8, None], 'max_samples': [0.5, 0.75, 1.0]}\n"
     ]
    }
   ],
   "source": [
    "param_grid = {'n_estimators': n_estimators,\n",
    "               'max_features': max_features,\n",
    "               'max_depth': max_depth,\n",
    "              'max_samples':max_samples\n",
    "             }\n",
    "print(param_grid)"
   ]
  },
  {
   "cell_type": "code",
   "execution_count": 18,
   "id": "4468538d",
   "metadata": {
    "execution": {
     "iopub.execute_input": "2023-04-09T07:13:44.119392Z",
     "iopub.status.busy": "2023-04-09T07:13:44.118955Z",
     "iopub.status.idle": "2023-04-09T07:13:44.125427Z",
     "shell.execute_reply": "2023-04-09T07:13:44.123994Z"
    },
    "papermill": {
     "duration": 0.020544,
     "end_time": "2023-04-09T07:13:44.128215",
     "exception": false,
     "start_time": "2023-04-09T07:13:44.107671",
     "status": "completed"
    },
    "tags": []
   },
   "outputs": [],
   "source": [
    "from sklearn.model_selection import GridSearchCV\n",
    "\n",
    "rf_grid = GridSearchCV(estimator = rf, \n",
    "                       param_grid = param_grid, \n",
    "                       cv = 5, \n",
    "                       verbose=2, \n",
    "                       n_jobs = -1)"
   ]
  },
  {
   "cell_type": "code",
   "execution_count": 19,
   "id": "6202b567",
   "metadata": {
    "execution": {
     "iopub.execute_input": "2023-04-09T07:13:44.150026Z",
     "iopub.status.busy": "2023-04-09T07:13:44.149613Z",
     "iopub.status.idle": "2023-04-09T07:13:44.155534Z",
     "shell.execute_reply": "2023-04-09T07:13:44.153792Z"
    },
    "papermill": {
     "duration": 0.021396,
     "end_time": "2023-04-09T07:13:44.159781",
     "exception": false,
     "start_time": "2023-04-09T07:13:44.138385",
     "status": "completed"
    },
    "tags": []
   },
   "outputs": [],
   "source": [
    "# rf_grid.fit(X_train,y_train)"
   ]
  },
  {
   "cell_type": "code",
   "execution_count": 20,
   "id": "d963180a",
   "metadata": {
    "execution": {
     "iopub.execute_input": "2023-04-09T07:13:44.182700Z",
     "iopub.status.busy": "2023-04-09T07:13:44.182282Z",
     "iopub.status.idle": "2023-04-09T07:13:44.188365Z",
     "shell.execute_reply": "2023-04-09T07:13:44.186779Z"
    },
    "papermill": {
     "duration": 0.021052,
     "end_time": "2023-04-09T07:13:44.191853",
     "exception": false,
     "start_time": "2023-04-09T07:13:44.170801",
     "status": "completed"
    },
    "tags": []
   },
   "outputs": [],
   "source": [
    "# rf_grid.best_params_"
   ]
  },
  {
   "cell_type": "code",
   "execution_count": 21,
   "id": "9fd0332c",
   "metadata": {
    "execution": {
     "iopub.execute_input": "2023-04-09T07:13:44.213983Z",
     "iopub.status.busy": "2023-04-09T07:13:44.213532Z",
     "iopub.status.idle": "2023-04-09T07:13:44.219695Z",
     "shell.execute_reply": "2023-04-09T07:13:44.217598Z"
    },
    "papermill": {
     "duration": 0.02115,
     "end_time": "2023-04-09T07:13:44.223506",
     "exception": false,
     "start_time": "2023-04-09T07:13:44.202356",
     "status": "completed"
    },
    "tags": []
   },
   "outputs": [],
   "source": [
    "# rf_grid.best_score_"
   ]
  },
  {
   "cell_type": "markdown",
   "id": "88f8f5c2",
   "metadata": {
    "papermill": {
     "duration": 0.009573,
     "end_time": "2023-04-09T07:13:44.243243",
     "exception": false,
     "start_time": "2023-04-09T07:13:44.233670",
     "status": "completed"
    },
    "tags": []
   },
   "source": [
    "# TEST DATA************"
   ]
  },
  {
   "cell_type": "code",
   "execution_count": 22,
   "id": "f346a162",
   "metadata": {
    "execution": {
     "iopub.execute_input": "2023-04-09T07:13:44.264736Z",
     "iopub.status.busy": "2023-04-09T07:13:44.264318Z",
     "iopub.status.idle": "2023-04-09T07:13:44.288514Z",
     "shell.execute_reply": "2023-04-09T07:13:44.286558Z"
    },
    "papermill": {
     "duration": 0.038696,
     "end_time": "2023-04-09T07:13:44.291965",
     "exception": false,
     "start_time": "2023-04-09T07:13:44.253269",
     "status": "completed"
    },
    "tags": []
   },
   "outputs": [
    {
     "name": "stdout",
     "output_type": "stream",
     "text": [
      "<class 'pandas.core.frame.DataFrame'>\n",
      "RangeIndex: 418 entries, 0 to 417\n",
      "Data columns (total 11 columns):\n",
      " #   Column       Non-Null Count  Dtype  \n",
      "---  ------       --------------  -----  \n",
      " 0   PassengerId  418 non-null    int64  \n",
      " 1   Pclass       418 non-null    int64  \n",
      " 2   Name         418 non-null    object \n",
      " 3   Sex          418 non-null    object \n",
      " 4   Age          332 non-null    float64\n",
      " 5   SibSp        418 non-null    int64  \n",
      " 6   Parch        418 non-null    int64  \n",
      " 7   Ticket       418 non-null    object \n",
      " 8   Fare         417 non-null    float64\n",
      " 9   Cabin        91 non-null     object \n",
      " 10  Embarked     418 non-null    object \n",
      "dtypes: float64(2), int64(4), object(5)\n",
      "memory usage: 36.0+ KB\n"
     ]
    }
   ],
   "source": [
    "te=pd.read_csv('/kaggle/input/titanic/test.csv')\n",
    "te.info()"
   ]
  },
  {
   "cell_type": "code",
   "execution_count": 23,
   "id": "c2a38ccc",
   "metadata": {
    "execution": {
     "iopub.execute_input": "2023-04-09T07:13:44.315577Z",
     "iopub.status.busy": "2023-04-09T07:13:44.315139Z",
     "iopub.status.idle": "2023-04-09T07:13:44.337927Z",
     "shell.execute_reply": "2023-04-09T07:13:44.335018Z"
    },
    "papermill": {
     "duration": 0.038053,
     "end_time": "2023-04-09T07:13:44.341381",
     "exception": false,
     "start_time": "2023-04-09T07:13:44.303328",
     "status": "completed"
    },
    "tags": []
   },
   "outputs": [
    {
     "data": {
      "text/html": [
       "<div>\n",
       "<style scoped>\n",
       "    .dataframe tbody tr th:only-of-type {\n",
       "        vertical-align: middle;\n",
       "    }\n",
       "\n",
       "    .dataframe tbody tr th {\n",
       "        vertical-align: top;\n",
       "    }\n",
       "\n",
       "    .dataframe thead th {\n",
       "        text-align: right;\n",
       "    }\n",
       "</style>\n",
       "<table border=\"1\" class=\"dataframe\">\n",
       "  <thead>\n",
       "    <tr style=\"text-align: right;\">\n",
       "      <th></th>\n",
       "      <th>PassengerId</th>\n",
       "      <th>Survived</th>\n",
       "    </tr>\n",
       "  </thead>\n",
       "  <tbody>\n",
       "    <tr>\n",
       "      <th>0</th>\n",
       "      <td>892</td>\n",
       "      <td>0</td>\n",
       "    </tr>\n",
       "    <tr>\n",
       "      <th>1</th>\n",
       "      <td>893</td>\n",
       "      <td>1</td>\n",
       "    </tr>\n",
       "    <tr>\n",
       "      <th>2</th>\n",
       "      <td>894</td>\n",
       "      <td>0</td>\n",
       "    </tr>\n",
       "    <tr>\n",
       "      <th>3</th>\n",
       "      <td>895</td>\n",
       "      <td>0</td>\n",
       "    </tr>\n",
       "    <tr>\n",
       "      <th>4</th>\n",
       "      <td>896</td>\n",
       "      <td>1</td>\n",
       "    </tr>\n",
       "  </tbody>\n",
       "</table>\n",
       "</div>"
      ],
      "text/plain": [
       "   PassengerId  Survived\n",
       "0          892         0\n",
       "1          893         1\n",
       "2          894         0\n",
       "3          895         0\n",
       "4          896         1"
      ]
     },
     "execution_count": 23,
     "metadata": {},
     "output_type": "execute_result"
    }
   ],
   "source": [
    "sub=pd.read_csv('/kaggle/input/titanic/gender_submission.csv')\n",
    "sub.head()"
   ]
  },
  {
   "cell_type": "code",
   "execution_count": 24,
   "id": "87fd92b8",
   "metadata": {
    "execution": {
     "iopub.execute_input": "2023-04-09T07:13:44.365677Z",
     "iopub.status.busy": "2023-04-09T07:13:44.365241Z",
     "iopub.status.idle": "2023-04-09T07:13:44.387794Z",
     "shell.execute_reply": "2023-04-09T07:13:44.385876Z"
    },
    "papermill": {
     "duration": 0.037527,
     "end_time": "2023-04-09T07:13:44.390972",
     "exception": false,
     "start_time": "2023-04-09T07:13:44.353445",
     "status": "completed"
    },
    "tags": []
   },
   "outputs": [
    {
     "data": {
      "text/html": [
       "<div>\n",
       "<style scoped>\n",
       "    .dataframe tbody tr th:only-of-type {\n",
       "        vertical-align: middle;\n",
       "    }\n",
       "\n",
       "    .dataframe tbody tr th {\n",
       "        vertical-align: top;\n",
       "    }\n",
       "\n",
       "    .dataframe thead th {\n",
       "        text-align: right;\n",
       "    }\n",
       "</style>\n",
       "<table border=\"1\" class=\"dataframe\">\n",
       "  <thead>\n",
       "    <tr style=\"text-align: right;\">\n",
       "      <th></th>\n",
       "      <th>PassengerId</th>\n",
       "      <th>Pclass</th>\n",
       "      <th>Sex</th>\n",
       "      <th>Age</th>\n",
       "      <th>SibSp</th>\n",
       "      <th>Parch</th>\n",
       "      <th>Fare</th>\n",
       "      <th>Embarked</th>\n",
       "    </tr>\n",
       "  </thead>\n",
       "  <tbody>\n",
       "    <tr>\n",
       "      <th>0</th>\n",
       "      <td>892</td>\n",
       "      <td>3</td>\n",
       "      <td>male</td>\n",
       "      <td>34.5</td>\n",
       "      <td>0</td>\n",
       "      <td>0</td>\n",
       "      <td>7.8292</td>\n",
       "      <td>Q</td>\n",
       "    </tr>\n",
       "    <tr>\n",
       "      <th>1</th>\n",
       "      <td>893</td>\n",
       "      <td>3</td>\n",
       "      <td>female</td>\n",
       "      <td>47.0</td>\n",
       "      <td>1</td>\n",
       "      <td>0</td>\n",
       "      <td>7.0000</td>\n",
       "      <td>S</td>\n",
       "    </tr>\n",
       "    <tr>\n",
       "      <th>2</th>\n",
       "      <td>894</td>\n",
       "      <td>2</td>\n",
       "      <td>male</td>\n",
       "      <td>62.0</td>\n",
       "      <td>0</td>\n",
       "      <td>0</td>\n",
       "      <td>9.6875</td>\n",
       "      <td>Q</td>\n",
       "    </tr>\n",
       "    <tr>\n",
       "      <th>3</th>\n",
       "      <td>895</td>\n",
       "      <td>3</td>\n",
       "      <td>male</td>\n",
       "      <td>27.0</td>\n",
       "      <td>0</td>\n",
       "      <td>0</td>\n",
       "      <td>8.6625</td>\n",
       "      <td>S</td>\n",
       "    </tr>\n",
       "    <tr>\n",
       "      <th>4</th>\n",
       "      <td>896</td>\n",
       "      <td>3</td>\n",
       "      <td>female</td>\n",
       "      <td>22.0</td>\n",
       "      <td>1</td>\n",
       "      <td>1</td>\n",
       "      <td>12.2875</td>\n",
       "      <td>S</td>\n",
       "    </tr>\n",
       "  </tbody>\n",
       "</table>\n",
       "</div>"
      ],
      "text/plain": [
       "   PassengerId  Pclass     Sex   Age  SibSp  Parch     Fare Embarked\n",
       "0          892       3    male  34.5      0      0   7.8292        Q\n",
       "1          893       3  female  47.0      1      0   7.0000        S\n",
       "2          894       2    male  62.0      0      0   9.6875        Q\n",
       "3          895       3    male  27.0      0      0   8.6625        S\n",
       "4          896       3  female  22.0      1      1  12.2875        S"
      ]
     },
     "execution_count": 24,
     "metadata": {},
     "output_type": "execute_result"
    }
   ],
   "source": [
    "te=te.drop('Cabin',axis=1)\n",
    "te=te.drop('Ticket',axis=1)\n",
    "te=te.drop('Name',axis=1)\n",
    "te.head()"
   ]
  },
  {
   "cell_type": "code",
   "execution_count": 25,
   "id": "83c07fb5",
   "metadata": {
    "execution": {
     "iopub.execute_input": "2023-04-09T07:13:44.414590Z",
     "iopub.status.busy": "2023-04-09T07:13:44.414190Z",
     "iopub.status.idle": "2023-04-09T07:13:44.441482Z",
     "shell.execute_reply": "2023-04-09T07:13:44.439446Z"
    },
    "papermill": {
     "duration": 0.044132,
     "end_time": "2023-04-09T07:13:44.445381",
     "exception": false,
     "start_time": "2023-04-09T07:13:44.401249",
     "status": "completed"
    },
    "tags": []
   },
   "outputs": [
    {
     "name": "stdout",
     "output_type": "stream",
     "text": [
      "<class 'pandas.core.frame.DataFrame'>\n",
      "RangeIndex: 418 entries, 0 to 417\n",
      "Data columns (total 8 columns):\n",
      " #   Column       Non-Null Count  Dtype\n",
      "---  ------       --------------  -----\n",
      " 0   PassengerId  418 non-null    int64\n",
      " 1   Pclass       418 non-null    int64\n",
      " 2   Sex          418 non-null    int64\n",
      " 3   Age          418 non-null    int64\n",
      " 4   SibSp        418 non-null    int64\n",
      " 5   Parch        418 non-null    int64\n",
      " 6   Fare         418 non-null    int64\n",
      " 7   Embarked     418 non-null    int64\n",
      "dtypes: int64(8)\n",
      "memory usage: 26.2 KB\n"
     ]
    }
   ],
   "source": [
    "te['Age'] = te['Age'].fillna(te['Age'].median()).astype(int)\n",
    "te['Fare'] = te['Fare'].fillna(te['Age'].median()).astype(int)\n",
    "te['Sex'].replace('female', 0,inplace=True)\n",
    "te['Sex'].replace('male', 1,inplace=True)\n",
    "te['Embarked'] = te['Embarked'].fillna('C')\n",
    "te['Embarked'].replace('S', 0,inplace=True)\n",
    "te['Embarked'].replace('C', 1,inplace=True)\n",
    "te['Embarked'].replace('Q', 2,inplace=True)\n",
    "te.info() "
   ]
  },
  {
   "cell_type": "code",
   "execution_count": 26,
   "id": "bb759635",
   "metadata": {
    "execution": {
     "iopub.execute_input": "2023-04-09T07:13:44.473338Z",
     "iopub.status.busy": "2023-04-09T07:13:44.472838Z",
     "iopub.status.idle": "2023-04-09T07:13:44.489317Z",
     "shell.execute_reply": "2023-04-09T07:13:44.488123Z"
    },
    "papermill": {
     "duration": 0.034223,
     "end_time": "2023-04-09T07:13:44.492263",
     "exception": false,
     "start_time": "2023-04-09T07:13:44.458040",
     "status": "completed"
    },
    "tags": []
   },
   "outputs": [
    {
     "data": {
      "text/plain": [
       "array([0, 0, 0, 0, 0, 0, 0, 0, 1, 0, 0, 0, 1, 0, 1, 1, 0, 0, 0, 0, 0, 1,\n",
       "       1, 1, 1, 0, 1, 0, 0, 0, 0, 0, 0, 0, 0, 0, 0, 0, 0, 0, 0, 1, 0, 1,\n",
       "       1, 0, 0, 0, 1, 1, 1, 0, 1, 1, 0, 0, 0, 0, 0, 1, 0, 0, 0, 0, 1, 1,\n",
       "       1, 0, 0, 1, 0, 0, 0, 0, 1, 0, 0, 1, 0, 0, 1, 0, 0, 0, 0, 0, 0, 0,\n",
       "       0, 1, 0, 0, 1, 0, 1, 0, 1, 0, 0, 0, 1, 0, 0, 0, 1, 0, 0, 0, 0, 0,\n",
       "       0, 0, 1, 1, 1, 0, 0, 1, 0, 1, 1, 0, 1, 0, 0, 0, 0, 1, 0, 0, 0, 0,\n",
       "       0, 1, 0, 0, 0, 0, 0, 0, 0, 1, 0, 0, 0, 0, 1, 0, 1, 0, 1, 0, 0, 0,\n",
       "       0, 0, 1, 0, 0, 0, 0, 1, 1, 0, 0, 0, 0, 0, 1, 0, 0, 0, 0, 0, 0, 1,\n",
       "       1, 0, 1, 1, 0, 0, 1, 0, 1, 0, 1, 0, 0, 0, 0, 1, 1, 0, 1, 0, 1, 1,\n",
       "       0, 0, 1, 1, 0, 1, 0, 1, 0, 0, 1, 0, 0, 0, 0, 1, 0, 0, 0, 0, 1, 0,\n",
       "       1, 0, 1, 0, 1, 0, 0, 0, 0, 0, 1, 1, 0, 0, 0, 0, 0, 0, 1, 1, 1, 1,\n",
       "       0, 0, 0, 0, 1, 0, 1, 0, 1, 0, 1, 0, 0, 0, 0, 0, 1, 0, 0, 0, 1, 1,\n",
       "       0, 0, 1, 0, 0, 0, 0, 0, 1, 0, 0, 1, 0, 0, 0, 0, 0, 1, 0, 0, 1, 0,\n",
       "       0, 1, 0, 0, 1, 0, 0, 0, 0, 0, 1, 0, 0, 0, 0, 0, 0, 0, 0, 1, 0, 1,\n",
       "       0, 0, 0, 0, 0, 0, 1, 1, 0, 0, 0, 0, 0, 0, 0, 0, 1, 0, 1, 0, 0, 0,\n",
       "       1, 0, 0, 0, 0, 0, 0, 0, 0, 0, 0, 0, 0, 1, 0, 1, 0, 0, 0, 1, 1, 0,\n",
       "       0, 0, 1, 0, 1, 0, 0, 0, 0, 1, 1, 0, 1, 0, 0, 0, 1, 0, 0, 1, 0, 0,\n",
       "       1, 1, 0, 0, 0, 0, 0, 0, 0, 0, 0, 1, 0, 0, 0, 0, 0, 1, 1, 0, 0, 1,\n",
       "       0, 1, 0, 0, 1, 0, 1, 0, 0, 0, 0, 0, 0, 1, 0, 1, 0, 0, 1, 0, 0, 0])"
      ]
     },
     "execution_count": 26,
     "metadata": {},
     "output_type": "execute_result"
    }
   ],
   "source": [
    "predictions = rf.predict(te)\n",
    "predictions"
   ]
  },
  {
   "cell_type": "code",
   "execution_count": 27,
   "id": "c3c27818",
   "metadata": {
    "execution": {
     "iopub.execute_input": "2023-04-09T07:13:44.516445Z",
     "iopub.status.busy": "2023-04-09T07:13:44.515535Z",
     "iopub.status.idle": "2023-04-09T07:13:44.526451Z",
     "shell.execute_reply": "2023-04-09T07:13:44.524858Z"
    },
    "papermill": {
     "duration": 0.026764,
     "end_time": "2023-04-09T07:13:44.529490",
     "exception": false,
     "start_time": "2023-04-09T07:13:44.502726",
     "status": "completed"
    },
    "tags": []
   },
   "outputs": [
    {
     "data": {
      "text/plain": [
       "0      0\n",
       "1      0\n",
       "2      0\n",
       "3      0\n",
       "4      0\n",
       "      ..\n",
       "413    0\n",
       "414    1\n",
       "415    0\n",
       "416    0\n",
       "417    0\n",
       "Name: Survived, Length: 418, dtype: int64"
      ]
     },
     "execution_count": 27,
     "metadata": {},
     "output_type": "execute_result"
    }
   ],
   "source": [
    "x=pd.Series(predictions)\n",
    "x.name='Survived'\n",
    "x"
   ]
  },
  {
   "cell_type": "code",
   "execution_count": 28,
   "id": "07549266",
   "metadata": {
    "execution": {
     "iopub.execute_input": "2023-04-09T07:13:44.554925Z",
     "iopub.status.busy": "2023-04-09T07:13:44.553100Z",
     "iopub.status.idle": "2023-04-09T07:13:44.559983Z",
     "shell.execute_reply": "2023-04-09T07:13:44.558956Z"
    },
    "papermill": {
     "duration": 0.021755,
     "end_time": "2023-04-09T07:13:44.562791",
     "exception": false,
     "start_time": "2023-04-09T07:13:44.541036",
     "status": "completed"
    },
    "tags": []
   },
   "outputs": [],
   "source": [
    "PassengerId=te['PassengerId']"
   ]
  },
  {
   "cell_type": "code",
   "execution_count": 29,
   "id": "5954f382",
   "metadata": {
    "execution": {
     "iopub.execute_input": "2023-04-09T07:13:44.585748Z",
     "iopub.status.busy": "2023-04-09T07:13:44.585332Z",
     "iopub.status.idle": "2023-04-09T07:13:44.602600Z",
     "shell.execute_reply": "2023-04-09T07:13:44.601398Z"
    },
    "papermill": {
     "duration": 0.032636,
     "end_time": "2023-04-09T07:13:44.605921",
     "exception": false,
     "start_time": "2023-04-09T07:13:44.573285",
     "status": "completed"
    },
    "tags": []
   },
   "outputs": [
    {
     "data": {
      "text/plain": [
       "(   PassengerId  Survived\n",
       " 0          892         0\n",
       " 1          893         0\n",
       " 2          894         0\n",
       " 3          895         0\n",
       " 4          896         0,\n",
       " (418, 2))"
      ]
     },
     "execution_count": 29,
     "metadata": {},
     "output_type": "execute_result"
    }
   ],
   "source": [
    "submission = pd.concat([PassengerId,pd.Series(predictions, name = 'Survived')],axis = 1)\n",
    "submission.head()\n",
    "submission.to_csv(\"submission.csv\",index=False)\n",
    "\n",
    "submission.head(),submission.shape"
   ]
  },
  {
   "cell_type": "code",
   "execution_count": 30,
   "id": "fd3f1e50",
   "metadata": {
    "execution": {
     "iopub.execute_input": "2023-04-09T07:13:44.632817Z",
     "iopub.status.busy": "2023-04-09T07:13:44.632414Z",
     "iopub.status.idle": "2023-04-09T07:13:44.648039Z",
     "shell.execute_reply": "2023-04-09T07:13:44.646515Z"
    },
    "papermill": {
     "duration": 0.033376,
     "end_time": "2023-04-09T07:13:44.651085",
     "exception": false,
     "start_time": "2023-04-09T07:13:44.617709",
     "status": "completed"
    },
    "tags": []
   },
   "outputs": [
    {
     "data": {
      "text/html": [
       "<div>\n",
       "<style scoped>\n",
       "    .dataframe tbody tr th:only-of-type {\n",
       "        vertical-align: middle;\n",
       "    }\n",
       "\n",
       "    .dataframe tbody tr th {\n",
       "        vertical-align: top;\n",
       "    }\n",
       "\n",
       "    .dataframe thead th {\n",
       "        text-align: right;\n",
       "    }\n",
       "</style>\n",
       "<table border=\"1\" class=\"dataframe\">\n",
       "  <thead>\n",
       "    <tr style=\"text-align: right;\">\n",
       "      <th></th>\n",
       "      <th>PassengerId</th>\n",
       "      <th>Survived</th>\n",
       "    </tr>\n",
       "  </thead>\n",
       "  <tbody>\n",
       "    <tr>\n",
       "      <th>0</th>\n",
       "      <td>892</td>\n",
       "      <td>0</td>\n",
       "    </tr>\n",
       "    <tr>\n",
       "      <th>1</th>\n",
       "      <td>893</td>\n",
       "      <td>0</td>\n",
       "    </tr>\n",
       "    <tr>\n",
       "      <th>2</th>\n",
       "      <td>894</td>\n",
       "      <td>0</td>\n",
       "    </tr>\n",
       "    <tr>\n",
       "      <th>3</th>\n",
       "      <td>895</td>\n",
       "      <td>0</td>\n",
       "    </tr>\n",
       "    <tr>\n",
       "      <th>4</th>\n",
       "      <td>896</td>\n",
       "      <td>0</td>\n",
       "    </tr>\n",
       "    <tr>\n",
       "      <th>...</th>\n",
       "      <td>...</td>\n",
       "      <td>...</td>\n",
       "    </tr>\n",
       "    <tr>\n",
       "      <th>413</th>\n",
       "      <td>1305</td>\n",
       "      <td>0</td>\n",
       "    </tr>\n",
       "    <tr>\n",
       "      <th>414</th>\n",
       "      <td>1306</td>\n",
       "      <td>1</td>\n",
       "    </tr>\n",
       "    <tr>\n",
       "      <th>415</th>\n",
       "      <td>1307</td>\n",
       "      <td>0</td>\n",
       "    </tr>\n",
       "    <tr>\n",
       "      <th>416</th>\n",
       "      <td>1308</td>\n",
       "      <td>0</td>\n",
       "    </tr>\n",
       "    <tr>\n",
       "      <th>417</th>\n",
       "      <td>1309</td>\n",
       "      <td>0</td>\n",
       "    </tr>\n",
       "  </tbody>\n",
       "</table>\n",
       "<p>418 rows × 2 columns</p>\n",
       "</div>"
      ],
      "text/plain": [
       "     PassengerId  Survived\n",
       "0            892         0\n",
       "1            893         0\n",
       "2            894         0\n",
       "3            895         0\n",
       "4            896         0\n",
       "..           ...       ...\n",
       "413         1305         0\n",
       "414         1306         1\n",
       "415         1307         0\n",
       "416         1308         0\n",
       "417         1309         0\n",
       "\n",
       "[418 rows x 2 columns]"
      ]
     },
     "execution_count": 30,
     "metadata": {},
     "output_type": "execute_result"
    }
   ],
   "source": [
    "a=pd.read_csv('/kaggle/working/submission.csv')\n",
    "a"
   ]
  }
 ],
 "metadata": {
  "kernelspec": {
   "display_name": "Python 3",
   "language": "python",
   "name": "python3"
  },
  "language_info": {
   "codemirror_mode": {
    "name": "ipython",
    "version": 3
   },
   "file_extension": ".py",
   "mimetype": "text/x-python",
   "name": "python",
   "nbconvert_exporter": "python",
   "pygments_lexer": "ipython3",
   "version": "3.7.12"
  },
  "papermill": {
   "default_parameters": {},
   "duration": 17.989133,
   "end_time": "2023-04-09T07:13:45.487688",
   "environment_variables": {},
   "exception": null,
   "input_path": "__notebook__.ipynb",
   "output_path": "__notebook__.ipynb",
   "parameters": {},
   "start_time": "2023-04-09T07:13:27.498555",
   "version": "2.4.0"
  }
 },
 "nbformat": 4,
 "nbformat_minor": 5
}
